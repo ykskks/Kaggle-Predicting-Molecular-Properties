{
 "cells": [
  {
   "cell_type": "markdown",
   "metadata": {},
   "source": [
    "### Just change the code to predict oof feature individually for each type "
   ]
  },
  {
   "cell_type": "code",
   "execution_count": 1,
   "metadata": {},
   "outputs": [],
   "source": [
    "import numpy as np\n",
    "import pandas as pd\n",
    "import feather\n",
    "from sklearn.model_selection import GroupKFold\n",
    "import lightgbm as lgb\n",
    "import gc\n",
    "\n",
    "import sys\n",
    "sys.path.append(\"./../\")\n",
    "from utils import reduce_mem_usage"
   ]
  },
  {
   "cell_type": "code",
   "execution_count": 2,
   "metadata": {},
   "outputs": [],
   "source": [
    "#実際予測時にはその化合物のデータは使えないので、厳密にはGroupKfoldで化合物ごとに分けるべき"
   ]
  },
  {
   "cell_type": "code",
   "execution_count": 3,
   "metadata": {},
   "outputs": [],
   "source": [
    "features = [\n",
    "        \"Atom\",\n",
    "        \"AtomPosition\",\n",
    "        \"AtomDistance\",\n",
    "        \"CouplingType\",\n",
    "        \"AtomEnvironment\",\n",
    "        \"AtomNeighbors\",\n",
    "        \"BruteForce\",\n",
    "        \"DistanceFromClosest\",\n",
    "        \"ElectroNegFromClosest\",\n",
    "        \"ACSF\",\n",
    "        \"MullikenChargePred\",\n",
    "        \"OpenBabelBasic\",\n",
    "        \"CosineDistance\",\n",
    "        \"PotentialPred\"]"
   ]
  },
  {
   "cell_type": "code",
   "execution_count": 4,
   "metadata": {},
   "outputs": [],
   "source": [
    "X_train = pd.concat([feather.read_dataframe(\"../features/\" + feature + \"_train.feather\") for feature in features], axis=1)\n",
    "X_test = pd.concat([feather.read_dataframe(\"../features/\" + feature + \"_test.feather\") for feature in features], axis=1)"
   ]
  },
  {
   "cell_type": "code",
   "execution_count": 5,
   "metadata": {},
   "outputs": [
    {
     "data": {
      "text/plain": [
       "((4658147, 486), (2505542, 486))"
      ]
     },
     "execution_count": 5,
     "metadata": {},
     "output_type": "execute_result"
    }
   ],
   "source": [
    "X_train.shape, X_test.shape"
   ]
  },
  {
   "cell_type": "code",
   "execution_count": 6,
   "metadata": {},
   "outputs": [
    {
     "data": {
      "text/html": [
       "<div>\n",
       "<style scoped>\n",
       "    .dataframe tbody tr th:only-of-type {\n",
       "        vertical-align: middle;\n",
       "    }\n",
       "\n",
       "    .dataframe tbody tr th {\n",
       "        vertical-align: top;\n",
       "    }\n",
       "\n",
       "    .dataframe thead th {\n",
       "        text-align: right;\n",
       "    }\n",
       "</style>\n",
       "<table border=\"1\" class=\"dataframe\">\n",
       "  <thead>\n",
       "    <tr style=\"text-align: right;\">\n",
       "      <th></th>\n",
       "      <th>atom_0</th>\n",
       "      <th>atom_1</th>\n",
       "      <th>x_0</th>\n",
       "      <th>x_1</th>\n",
       "      <th>y_0</th>\n",
       "      <th>y_1</th>\n",
       "      <th>z_0</th>\n",
       "      <th>z_1</th>\n",
       "      <th>atom_distance</th>\n",
       "      <th>dist_inv_0_sum</th>\n",
       "      <th>...</th>\n",
       "      <th>cos_c0_c1</th>\n",
       "      <th>cos_f0_f1</th>\n",
       "      <th>cos_center0_center1</th>\n",
       "      <th>cos_c0</th>\n",
       "      <th>cos_c1</th>\n",
       "      <th>cos_f0</th>\n",
       "      <th>cos_f1</th>\n",
       "      <th>cos_center0</th>\n",
       "      <th>cos_center1</th>\n",
       "      <th>potential_oof</th>\n",
       "    </tr>\n",
       "  </thead>\n",
       "  <tbody>\n",
       "    <tr>\n",
       "      <th>0</th>\n",
       "      <td>H</td>\n",
       "      <td>C</td>\n",
       "      <td>0.002150</td>\n",
       "      <td>-0.012698</td>\n",
       "      <td>-0.006031</td>\n",
       "      <td>1.085804</td>\n",
       "      <td>0.001976</td>\n",
       "      <td>0.008001</td>\n",
       "      <td>1.091953</td>\n",
       "      <td>1.297179</td>\n",
       "      <td>...</td>\n",
       "      <td>0.333335</td>\n",
       "      <td>-0.816502</td>\n",
       "      <td>-0.649313</td>\n",
       "      <td>-1.000000</td>\n",
       "      <td>-0.333335</td>\n",
       "      <td>-0.816502</td>\n",
       "      <td>1.000000</td>\n",
       "      <td>-1.000000</td>\n",
       "      <td>0.649319</td>\n",
       "      <td>-69.063046</td>\n",
       "    </tr>\n",
       "    <tr>\n",
       "      <th>1</th>\n",
       "      <td>H</td>\n",
       "      <td>H</td>\n",
       "      <td>0.002150</td>\n",
       "      <td>1.011731</td>\n",
       "      <td>-0.006031</td>\n",
       "      <td>1.463751</td>\n",
       "      <td>0.001976</td>\n",
       "      <td>0.000277</td>\n",
       "      <td>1.783120</td>\n",
       "      <td>1.297179</td>\n",
       "      <td>...</td>\n",
       "      <td>-0.333287</td>\n",
       "      <td>0.000016</td>\n",
       "      <td>-0.333304</td>\n",
       "      <td>-0.816483</td>\n",
       "      <td>0.816482</td>\n",
       "      <td>-0.499994</td>\n",
       "      <td>0.499995</td>\n",
       "      <td>-0.816487</td>\n",
       "      <td>0.816488</td>\n",
       "      <td>-69.063046</td>\n",
       "    </tr>\n",
       "    <tr>\n",
       "      <th>2</th>\n",
       "      <td>H</td>\n",
       "      <td>H</td>\n",
       "      <td>0.002150</td>\n",
       "      <td>-0.540815</td>\n",
       "      <td>-0.006031</td>\n",
       "      <td>1.447527</td>\n",
       "      <td>0.001976</td>\n",
       "      <td>-0.876644</td>\n",
       "      <td>1.783147</td>\n",
       "      <td>1.297179</td>\n",
       "      <td>...</td>\n",
       "      <td>-0.333335</td>\n",
       "      <td>-0.000016</td>\n",
       "      <td>-0.333335</td>\n",
       "      <td>-0.816498</td>\n",
       "      <td>0.816496</td>\n",
       "      <td>-0.500002</td>\n",
       "      <td>0.500018</td>\n",
       "      <td>-0.816496</td>\n",
       "      <td>0.816499</td>\n",
       "      <td>-69.063046</td>\n",
       "    </tr>\n",
       "    <tr>\n",
       "      <th>3</th>\n",
       "      <td>H</td>\n",
       "      <td>H</td>\n",
       "      <td>0.002150</td>\n",
       "      <td>-0.523814</td>\n",
       "      <td>-0.006031</td>\n",
       "      <td>1.437933</td>\n",
       "      <td>0.001976</td>\n",
       "      <td>0.906397</td>\n",
       "      <td>1.783157</td>\n",
       "      <td>1.297179</td>\n",
       "      <td>...</td>\n",
       "      <td>-0.333347</td>\n",
       "      <td>-1.000000</td>\n",
       "      <td>-0.333349</td>\n",
       "      <td>-0.816502</td>\n",
       "      <td>0.816500</td>\n",
       "      <td>-1.000000</td>\n",
       "      <td>1.000000</td>\n",
       "      <td>-0.816500</td>\n",
       "      <td>0.816503</td>\n",
       "      <td>-69.063046</td>\n",
       "    </tr>\n",
       "    <tr>\n",
       "      <th>4</th>\n",
       "      <td>H</td>\n",
       "      <td>C</td>\n",
       "      <td>1.011731</td>\n",
       "      <td>-0.012698</td>\n",
       "      <td>1.463751</td>\n",
       "      <td>1.085804</td>\n",
       "      <td>0.000277</td>\n",
       "      <td>0.008001</td>\n",
       "      <td>1.091952</td>\n",
       "      <td>1.120798</td>\n",
       "      <td>...</td>\n",
       "      <td>0.333352</td>\n",
       "      <td>-0.000028</td>\n",
       "      <td>-0.499068</td>\n",
       "      <td>-1.000000</td>\n",
       "      <td>-0.333352</td>\n",
       "      <td>-0.816503</td>\n",
       "      <td>-0.333287</td>\n",
       "      <td>-1.000000</td>\n",
       "      <td>0.499076</td>\n",
       "      <td>-69.063046</td>\n",
       "    </tr>\n",
       "  </tbody>\n",
       "</table>\n",
       "<p>5 rows × 486 columns</p>\n",
       "</div>"
      ],
      "text/plain": [
       "  atom_0 atom_1       x_0       x_1       y_0       y_1       z_0       z_1  \\\n",
       "0      H      C  0.002150 -0.012698 -0.006031  1.085804  0.001976  0.008001   \n",
       "1      H      H  0.002150  1.011731 -0.006031  1.463751  0.001976  0.000277   \n",
       "2      H      H  0.002150 -0.540815 -0.006031  1.447527  0.001976 -0.876644   \n",
       "3      H      H  0.002150 -0.523814 -0.006031  1.437933  0.001976  0.906397   \n",
       "4      H      C  1.011731 -0.012698  1.463751  1.085804  0.000277  0.008001   \n",
       "\n",
       "   atom_distance  dist_inv_0_sum  ...  cos_c0_c1  cos_f0_f1  \\\n",
       "0       1.091953        1.297179  ...   0.333335  -0.816502   \n",
       "1       1.783120        1.297179  ...  -0.333287   0.000016   \n",
       "2       1.783147        1.297179  ...  -0.333335  -0.000016   \n",
       "3       1.783157        1.297179  ...  -0.333347  -1.000000   \n",
       "4       1.091952        1.120798  ...   0.333352  -0.000028   \n",
       "\n",
       "   cos_center0_center1    cos_c0    cos_c1    cos_f0    cos_f1  cos_center0  \\\n",
       "0            -0.649313 -1.000000 -0.333335 -0.816502  1.000000    -1.000000   \n",
       "1            -0.333304 -0.816483  0.816482 -0.499994  0.499995    -0.816487   \n",
       "2            -0.333335 -0.816498  0.816496 -0.500002  0.500018    -0.816496   \n",
       "3            -0.333349 -0.816502  0.816500 -1.000000  1.000000    -0.816500   \n",
       "4            -0.499068 -1.000000 -0.333352 -0.816503 -0.333287    -1.000000   \n",
       "\n",
       "   cos_center1  potential_oof  \n",
       "0     0.649319     -69.063046  \n",
       "1     0.816488     -69.063046  \n",
       "2     0.816499     -69.063046  \n",
       "3     0.816503     -69.063046  \n",
       "4     0.499076     -69.063046  \n",
       "\n",
       "[5 rows x 486 columns]"
      ]
     },
     "execution_count": 6,
     "metadata": {},
     "output_type": "execute_result"
    }
   ],
   "source": [
    "X_train.head()"
   ]
  },
  {
   "cell_type": "code",
   "execution_count": 7,
   "metadata": {},
   "outputs": [],
   "source": [
    "contri = feather.read_dataframe(\"../data/input/scalar_coupling_contributions.feather\")"
   ]
  },
  {
   "cell_type": "code",
   "execution_count": 8,
   "metadata": {},
   "outputs": [
    {
     "data": {
      "text/html": [
       "<div>\n",
       "<style scoped>\n",
       "    .dataframe tbody tr th:only-of-type {\n",
       "        vertical-align: middle;\n",
       "    }\n",
       "\n",
       "    .dataframe tbody tr th {\n",
       "        vertical-align: top;\n",
       "    }\n",
       "\n",
       "    .dataframe thead th {\n",
       "        text-align: right;\n",
       "    }\n",
       "</style>\n",
       "<table border=\"1\" class=\"dataframe\">\n",
       "  <thead>\n",
       "    <tr style=\"text-align: right;\">\n",
       "      <th></th>\n",
       "      <th>molecule_name</th>\n",
       "      <th>atom_index_0</th>\n",
       "      <th>atom_index_1</th>\n",
       "      <th>type</th>\n",
       "      <th>fc</th>\n",
       "      <th>sd</th>\n",
       "      <th>pso</th>\n",
       "      <th>dso</th>\n",
       "    </tr>\n",
       "  </thead>\n",
       "  <tbody>\n",
       "    <tr>\n",
       "      <th>0</th>\n",
       "      <td>dsgdb9nsd_000001</td>\n",
       "      <td>1</td>\n",
       "      <td>0</td>\n",
       "      <td>1JHC</td>\n",
       "      <td>83.0224</td>\n",
       "      <td>0.254579</td>\n",
       "      <td>1.25862</td>\n",
       "      <td>0.272010</td>\n",
       "    </tr>\n",
       "    <tr>\n",
       "      <th>1</th>\n",
       "      <td>dsgdb9nsd_000001</td>\n",
       "      <td>1</td>\n",
       "      <td>2</td>\n",
       "      <td>2JHH</td>\n",
       "      <td>-11.0347</td>\n",
       "      <td>0.352978</td>\n",
       "      <td>2.85839</td>\n",
       "      <td>-3.433600</td>\n",
       "    </tr>\n",
       "    <tr>\n",
       "      <th>2</th>\n",
       "      <td>dsgdb9nsd_000001</td>\n",
       "      <td>1</td>\n",
       "      <td>3</td>\n",
       "      <td>2JHH</td>\n",
       "      <td>-11.0325</td>\n",
       "      <td>0.352944</td>\n",
       "      <td>2.85852</td>\n",
       "      <td>-3.433870</td>\n",
       "    </tr>\n",
       "    <tr>\n",
       "      <th>3</th>\n",
       "      <td>dsgdb9nsd_000001</td>\n",
       "      <td>1</td>\n",
       "      <td>4</td>\n",
       "      <td>2JHH</td>\n",
       "      <td>-11.0319</td>\n",
       "      <td>0.352934</td>\n",
       "      <td>2.85855</td>\n",
       "      <td>-3.433930</td>\n",
       "    </tr>\n",
       "    <tr>\n",
       "      <th>4</th>\n",
       "      <td>dsgdb9nsd_000001</td>\n",
       "      <td>2</td>\n",
       "      <td>0</td>\n",
       "      <td>1JHC</td>\n",
       "      <td>83.0222</td>\n",
       "      <td>0.254585</td>\n",
       "      <td>1.25861</td>\n",
       "      <td>0.272013</td>\n",
       "    </tr>\n",
       "  </tbody>\n",
       "</table>\n",
       "</div>"
      ],
      "text/plain": [
       "      molecule_name  atom_index_0  atom_index_1  type       fc        sd  \\\n",
       "0  dsgdb9nsd_000001             1             0  1JHC  83.0224  0.254579   \n",
       "1  dsgdb9nsd_000001             1             2  2JHH -11.0347  0.352978   \n",
       "2  dsgdb9nsd_000001             1             3  2JHH -11.0325  0.352944   \n",
       "3  dsgdb9nsd_000001             1             4  2JHH -11.0319  0.352934   \n",
       "4  dsgdb9nsd_000001             2             0  1JHC  83.0222  0.254585   \n",
       "\n",
       "       pso       dso  \n",
       "0  1.25862  0.272010  \n",
       "1  2.85839 -3.433600  \n",
       "2  2.85852 -3.433870  \n",
       "3  2.85855 -3.433930  \n",
       "4  1.25861  0.272013  "
      ]
     },
     "execution_count": 8,
     "metadata": {},
     "output_type": "execute_result"
    }
   ],
   "source": [
    "contri.head()"
   ]
  },
  {
   "cell_type": "code",
   "execution_count": 9,
   "metadata": {},
   "outputs": [
    {
     "name": "stdout",
     "output_type": "stream",
     "text": [
      "Starting atom_0\n",
      "Starting atom_1\n",
      "Starting type\n",
      "Starting a1_is_aromatic\n",
      "Starting a1_in_ring\n",
      "Starting a1_in_ring3\n",
      "Starting a1_in_ring4\n",
      "Starting a1_in_ring5\n",
      "Starting a1_in_ring6\n",
      "Starting a1_in_ring7\n",
      "Starting a1_in_ring8\n",
      "Starting bond_atom\n",
      "Starting tertiary_atom_0\n",
      "Starting tertiary_atom_1\n",
      "Starting tertiary_atom_2\n",
      "Starting tertiary_atom_3\n",
      "Starting tertiary_atom_4\n",
      "Starting tertiary_atom_5\n",
      "Starting tertiary_atom_6\n",
      "Starting tertiary_atom_7\n",
      "Starting tertiary_atom_8\n",
      "Starting tertiary_atom_9\n"
     ]
    }
   ],
   "source": [
    "# keep nan as is\n",
    "#coupling_types = X_train['type']\n",
    "categorical_cols = list(X_train.columns[X_train.dtypes == object])\n",
    "\n",
    "\n",
    "for col in categorical_cols:    \n",
    "    print(f'Starting {col}')\n",
    "    uniques = list(X_train[col].unique())\n",
    "    if None in uniques:\n",
    "        uniques.remove(None)\n",
    "    mapping = dict(zip(uniques, range(1, len(uniques)+1)))\n",
    "    X_train[col] = X_train[col].map(mapping)\n",
    "    X_test[col] = X_test[col].map(mapping)"
   ]
  },
  {
   "cell_type": "code",
   "execution_count": 10,
   "metadata": {},
   "outputs": [
    {
     "name": "stdout",
     "output_type": "stream",
     "text": [
      "Memory usage of dataframe is 16312.33 MB\n",
      "Memory usage after optimization is: 8538.21 MB\n",
      "Decreased by 47.7%\n",
      "Memory usage of dataframe is 8764.58 MB\n",
      "Memory usage after optimization is: 4575.84 MB\n",
      "Decreased by 47.8%\n"
     ]
    }
   ],
   "source": [
    "X_train = reduce_mem_usage(X_train)\n",
    "X_test = reduce_mem_usage(X_test)"
   ]
  },
  {
   "cell_type": "code",
   "execution_count": 11,
   "metadata": {},
   "outputs": [
    {
     "data": {
      "text/plain": [
       "0"
      ]
     },
     "execution_count": 11,
     "metadata": {},
     "output_type": "execute_result"
    }
   ],
   "source": [
    "gc.collect()"
   ]
  },
  {
   "cell_type": "code",
   "execution_count": 12,
   "metadata": {},
   "outputs": [],
   "source": [
    "train_types = X_train['type'].values\n",
    "test_types = X_test['type'].values"
   ]
  },
  {
   "cell_type": "code",
   "execution_count": 13,
   "metadata": {
    "scrolled": true
   },
   "outputs": [
    {
     "name": "stderr",
     "output_type": "stream",
     "text": [
      "C:\\Users\\kohei\\Anaconda3\\lib\\site-packages\\lightgbm\\basic.py:1205: UserWarning: Using categorical_feature in Dataset.\n",
      "  warnings.warn('Using categorical_feature in Dataset.')\n",
      "C:\\Users\\kohei\\Anaconda3\\lib\\site-packages\\lightgbm\\basic.py:762: UserWarning: categorical_feature in param dict is overridden.\n",
      "  warnings.warn('categorical_feature in param dict is overridden.')\n"
     ]
    },
    {
     "name": "stdout",
     "output_type": "stream",
     "text": [
      "Training until validation scores don't improve for 100 rounds.\n",
      "[1000]\ttraining's l1: 0.403637\tvalid_1's l1: 0.763418\n",
      "[2000]\ttraining's l1: 0.233837\tvalid_1's l1: 0.72765\n",
      "[3000]\ttraining's l1: 0.147417\tvalid_1's l1: 0.716215\n",
      "[4000]\ttraining's l1: 0.0967549\tvalid_1's l1: 0.711107\n",
      "[5000]\ttraining's l1: 0.065312\tvalid_1's l1: 0.708594\n",
      "[6000]\ttraining's l1: 0.0450368\tvalid_1's l1: 0.707206\n",
      "[7000]\ttraining's l1: 0.0315582\tvalid_1's l1: 0.706468\n",
      "[8000]\ttraining's l1: 0.0224226\tvalid_1's l1: 0.705996\n",
      "[9000]\ttraining's l1: 0.0160858\tvalid_1's l1: 0.705731\n",
      "[10000]\ttraining's l1: 0.0117098\tvalid_1's l1: 0.705565\n",
      "Did not meet early stopping. Best iteration is:\n",
      "[10000]\ttraining's l1: 0.0117098\tvalid_1's l1: 0.705565\n",
      "Training until validation scores don't improve for 100 rounds.\n",
      "[1000]\ttraining's l1: 0.403257\tvalid_1's l1: 0.767631\n",
      "[2000]\ttraining's l1: 0.233933\tvalid_1's l1: 0.732686\n",
      "[3000]\ttraining's l1: 0.147655\tvalid_1's l1: 0.72111\n",
      "[4000]\ttraining's l1: 0.0973058\tvalid_1's l1: 0.716081\n",
      "[5000]\ttraining's l1: 0.0658243\tvalid_1's l1: 0.713521\n",
      "[6000]\ttraining's l1: 0.0453079\tvalid_1's l1: 0.712107\n",
      "[7000]\ttraining's l1: 0.0316253\tvalid_1's l1: 0.711297\n",
      "[8000]\ttraining's l1: 0.0224442\tvalid_1's l1: 0.710821\n",
      "[9000]\ttraining's l1: 0.0161129\tvalid_1's l1: 0.710553\n",
      "[10000]\ttraining's l1: 0.0117298\tvalid_1's l1: 0.710397\n",
      "Did not meet early stopping. Best iteration is:\n",
      "[10000]\ttraining's l1: 0.0117298\tvalid_1's l1: 0.710397\n",
      "1 for fc done!\n"
     ]
    },
    {
     "name": "stderr",
     "output_type": "stream",
     "text": [
      "C:\\Users\\kohei\\Anaconda3\\lib\\site-packages\\lightgbm\\basic.py:1205: UserWarning: Using categorical_feature in Dataset.\n",
      "  warnings.warn('Using categorical_feature in Dataset.')\n",
      "C:\\Users\\kohei\\Anaconda3\\lib\\site-packages\\lightgbm\\basic.py:762: UserWarning: categorical_feature in param dict is overridden.\n",
      "  warnings.warn('categorical_feature in param dict is overridden.')\n"
     ]
    },
    {
     "name": "stdout",
     "output_type": "stream",
     "text": [
      "Training until validation scores don't improve for 100 rounds.\n",
      "[1000]\ttraining's l1: 0.062919\tvalid_1's l1: 0.184902\n",
      "[2000]\ttraining's l1: 0.0278901\tvalid_1's l1: 0.180833\n",
      "[3000]\ttraining's l1: 0.0138185\tvalid_1's l1: 0.179842\n",
      "[4000]\ttraining's l1: 0.00741878\tvalid_1's l1: 0.179469\n",
      "[5000]\ttraining's l1: 0.00429224\tvalid_1's l1: 0.179339\n",
      "[6000]\ttraining's l1: 0.00267842\tvalid_1's l1: 0.179278\n",
      "[7000]\ttraining's l1: 0.00179722\tvalid_1's l1: 0.179248\n",
      "[8000]\ttraining's l1: 0.001288\tvalid_1's l1: 0.179231\n",
      "[9000]\ttraining's l1: 0.000976825\tvalid_1's l1: 0.179223\n",
      "[10000]\ttraining's l1: 0.000780628\tvalid_1's l1: 0.179217\n",
      "Did not meet early stopping. Best iteration is:\n",
      "[10000]\ttraining's l1: 0.000780628\tvalid_1's l1: 0.179217\n",
      "Training until validation scores don't improve for 100 rounds.\n",
      "[1000]\ttraining's l1: 0.0637084\tvalid_1's l1: 0.184399\n",
      "[2000]\ttraining's l1: 0.0282191\tvalid_1's l1: 0.180356\n",
      "[3000]\ttraining's l1: 0.0139963\tvalid_1's l1: 0.179307\n",
      "[4000]\ttraining's l1: 0.00751977\tvalid_1's l1: 0.17898\n",
      "[5000]\ttraining's l1: 0.00433333\tvalid_1's l1: 0.178837\n",
      "[6000]\ttraining's l1: 0.00269849\tvalid_1's l1: 0.178778\n",
      "[7000]\ttraining's l1: 0.00181005\tvalid_1's l1: 0.178747\n",
      "[8000]\ttraining's l1: 0.00129751\tvalid_1's l1: 0.178731\n",
      "[9000]\ttraining's l1: 0.000982671\tvalid_1's l1: 0.178721\n",
      "[10000]\ttraining's l1: 0.000784847\tvalid_1's l1: 0.178715\n",
      "Did not meet early stopping. Best iteration is:\n",
      "[10000]\ttraining's l1: 0.000784847\tvalid_1's l1: 0.178715\n",
      "2 for fc done!\n"
     ]
    },
    {
     "name": "stderr",
     "output_type": "stream",
     "text": [
      "C:\\Users\\kohei\\Anaconda3\\lib\\site-packages\\lightgbm\\basic.py:1205: UserWarning: Using categorical_feature in Dataset.\n",
      "  warnings.warn('Using categorical_feature in Dataset.')\n",
      "C:\\Users\\kohei\\Anaconda3\\lib\\site-packages\\lightgbm\\basic.py:762: UserWarning: categorical_feature in param dict is overridden.\n",
      "  warnings.warn('categorical_feature in param dict is overridden.')\n"
     ]
    },
    {
     "name": "stdout",
     "output_type": "stream",
     "text": [
      "Training until validation scores don't improve for 100 rounds.\n",
      "[1000]\ttraining's l1: 0.0419561\tvalid_1's l1: 0.426344\n",
      "[2000]\ttraining's l1: 0.007013\tvalid_1's l1: 0.425047\n",
      "Early stopping, best iteration is:\n",
      "[2457]\ttraining's l1: 0.00325456\tvalid_1's l1: 0.424969\n",
      "Training until validation scores don't improve for 100 rounds.\n",
      "[1000]\ttraining's l1: 0.0432466\tvalid_1's l1: 0.428384\n",
      "[2000]\ttraining's l1: 0.00970874\tvalid_1's l1: 0.426446\n",
      "[3000]\ttraining's l1: 0.00251633\tvalid_1's l1: 0.426313\n",
      "Early stopping, best iteration is:\n",
      "[3117]\ttraining's l1: 0.00222196\tvalid_1's l1: 0.426298\n",
      "3 for fc done!\n"
     ]
    },
    {
     "name": "stderr",
     "output_type": "stream",
     "text": [
      "C:\\Users\\kohei\\Anaconda3\\lib\\site-packages\\lightgbm\\basic.py:1205: UserWarning: Using categorical_feature in Dataset.\n",
      "  warnings.warn('Using categorical_feature in Dataset.')\n",
      "C:\\Users\\kohei\\Anaconda3\\lib\\site-packages\\lightgbm\\basic.py:762: UserWarning: categorical_feature in param dict is overridden.\n",
      "  warnings.warn('categorical_feature in param dict is overridden.')\n"
     ]
    },
    {
     "name": "stdout",
     "output_type": "stream",
     "text": [
      "Training until validation scores don't improve for 100 rounds.\n",
      "[1000]\ttraining's l1: 0.0234224\tvalid_1's l1: 0.222174\n",
      "[2000]\ttraining's l1: 0.00424112\tvalid_1's l1: 0.22123\n",
      "[3000]\ttraining's l1: 0.00143158\tvalid_1's l1: 0.221148\n",
      "[4000]\ttraining's l1: 0.000884851\tvalid_1's l1: 0.221137\n",
      "[5000]\ttraining's l1: 0.000720024\tvalid_1's l1: 0.221133\n",
      "Early stopping, best iteration is:\n",
      "[5081]\ttraining's l1: 0.000711314\tvalid_1's l1: 0.221133\n",
      "Training until validation scores don't improve for 100 rounds.\n",
      "[1000]\ttraining's l1: 0.0246843\tvalid_1's l1: 0.217586\n",
      "[2000]\ttraining's l1: 0.00443848\tvalid_1's l1: 0.216519\n",
      "[3000]\ttraining's l1: 0.00146053\tvalid_1's l1: 0.216428\n",
      "[4000]\ttraining's l1: 0.000889913\tvalid_1's l1: 0.216417\n",
      "[5000]\ttraining's l1: 0.000722934\tvalid_1's l1: 0.216412\n",
      "Early stopping, best iteration is:\n",
      "[5431]\ttraining's l1: 0.000680864\tvalid_1's l1: 0.21641\n",
      "4 for fc done!\n"
     ]
    },
    {
     "name": "stderr",
     "output_type": "stream",
     "text": [
      "C:\\Users\\kohei\\Anaconda3\\lib\\site-packages\\lightgbm\\basic.py:1205: UserWarning: Using categorical_feature in Dataset.\n",
      "  warnings.warn('Using categorical_feature in Dataset.')\n",
      "C:\\Users\\kohei\\Anaconda3\\lib\\site-packages\\lightgbm\\basic.py:762: UserWarning: categorical_feature in param dict is overridden.\n",
      "  warnings.warn('categorical_feature in param dict is overridden.')\n"
     ]
    },
    {
     "name": "stdout",
     "output_type": "stream",
     "text": [
      "Training until validation scores don't improve for 100 rounds.\n",
      "[1000]\ttraining's l1: 0.209425\tvalid_1's l1: 0.325398\n",
      "[2000]\ttraining's l1: 0.137519\tvalid_1's l1: 0.305349\n",
      "[3000]\ttraining's l1: 0.0977807\tvalid_1's l1: 0.297735\n",
      "[4000]\ttraining's l1: 0.0720907\tvalid_1's l1: 0.294264\n",
      "[5000]\ttraining's l1: 0.054438\tvalid_1's l1: 0.292373\n",
      "[6000]\ttraining's l1: 0.0417388\tvalid_1's l1: 0.291269\n",
      "[7000]\ttraining's l1: 0.0323391\tvalid_1's l1: 0.290535\n",
      "[8000]\ttraining's l1: 0.0252822\tvalid_1's l1: 0.290061\n",
      "[9000]\ttraining's l1: 0.0199424\tvalid_1's l1: 0.289742\n",
      "[10000]\ttraining's l1: 0.0158996\tvalid_1's l1: 0.2895\n",
      "Did not meet early stopping. Best iteration is:\n",
      "[10000]\ttraining's l1: 0.0158996\tvalid_1's l1: 0.2895\n",
      "Training until validation scores don't improve for 100 rounds.\n",
      "[1000]\ttraining's l1: 0.210588\tvalid_1's l1: 0.328903\n",
      "[2000]\ttraining's l1: 0.138689\tvalid_1's l1: 0.308867\n",
      "[3000]\ttraining's l1: 0.0985682\tvalid_1's l1: 0.301406\n",
      "[4000]\ttraining's l1: 0.072631\tvalid_1's l1: 0.297894\n",
      "[5000]\ttraining's l1: 0.0547159\tvalid_1's l1: 0.295928\n",
      "[6000]\ttraining's l1: 0.0419003\tvalid_1's l1: 0.29472\n",
      "[7000]\ttraining's l1: 0.0324624\tvalid_1's l1: 0.293986\n",
      "[8000]\ttraining's l1: 0.0254239\tvalid_1's l1: 0.293515\n",
      "[9000]\ttraining's l1: 0.0200691\tvalid_1's l1: 0.293145\n",
      "[10000]\ttraining's l1: 0.015987\tvalid_1's l1: 0.292918\n",
      "Did not meet early stopping. Best iteration is:\n",
      "[10000]\ttraining's l1: 0.015987\tvalid_1's l1: 0.292918\n",
      "5 for fc done!\n"
     ]
    },
    {
     "name": "stderr",
     "output_type": "stream",
     "text": [
      "C:\\Users\\kohei\\Anaconda3\\lib\\site-packages\\lightgbm\\basic.py:1205: UserWarning: Using categorical_feature in Dataset.\n",
      "  warnings.warn('Using categorical_feature in Dataset.')\n",
      "C:\\Users\\kohei\\Anaconda3\\lib\\site-packages\\lightgbm\\basic.py:762: UserWarning: categorical_feature in param dict is overridden.\n",
      "  warnings.warn('categorical_feature in param dict is overridden.')\n"
     ]
    },
    {
     "name": "stdout",
     "output_type": "stream",
     "text": [
      "Training until validation scores don't improve for 100 rounds.\n",
      "[1000]\ttraining's l1: 0.0918515\tvalid_1's l1: 0.193058\n",
      "[2000]\ttraining's l1: 0.0495928\tvalid_1's l1: 0.185938\n",
      "[3000]\ttraining's l1: 0.0294445\tvalid_1's l1: 0.183791\n",
      "[4000]\ttraining's l1: 0.0183286\tvalid_1's l1: 0.182939\n",
      "[5000]\ttraining's l1: 0.0118303\tvalid_1's l1: 0.182538\n",
      "[6000]\ttraining's l1: 0.00788397\tvalid_1's l1: 0.18235\n",
      "[7000]\ttraining's l1: 0.00542029\tvalid_1's l1: 0.182239\n",
      "[8000]\ttraining's l1: 0.0038524\tvalid_1's l1: 0.182175\n",
      "[9000]\ttraining's l1: 0.00282358\tvalid_1's l1: 0.182135\n",
      "[10000]\ttraining's l1: 0.00213175\tvalid_1's l1: 0.182109\n",
      "Did not meet early stopping. Best iteration is:\n",
      "[10000]\ttraining's l1: 0.00213175\tvalid_1's l1: 0.182109\n",
      "Training until validation scores don't improve for 100 rounds.\n",
      "[1000]\ttraining's l1: 0.0920735\tvalid_1's l1: 0.19367\n",
      "[2000]\ttraining's l1: 0.0495971\tvalid_1's l1: 0.186289\n",
      "[3000]\ttraining's l1: 0.0294382\tvalid_1's l1: 0.184157\n",
      "[4000]\ttraining's l1: 0.0183617\tvalid_1's l1: 0.183269\n",
      "[5000]\ttraining's l1: 0.0118578\tvalid_1's l1: 0.182838\n",
      "[6000]\ttraining's l1: 0.00791349\tvalid_1's l1: 0.182632\n",
      "[7000]\ttraining's l1: 0.00544537\tvalid_1's l1: 0.182526\n",
      "[8000]\ttraining's l1: 0.00386882\tvalid_1's l1: 0.182463\n",
      "[9000]\ttraining's l1: 0.00283962\tvalid_1's l1: 0.182422\n",
      "[10000]\ttraining's l1: 0.00214934\tvalid_1's l1: 0.182398\n",
      "Did not meet early stopping. Best iteration is:\n",
      "[10000]\ttraining's l1: 0.00214934\tvalid_1's l1: 0.182398\n",
      "6 for fc done!\n"
     ]
    },
    {
     "name": "stderr",
     "output_type": "stream",
     "text": [
      "C:\\Users\\kohei\\Anaconda3\\lib\\site-packages\\lightgbm\\basic.py:1205: UserWarning: Using categorical_feature in Dataset.\n",
      "  warnings.warn('Using categorical_feature in Dataset.')\n",
      "C:\\Users\\kohei\\Anaconda3\\lib\\site-packages\\lightgbm\\basic.py:762: UserWarning: categorical_feature in param dict is overridden.\n",
      "  warnings.warn('categorical_feature in param dict is overridden.')\n"
     ]
    },
    {
     "name": "stdout",
     "output_type": "stream",
     "text": [
      "Training until validation scores don't improve for 100 rounds.\n",
      "[1000]\ttraining's l1: 0.257467\tvalid_1's l1: 0.361857\n",
      "[2000]\ttraining's l1: 0.181363\tvalid_1's l1: 0.337879\n",
      "[3000]\ttraining's l1: 0.136858\tvalid_1's l1: 0.328616\n",
      "[4000]\ttraining's l1: 0.106455\tvalid_1's l1: 0.323992\n",
      "[5000]\ttraining's l1: 0.0843479\tvalid_1's l1: 0.321274\n",
      "[6000]\ttraining's l1: 0.0676794\tvalid_1's l1: 0.319518\n",
      "[7000]\ttraining's l1: 0.0548247\tvalid_1's l1: 0.318321\n",
      "[8000]\ttraining's l1: 0.0448223\tvalid_1's l1: 0.317547\n",
      "[9000]\ttraining's l1: 0.0368317\tvalid_1's l1: 0.316944\n",
      "[10000]\ttraining's l1: 0.0304521\tvalid_1's l1: 0.316524\n",
      "Did not meet early stopping. Best iteration is:\n",
      "[10000]\ttraining's l1: 0.0304521\tvalid_1's l1: 0.316524\n",
      "Training until validation scores don't improve for 100 rounds.\n",
      "[1000]\ttraining's l1: 0.258893\tvalid_1's l1: 0.361687\n",
      "[2000]\ttraining's l1: 0.182415\tvalid_1's l1: 0.33746\n",
      "[3000]\ttraining's l1: 0.137493\tvalid_1's l1: 0.328288\n",
      "[4000]\ttraining's l1: 0.107085\tvalid_1's l1: 0.323646\n",
      "[5000]\ttraining's l1: 0.0848162\tvalid_1's l1: 0.320852\n",
      "[6000]\ttraining's l1: 0.0680704\tvalid_1's l1: 0.319028\n",
      "[7000]\ttraining's l1: 0.0551765\tvalid_1's l1: 0.317871\n",
      "[8000]\ttraining's l1: 0.0450685\tvalid_1's l1: 0.317033\n",
      "[9000]\ttraining's l1: 0.0370954\tvalid_1's l1: 0.31649\n",
      "[10000]\ttraining's l1: 0.0306803\tvalid_1's l1: 0.316053\n",
      "Did not meet early stopping. Best iteration is:\n",
      "[10000]\ttraining's l1: 0.0306803\tvalid_1's l1: 0.316053\n",
      "7 for fc done!\n"
     ]
    },
    {
     "name": "stderr",
     "output_type": "stream",
     "text": [
      "C:\\Users\\kohei\\Anaconda3\\lib\\site-packages\\lightgbm\\basic.py:1205: UserWarning: Using categorical_feature in Dataset.\n",
      "  warnings.warn('Using categorical_feature in Dataset.')\n",
      "C:\\Users\\kohei\\Anaconda3\\lib\\site-packages\\lightgbm\\basic.py:762: UserWarning: categorical_feature in param dict is overridden.\n",
      "  warnings.warn('categorical_feature in param dict is overridden.')\n"
     ]
    },
    {
     "name": "stdout",
     "output_type": "stream",
     "text": [
      "Training until validation scores don't improve for 100 rounds.\n",
      "[1000]\ttraining's l1: 0.0225426\tvalid_1's l1: 0.147342\n",
      "[2000]\ttraining's l1: 0.00551618\tvalid_1's l1: 0.146249\n",
      "[3000]\ttraining's l1: 0.00203613\tvalid_1's l1: 0.146118\n",
      "[4000]\ttraining's l1: 0.00107112\tvalid_1's l1: 0.146085\n",
      "[5000]\ttraining's l1: 0.000776268\tvalid_1's l1: 0.146076\n",
      "Early stopping, best iteration is:\n",
      "[5223]\ttraining's l1: 0.000742176\tvalid_1's l1: 0.146075\n",
      "Training until validation scores don't improve for 100 rounds.\n",
      "[1000]\ttraining's l1: 0.0219129\tvalid_1's l1: 0.146555\n",
      "[2000]\ttraining's l1: 0.00544426\tvalid_1's l1: 0.145486\n",
      "[3000]\ttraining's l1: 0.00202711\tvalid_1's l1: 0.145358\n",
      "[4000]\ttraining's l1: 0.00107081\tvalid_1's l1: 0.145328\n",
      "[5000]\ttraining's l1: 0.000779152\tvalid_1's l1: 0.145321\n",
      "Early stopping, best iteration is:\n",
      "[5006]\ttraining's l1: 0.000778294\tvalid_1's l1: 0.145321\n",
      "8 for fc done!\n"
     ]
    },
    {
     "name": "stderr",
     "output_type": "stream",
     "text": [
      "C:\\Users\\kohei\\Anaconda3\\lib\\site-packages\\lightgbm\\basic.py:1205: UserWarning: Using categorical_feature in Dataset.\n",
      "  warnings.warn('Using categorical_feature in Dataset.')\n",
      "C:\\Users\\kohei\\Anaconda3\\lib\\site-packages\\lightgbm\\basic.py:762: UserWarning: categorical_feature in param dict is overridden.\n",
      "  warnings.warn('categorical_feature in param dict is overridden.')\n"
     ]
    },
    {
     "name": "stdout",
     "output_type": "stream",
     "text": [
      "Training until validation scores don't improve for 100 rounds.\n",
      "[1000]\ttraining's l1: 0.00241724\tvalid_1's l1: 0.00434355\n",
      "[2000]\ttraining's l1: 0.00156902\tvalid_1's l1: 0.00413556\n",
      "[3000]\ttraining's l1: 0.00114078\tvalid_1's l1: 0.00406329\n",
      "[4000]\ttraining's l1: 0.000884206\tvalid_1's l1: 0.00403147\n",
      "[5000]\ttraining's l1: 0.000717491\tvalid_1's l1: 0.00401379\n",
      "[6000]\ttraining's l1: 0.000603153\tvalid_1's l1: 0.00400444\n",
      "[7000]\ttraining's l1: 0.000524023\tvalid_1's l1: 0.0039982\n",
      "[8000]\ttraining's l1: 0.000470101\tvalid_1's l1: 0.00399456\n",
      "[9000]\ttraining's l1: 0.000433945\tvalid_1's l1: 0.00399205\n",
      "[10000]\ttraining's l1: 0.000408152\tvalid_1's l1: 0.00399025\n",
      "Did not meet early stopping. Best iteration is:\n",
      "[10000]\ttraining's l1: 0.000408152\tvalid_1's l1: 0.00399025\n",
      "Training until validation scores don't improve for 100 rounds.\n",
      "[1000]\ttraining's l1: 0.00249413\tvalid_1's l1: 0.00438986\n",
      "[2000]\ttraining's l1: 0.00161282\tvalid_1's l1: 0.0041781\n",
      "[3000]\ttraining's l1: 0.00116566\tvalid_1's l1: 0.00410751\n",
      "[4000]\ttraining's l1: 0.000901086\tvalid_1's l1: 0.00407457\n",
      "[5000]\ttraining's l1: 0.000728442\tvalid_1's l1: 0.00405703\n",
      "[6000]\ttraining's l1: 0.000611424\tvalid_1's l1: 0.0040472\n",
      "[7000]\ttraining's l1: 0.000529517\tvalid_1's l1: 0.00404142\n",
      "[8000]\ttraining's l1: 0.000473754\tvalid_1's l1: 0.00403772\n",
      "[9000]\ttraining's l1: 0.000436315\tvalid_1's l1: 0.00403526\n",
      "[10000]\ttraining's l1: 0.000409748\tvalid_1's l1: 0.00403333\n",
      "Did not meet early stopping. Best iteration is:\n",
      "[10000]\ttraining's l1: 0.000409748\tvalid_1's l1: 0.00403333\n",
      "1 for sd done!\n"
     ]
    },
    {
     "name": "stderr",
     "output_type": "stream",
     "text": [
      "C:\\Users\\kohei\\Anaconda3\\lib\\site-packages\\lightgbm\\basic.py:1205: UserWarning: Using categorical_feature in Dataset.\n",
      "  warnings.warn('Using categorical_feature in Dataset.')\n",
      "C:\\Users\\kohei\\Anaconda3\\lib\\site-packages\\lightgbm\\basic.py:762: UserWarning: categorical_feature in param dict is overridden.\n",
      "  warnings.warn('categorical_feature in param dict is overridden.')\n"
     ]
    },
    {
     "name": "stdout",
     "output_type": "stream",
     "text": [
      "Training until validation scores don't improve for 100 rounds.\n",
      "[1000]\ttraining's l1: 0.000912451\tvalid_1's l1: 0.00186537\n",
      "[2000]\ttraining's l1: 0.000585988\tvalid_1's l1: 0.00180334\n",
      "[3000]\ttraining's l1: 0.00047227\tvalid_1's l1: 0.00178724\n",
      "[4000]\ttraining's l1: 0.000420952\tvalid_1's l1: 0.00178063\n",
      "[5000]\ttraining's l1: 0.000391454\tvalid_1's l1: 0.0017769\n",
      "[6000]\ttraining's l1: 0.000372321\tvalid_1's l1: 0.00177449\n",
      "[7000]\ttraining's l1: 0.00035822\tvalid_1's l1: 0.00177284\n",
      "[8000]\ttraining's l1: 0.000347093\tvalid_1's l1: 0.00177154\n",
      "[9000]\ttraining's l1: 0.000338344\tvalid_1's l1: 0.00177067\n",
      "Early stopping, best iteration is:\n",
      "[9172]\ttraining's l1: 0.000337026\tvalid_1's l1: 0.00177051\n",
      "Training until validation scores don't improve for 100 rounds.\n",
      "[1000]\ttraining's l1: 0.000871797\tvalid_1's l1: 0.00183528\n",
      "[2000]\ttraining's l1: 0.000573912\tvalid_1's l1: 0.00178083\n",
      "[3000]\ttraining's l1: 0.000468207\tvalid_1's l1: 0.00176672\n",
      "[4000]\ttraining's l1: 0.000420427\tvalid_1's l1: 0.00176066\n",
      "[5000]\ttraining's l1: 0.000392259\tvalid_1's l1: 0.00175717\n",
      "[6000]\ttraining's l1: 0.000373123\tvalid_1's l1: 0.0017547\n",
      "[7000]\ttraining's l1: 0.000359026\tvalid_1's l1: 0.00175313\n",
      "[8000]\ttraining's l1: 0.000347926\tvalid_1's l1: 0.00175179\n",
      "Early stopping, best iteration is:\n",
      "[8027]\ttraining's l1: 0.0003476\tvalid_1's l1: 0.00175176\n",
      "2 for sd done!\n"
     ]
    },
    {
     "name": "stderr",
     "output_type": "stream",
     "text": [
      "C:\\Users\\kohei\\Anaconda3\\lib\\site-packages\\lightgbm\\basic.py:1205: UserWarning: Using categorical_feature in Dataset.\n",
      "  warnings.warn('Using categorical_feature in Dataset.')\n",
      "C:\\Users\\kohei\\Anaconda3\\lib\\site-packages\\lightgbm\\basic.py:762: UserWarning: categorical_feature in param dict is overridden.\n",
      "  warnings.warn('categorical_feature in param dict is overridden.')\n"
     ]
    },
    {
     "name": "stdout",
     "output_type": "stream",
     "text": [
      "Training until validation scores don't improve for 100 rounds.\n",
      "[1000]\ttraining's l1: 0.000777661\tvalid_1's l1: 0.00385475\n",
      "Early stopping, best iteration is:\n",
      "[1162]\ttraining's l1: 0.000748726\tvalid_1's l1: 0.00385064\n",
      "Training until validation scores don't improve for 100 rounds.\n",
      "[1000]\ttraining's l1: 0.000805671\tvalid_1's l1: 0.00378613\n",
      "Early stopping, best iteration is:\n",
      "[985]\ttraining's l1: 0.000806428\tvalid_1's l1: 0.00378609\n",
      "3 for sd done!\n"
     ]
    },
    {
     "name": "stderr",
     "output_type": "stream",
     "text": [
      "C:\\Users\\kohei\\Anaconda3\\lib\\site-packages\\lightgbm\\basic.py:1205: UserWarning: Using categorical_feature in Dataset.\n",
      "  warnings.warn('Using categorical_feature in Dataset.')\n",
      "C:\\Users\\kohei\\Anaconda3\\lib\\site-packages\\lightgbm\\basic.py:762: UserWarning: categorical_feature in param dict is overridden.\n",
      "  warnings.warn('categorical_feature in param dict is overridden.')\n"
     ]
    },
    {
     "name": "stdout",
     "output_type": "stream",
     "text": [
      "Training until validation scores don't improve for 100 rounds.\n",
      "[1000]\ttraining's l1: 0.000826513\tvalid_1's l1: 0.00305432\n",
      "[2000]\ttraining's l1: 0.000574934\tvalid_1's l1: 0.00302682\n",
      "[3000]\ttraining's l1: 0.000485136\tvalid_1's l1: 0.00301814\n",
      "Early stopping, best iteration is:\n",
      "[2973]\ttraining's l1: 0.000485957\tvalid_1's l1: 0.00301813\n",
      "Training until validation scores don't improve for 100 rounds.\n",
      "[1000]\ttraining's l1: 0.000771519\tvalid_1's l1: 0.00306443\n",
      "[2000]\ttraining's l1: 0.000562135\tvalid_1's l1: 0.00303673\n",
      "[3000]\ttraining's l1: 0.000490479\tvalid_1's l1: 0.00302755\n",
      "Early stopping, best iteration is:\n",
      "[3171]\ttraining's l1: 0.000482675\tvalid_1's l1: 0.00302649\n",
      "4 for sd done!\n"
     ]
    },
    {
     "name": "stderr",
     "output_type": "stream",
     "text": [
      "C:\\Users\\kohei\\Anaconda3\\lib\\site-packages\\lightgbm\\basic.py:1205: UserWarning: Using categorical_feature in Dataset.\n",
      "  warnings.warn('Using categorical_feature in Dataset.')\n",
      "C:\\Users\\kohei\\Anaconda3\\lib\\site-packages\\lightgbm\\basic.py:762: UserWarning: categorical_feature in param dict is overridden.\n",
      "  warnings.warn('categorical_feature in param dict is overridden.')\n"
     ]
    },
    {
     "name": "stdout",
     "output_type": "stream",
     "text": [
      "Training until validation scores don't improve for 100 rounds.\n",
      "[1000]\ttraining's l1: 0.00365179\tvalid_1's l1: 0.00564798\n",
      "[2000]\ttraining's l1: 0.00250451\tvalid_1's l1: 0.0053106\n",
      "[3000]\ttraining's l1: 0.0018864\tvalid_1's l1: 0.00518371\n",
      "[4000]\ttraining's l1: 0.0014935\tvalid_1's l1: 0.00512278\n",
      "[5000]\ttraining's l1: 0.00122027\tvalid_1's l1: 0.00508712\n",
      "[6000]\ttraining's l1: 0.00102077\tvalid_1's l1: 0.00506485\n",
      "[7000]\ttraining's l1: 0.000871591\tvalid_1's l1: 0.00504945\n",
      "[8000]\ttraining's l1: 0.000756628\tvalid_1's l1: 0.00503943\n",
      "[9000]\ttraining's l1: 0.000665553\tvalid_1's l1: 0.00503205\n",
      "[10000]\ttraining's l1: 0.000592955\tvalid_1's l1: 0.00502654\n",
      "Did not meet early stopping. Best iteration is:\n",
      "[10000]\ttraining's l1: 0.000592955\tvalid_1's l1: 0.00502654\n",
      "Training until validation scores don't improve for 100 rounds.\n",
      "[1000]\ttraining's l1: 0.00358428\tvalid_1's l1: 0.00567606\n",
      "[2000]\ttraining's l1: 0.00245965\tvalid_1's l1: 0.00532311\n",
      "[3000]\ttraining's l1: 0.00185719\tvalid_1's l1: 0.00519669\n",
      "[4000]\ttraining's l1: 0.00147064\tvalid_1's l1: 0.00513362\n",
      "[5000]\ttraining's l1: 0.00120281\tvalid_1's l1: 0.00509851\n",
      "[6000]\ttraining's l1: 0.00100694\tvalid_1's l1: 0.005077\n",
      "[7000]\ttraining's l1: 0.000859897\tvalid_1's l1: 0.00506127\n",
      "[8000]\ttraining's l1: 0.000746689\tvalid_1's l1: 0.00505061\n",
      "[9000]\ttraining's l1: 0.000657639\tvalid_1's l1: 0.00504333\n",
      "[10000]\ttraining's l1: 0.000586579\tvalid_1's l1: 0.00503759\n",
      "Did not meet early stopping. Best iteration is:\n",
      "[10000]\ttraining's l1: 0.000586579\tvalid_1's l1: 0.00503759\n",
      "5 for sd done!\n"
     ]
    },
    {
     "name": "stderr",
     "output_type": "stream",
     "text": [
      "C:\\Users\\kohei\\Anaconda3\\lib\\site-packages\\lightgbm\\basic.py:1205: UserWarning: Using categorical_feature in Dataset.\n",
      "  warnings.warn('Using categorical_feature in Dataset.')\n",
      "C:\\Users\\kohei\\Anaconda3\\lib\\site-packages\\lightgbm\\basic.py:762: UserWarning: categorical_feature in param dict is overridden.\n",
      "  warnings.warn('categorical_feature in param dict is overridden.')\n"
     ]
    },
    {
     "name": "stdout",
     "output_type": "stream",
     "text": [
      "Training until validation scores don't improve for 100 rounds.\n",
      "[1000]\ttraining's l1: 0.00142302\tvalid_1's l1: 0.00235647\n",
      "[2000]\ttraining's l1: 0.000934966\tvalid_1's l1: 0.00223313\n",
      "[3000]\ttraining's l1: 0.000676695\tvalid_1's l1: 0.0021899\n",
      "[4000]\ttraining's l1: 0.000530037\tvalid_1's l1: 0.00217292\n",
      "[5000]\ttraining's l1: 0.000448267\tvalid_1's l1: 0.00216454\n",
      "[6000]\ttraining's l1: 0.000402657\tvalid_1's l1: 0.00216025\n",
      "[7000]\ttraining's l1: 0.000373825\tvalid_1's l1: 0.00215779\n",
      "[8000]\ttraining's l1: 0.000353552\tvalid_1's l1: 0.00215614\n",
      "[9000]\ttraining's l1: 0.00033854\tvalid_1's l1: 0.00215501\n",
      "[10000]\ttraining's l1: 0.000326484\tvalid_1's l1: 0.00215394\n",
      "Did not meet early stopping. Best iteration is:\n",
      "[10000]\ttraining's l1: 0.000326484\tvalid_1's l1: 0.00215394\n",
      "Training until validation scores don't improve for 100 rounds.\n",
      "[1000]\ttraining's l1: 0.00147313\tvalid_1's l1: 0.00241196\n",
      "[2000]\ttraining's l1: 0.00092421\tvalid_1's l1: 0.00226102\n",
      "[3000]\ttraining's l1: 0.000665474\tvalid_1's l1: 0.00222019\n",
      "[4000]\ttraining's l1: 0.000524967\tvalid_1's l1: 0.00220337\n",
      "[5000]\ttraining's l1: 0.000447403\tvalid_1's l1: 0.00219545\n",
      "[6000]\ttraining's l1: 0.000403543\tvalid_1's l1: 0.0021912\n",
      "[7000]\ttraining's l1: 0.000375268\tvalid_1's l1: 0.00218861\n",
      "[8000]\ttraining's l1: 0.000355589\tvalid_1's l1: 0.00218678\n",
      "[9000]\ttraining's l1: 0.000340878\tvalid_1's l1: 0.00218547\n",
      "[10000]\ttraining's l1: 0.000329522\tvalid_1's l1: 0.00218446\n",
      "Did not meet early stopping. Best iteration is:\n",
      "[10000]\ttraining's l1: 0.000329522\tvalid_1's l1: 0.00218446\n",
      "6 for sd done!\n"
     ]
    },
    {
     "name": "stderr",
     "output_type": "stream",
     "text": [
      "C:\\Users\\kohei\\Anaconda3\\lib\\site-packages\\lightgbm\\basic.py:1205: UserWarning: Using categorical_feature in Dataset.\n",
      "  warnings.warn('Using categorical_feature in Dataset.')\n",
      "C:\\Users\\kohei\\Anaconda3\\lib\\site-packages\\lightgbm\\basic.py:762: UserWarning: categorical_feature in param dict is overridden.\n",
      "  warnings.warn('categorical_feature in param dict is overridden.')\n"
     ]
    },
    {
     "name": "stdout",
     "output_type": "stream",
     "text": [
      "Training until validation scores don't improve for 100 rounds.\n",
      "[1000]\ttraining's l1: 0.00311178\tvalid_1's l1: 0.00442696\n",
      "[2000]\ttraining's l1: 0.00225436\tvalid_1's l1: 0.00412719\n",
      "[3000]\ttraining's l1: 0.00177588\tvalid_1's l1: 0.00400936\n",
      "[4000]\ttraining's l1: 0.00145368\tvalid_1's l1: 0.00394819\n",
      "[5000]\ttraining's l1: 0.00122229\tvalid_1's l1: 0.00391095\n",
      "[6000]\ttraining's l1: 0.00104736\tvalid_1's l1: 0.00388714\n",
      "[7000]\ttraining's l1: 0.000911032\tvalid_1's l1: 0.0038708\n",
      "[8000]\ttraining's l1: 0.000802926\tvalid_1's l1: 0.00385931\n",
      "[9000]\ttraining's l1: 0.000715193\tvalid_1's l1: 0.00385056\n",
      "[10000]\ttraining's l1: 0.000643016\tvalid_1's l1: 0.00384383\n",
      "Did not meet early stopping. Best iteration is:\n",
      "[10000]\ttraining's l1: 0.000643016\tvalid_1's l1: 0.00384383\n",
      "Training until validation scores don't improve for 100 rounds.\n",
      "[1000]\ttraining's l1: 0.00312974\tvalid_1's l1: 0.00443359\n",
      "[2000]\ttraining's l1: 0.00226329\tvalid_1's l1: 0.00412575\n",
      "[3000]\ttraining's l1: 0.00177706\tvalid_1's l1: 0.00400294\n",
      "[4000]\ttraining's l1: 0.00145471\tvalid_1's l1: 0.00394057\n",
      "[5000]\ttraining's l1: 0.00122189\tvalid_1's l1: 0.00390338\n",
      "[6000]\ttraining's l1: 0.00104691\tvalid_1's l1: 0.00387973\n",
      "[7000]\ttraining's l1: 0.000910809\tvalid_1's l1: 0.00386275\n",
      "[8000]\ttraining's l1: 0.000802599\tvalid_1's l1: 0.0038512\n",
      "[9000]\ttraining's l1: 0.000714827\tvalid_1's l1: 0.00384249\n",
      "[10000]\ttraining's l1: 0.000642989\tvalid_1's l1: 0.00383581\n",
      "Did not meet early stopping. Best iteration is:\n",
      "[10000]\ttraining's l1: 0.000642989\tvalid_1's l1: 0.00383581\n",
      "7 for sd done!\n"
     ]
    },
    {
     "name": "stderr",
     "output_type": "stream",
     "text": [
      "C:\\Users\\kohei\\Anaconda3\\lib\\site-packages\\lightgbm\\basic.py:1205: UserWarning: Using categorical_feature in Dataset.\n",
      "  warnings.warn('Using categorical_feature in Dataset.')\n",
      "C:\\Users\\kohei\\Anaconda3\\lib\\site-packages\\lightgbm\\basic.py:762: UserWarning: categorical_feature in param dict is overridden.\n",
      "  warnings.warn('categorical_feature in param dict is overridden.')\n"
     ]
    },
    {
     "name": "stdout",
     "output_type": "stream",
     "text": [
      "Training until validation scores don't improve for 100 rounds.\n",
      "[1000]\ttraining's l1: 0.000883346\tvalid_1's l1: 0.00336642\n",
      "[2000]\ttraining's l1: 0.000569826\tvalid_1's l1: 0.00333402\n",
      "[3000]\ttraining's l1: 0.000485549\tvalid_1's l1: 0.00332571\n",
      "Early stopping, best iteration is:\n",
      "[3750]\ttraining's l1: 0.000453484\tvalid_1's l1: 0.00332239\n",
      "Training until validation scores don't improve for 100 rounds.\n",
      "[1000]\ttraining's l1: 0.00084129\tvalid_1's l1: 0.00333452\n",
      "[2000]\ttraining's l1: 0.000565199\tvalid_1's l1: 0.00330252\n",
      "[3000]\ttraining's l1: 0.000490572\tvalid_1's l1: 0.00329521\n",
      "Early stopping, best iteration is:\n",
      "[3864]\ttraining's l1: 0.000459627\tvalid_1's l1: 0.00329194\n",
      "8 for sd done!\n"
     ]
    },
    {
     "name": "stderr",
     "output_type": "stream",
     "text": [
      "C:\\Users\\kohei\\Anaconda3\\lib\\site-packages\\lightgbm\\basic.py:1205: UserWarning: Using categorical_feature in Dataset.\n",
      "  warnings.warn('Using categorical_feature in Dataset.')\n",
      "C:\\Users\\kohei\\Anaconda3\\lib\\site-packages\\lightgbm\\basic.py:762: UserWarning: categorical_feature in param dict is overridden.\n",
      "  warnings.warn('categorical_feature in param dict is overridden.')\n"
     ]
    },
    {
     "name": "stdout",
     "output_type": "stream",
     "text": [
      "Training until validation scores don't improve for 100 rounds.\n",
      "[1000]\ttraining's l1: 0.00843905\tvalid_1's l1: 0.0159388\n",
      "[2000]\ttraining's l1: 0.00507245\tvalid_1's l1: 0.0152204\n",
      "[3000]\ttraining's l1: 0.003403\tvalid_1's l1: 0.0149822\n",
      "[4000]\ttraining's l1: 0.00244196\tvalid_1's l1: 0.0148772\n",
      "[5000]\ttraining's l1: 0.00183424\tvalid_1's l1: 0.0148187\n",
      "[6000]\ttraining's l1: 0.00143142\tvalid_1's l1: 0.0147864\n",
      "[7000]\ttraining's l1: 0.00115108\tvalid_1's l1: 0.0147653\n",
      "[8000]\ttraining's l1: 0.000950044\tvalid_1's l1: 0.0147523\n",
      "[9000]\ttraining's l1: 0.000802306\tvalid_1's l1: 0.0147436\n",
      "[10000]\ttraining's l1: 0.000692163\tvalid_1's l1: 0.0147374\n",
      "Did not meet early stopping. Best iteration is:\n",
      "[10000]\ttraining's l1: 0.000692163\tvalid_1's l1: 0.0147374\n",
      "Training until validation scores don't improve for 100 rounds.\n",
      "[1000]\ttraining's l1: 0.00844895\tvalid_1's l1: 0.0160214\n",
      "[2000]\ttraining's l1: 0.00508483\tvalid_1's l1: 0.0153004\n",
      "[3000]\ttraining's l1: 0.00342008\tvalid_1's l1: 0.0150571\n",
      "[4000]\ttraining's l1: 0.00245174\tvalid_1's l1: 0.014948\n",
      "[5000]\ttraining's l1: 0.00184194\tvalid_1's l1: 0.0148906\n",
      "[6000]\ttraining's l1: 0.00143666\tvalid_1's l1: 0.0148561\n",
      "[7000]\ttraining's l1: 0.00115618\tvalid_1's l1: 0.0148352\n",
      "[8000]\ttraining's l1: 0.000954883\tvalid_1's l1: 0.0148229\n",
      "[9000]\ttraining's l1: 0.0008072\tvalid_1's l1: 0.0148146\n",
      "[10000]\ttraining's l1: 0.000696487\tvalid_1's l1: 0.0148087\n",
      "Did not meet early stopping. Best iteration is:\n",
      "[10000]\ttraining's l1: 0.000696487\tvalid_1's l1: 0.0148087\n",
      "1 for pso done!\n"
     ]
    },
    {
     "name": "stderr",
     "output_type": "stream",
     "text": [
      "C:\\Users\\kohei\\Anaconda3\\lib\\site-packages\\lightgbm\\basic.py:1205: UserWarning: Using categorical_feature in Dataset.\n",
      "  warnings.warn('Using categorical_feature in Dataset.')\n",
      "C:\\Users\\kohei\\Anaconda3\\lib\\site-packages\\lightgbm\\basic.py:762: UserWarning: categorical_feature in param dict is overridden.\n",
      "  warnings.warn('categorical_feature in param dict is overridden.')\n"
     ]
    },
    {
     "name": "stdout",
     "output_type": "stream",
     "text": [
      "Training until validation scores don't improve for 100 rounds.\n",
      "[1000]\ttraining's l1: 0.00497194\tvalid_1's l1: 0.01231\n",
      "[2000]\ttraining's l1: 0.00264043\tvalid_1's l1: 0.0119799\n",
      "[3000]\ttraining's l1: 0.00160846\tvalid_1's l1: 0.0119073\n",
      "[4000]\ttraining's l1: 0.00108292\tvalid_1's l1: 0.0118791\n",
      "[5000]\ttraining's l1: 0.00080288\tvalid_1's l1: 0.0118665\n",
      "[6000]\ttraining's l1: 0.000651199\tvalid_1's l1: 0.0118601\n",
      "[7000]\ttraining's l1: 0.000572396\tvalid_1's l1: 0.0118567\n",
      "[8000]\ttraining's l1: 0.000523038\tvalid_1's l1: 0.0118549\n",
      "Early stopping, best iteration is:\n",
      "[8299]\ttraining's l1: 0.000511736\tvalid_1's l1: 0.0118543\n",
      "Training until validation scores don't improve for 100 rounds.\n",
      "[1000]\ttraining's l1: 0.00460528\tvalid_1's l1: 0.0120526\n",
      "[2000]\ttraining's l1: 0.00240049\tvalid_1's l1: 0.0117739\n",
      "[3000]\ttraining's l1: 0.00148358\tvalid_1's l1: 0.01171\n",
      "[4000]\ttraining's l1: 0.00102566\tvalid_1's l1: 0.0116859\n",
      "[5000]\ttraining's l1: 0.000774693\tvalid_1's l1: 0.0116757\n",
      "[6000]\ttraining's l1: 0.000639363\tvalid_1's l1: 0.0116709\n",
      "[7000]\ttraining's l1: 0.000566406\tvalid_1's l1: 0.0116681\n",
      "[8000]\ttraining's l1: 0.000520389\tvalid_1's l1: 0.0116661\n",
      "[9000]\ttraining's l1: 0.000488585\tvalid_1's l1: 0.0116648\n",
      "Early stopping, best iteration is:\n",
      "[9123]\ttraining's l1: 0.000485142\tvalid_1's l1: 0.0116646\n",
      "2 for pso done!\n"
     ]
    },
    {
     "name": "stderr",
     "output_type": "stream",
     "text": [
      "C:\\Users\\kohei\\Anaconda3\\lib\\site-packages\\lightgbm\\basic.py:1205: UserWarning: Using categorical_feature in Dataset.\n",
      "  warnings.warn('Using categorical_feature in Dataset.')\n",
      "C:\\Users\\kohei\\Anaconda3\\lib\\site-packages\\lightgbm\\basic.py:762: UserWarning: categorical_feature in param dict is overridden.\n",
      "  warnings.warn('categorical_feature in param dict is overridden.')\n"
     ]
    },
    {
     "name": "stdout",
     "output_type": "stream",
     "text": [
      "Training until validation scores don't improve for 100 rounds.\n",
      "[1000]\ttraining's l1: 0.00140154\tvalid_1's l1: 0.0251295\n",
      "[2000]\ttraining's l1: 0.000921781\tvalid_1's l1: 0.0250941\n",
      "Early stopping, best iteration is:\n",
      "[2138]\ttraining's l1: 0.000899786\tvalid_1's l1: 0.0250921\n",
      "Training until validation scores don't improve for 100 rounds.\n",
      "[1000]\ttraining's l1: 0.00138216\tvalid_1's l1: 0.0254874\n",
      "[2000]\ttraining's l1: 0.000918517\tvalid_1's l1: 0.0254579\n",
      "Early stopping, best iteration is:\n",
      "[2141]\ttraining's l1: 0.000897721\tvalid_1's l1: 0.0254563\n",
      "3 for pso done!\n"
     ]
    },
    {
     "name": "stderr",
     "output_type": "stream",
     "text": [
      "C:\\Users\\kohei\\Anaconda3\\lib\\site-packages\\lightgbm\\basic.py:1205: UserWarning: Using categorical_feature in Dataset.\n",
      "  warnings.warn('Using categorical_feature in Dataset.')\n",
      "C:\\Users\\kohei\\Anaconda3\\lib\\site-packages\\lightgbm\\basic.py:762: UserWarning: categorical_feature in param dict is overridden.\n",
      "  warnings.warn('categorical_feature in param dict is overridden.')\n"
     ]
    },
    {
     "name": "stdout",
     "output_type": "stream",
     "text": [
      "Training until validation scores don't improve for 100 rounds.\n",
      "[1000]\ttraining's l1: 0.00143932\tvalid_1's l1: 0.0102328\n",
      "[2000]\ttraining's l1: 0.000795428\tvalid_1's l1: 0.0101869\n",
      "[3000]\ttraining's l1: 0.000662359\tvalid_1's l1: 0.0101772\n",
      "Early stopping, best iteration is:\n",
      "[3638]\ttraining's l1: 0.000620922\tvalid_1's l1: 0.010174\n",
      "Training until validation scores don't improve for 100 rounds.\n",
      "[1000]\ttraining's l1: 0.00233241\tvalid_1's l1: 0.0103839\n",
      "[2000]\ttraining's l1: 0.00100756\tvalid_1's l1: 0.0102721\n",
      "[3000]\ttraining's l1: 0.000713844\tvalid_1's l1: 0.0102486\n",
      "[4000]\ttraining's l1: 0.00059802\tvalid_1's l1: 0.0102413\n",
      "[5000]\ttraining's l1: 0.000545046\tvalid_1's l1: 0.0102378\n",
      "Early stopping, best iteration is:\n",
      "[5793]\ttraining's l1: 0.000517927\tvalid_1's l1: 0.0102354\n",
      "4 for pso done!\n"
     ]
    },
    {
     "name": "stderr",
     "output_type": "stream",
     "text": [
      "C:\\Users\\kohei\\Anaconda3\\lib\\site-packages\\lightgbm\\basic.py:1205: UserWarning: Using categorical_feature in Dataset.\n",
      "  warnings.warn('Using categorical_feature in Dataset.')\n",
      "C:\\Users\\kohei\\Anaconda3\\lib\\site-packages\\lightgbm\\basic.py:762: UserWarning: categorical_feature in param dict is overridden.\n",
      "  warnings.warn('categorical_feature in param dict is overridden.')\n"
     ]
    },
    {
     "name": "stdout",
     "output_type": "stream",
     "text": [
      "Training until validation scores don't improve for 100 rounds.\n",
      "[1000]\ttraining's l1: 0.0100272\tvalid_1's l1: 0.0154397\n",
      "[2000]\ttraining's l1: 0.006726\tvalid_1's l1: 0.0145215\n",
      "[3000]\ttraining's l1: 0.00490268\tvalid_1's l1: 0.0141715\n",
      "[4000]\ttraining's l1: 0.0037446\tvalid_1's l1: 0.0139995\n",
      "[5000]\ttraining's l1: 0.0029491\tvalid_1's l1: 0.013904\n",
      "[6000]\ttraining's l1: 0.00237834\tvalid_1's l1: 0.0138454\n",
      "[7000]\ttraining's l1: 0.0019546\tvalid_1's l1: 0.0138063\n",
      "[8000]\ttraining's l1: 0.00163442\tvalid_1's l1: 0.01378\n",
      "[9000]\ttraining's l1: 0.00138727\tvalid_1's l1: 0.0137606\n",
      "[10000]\ttraining's l1: 0.001193\tvalid_1's l1: 0.0137467\n",
      "Did not meet early stopping. Best iteration is:\n",
      "[10000]\ttraining's l1: 0.001193\tvalid_1's l1: 0.0137467\n",
      "Training until validation scores don't improve for 100 rounds.\n",
      "[1000]\ttraining's l1: 0.00991117\tvalid_1's l1: 0.0154462\n",
      "[2000]\ttraining's l1: 0.00663561\tvalid_1's l1: 0.0145169\n",
      "[3000]\ttraining's l1: 0.00484582\tvalid_1's l1: 0.014179\n",
      "[4000]\ttraining's l1: 0.00370223\tvalid_1's l1: 0.0140125\n",
      "[5000]\ttraining's l1: 0.00291479\tvalid_1's l1: 0.0139137\n",
      "[6000]\ttraining's l1: 0.00235392\tvalid_1's l1: 0.0138563\n",
      "[7000]\ttraining's l1: 0.00193965\tvalid_1's l1: 0.0138182\n",
      "[8000]\ttraining's l1: 0.0016235\tvalid_1's l1: 0.013791\n",
      "[9000]\ttraining's l1: 0.00137856\tvalid_1's l1: 0.0137729\n",
      "[10000]\ttraining's l1: 0.00118558\tvalid_1's l1: 0.0137585\n",
      "Did not meet early stopping. Best iteration is:\n",
      "[10000]\ttraining's l1: 0.00118558\tvalid_1's l1: 0.0137585\n",
      "5 for pso done!\n"
     ]
    },
    {
     "name": "stderr",
     "output_type": "stream",
     "text": [
      "C:\\Users\\kohei\\Anaconda3\\lib\\site-packages\\lightgbm\\basic.py:1205: UserWarning: Using categorical_feature in Dataset.\n",
      "  warnings.warn('Using categorical_feature in Dataset.')\n",
      "C:\\Users\\kohei\\Anaconda3\\lib\\site-packages\\lightgbm\\basic.py:762: UserWarning: categorical_feature in param dict is overridden.\n",
      "  warnings.warn('categorical_feature in param dict is overridden.')\n"
     ]
    },
    {
     "name": "stdout",
     "output_type": "stream",
     "text": [
      "Training until validation scores don't improve for 100 rounds.\n",
      "[1000]\ttraining's l1: 0.00697217\tvalid_1's l1: 0.0138631\n",
      "[2000]\ttraining's l1: 0.00411766\tvalid_1's l1: 0.0133727\n",
      "[3000]\ttraining's l1: 0.00273079\tvalid_1's l1: 0.0132277\n",
      "[4000]\ttraining's l1: 0.00193128\tvalid_1's l1: 0.0131643\n",
      "[5000]\ttraining's l1: 0.00144106\tvalid_1's l1: 0.0131323\n",
      "[6000]\ttraining's l1: 0.00112222\tvalid_1's l1: 0.0131151\n",
      "[7000]\ttraining's l1: 0.000906695\tvalid_1's l1: 0.0131041\n",
      "[8000]\ttraining's l1: 0.000755225\tvalid_1's l1: 0.0130971\n",
      "[9000]\ttraining's l1: 0.000648123\tvalid_1's l1: 0.013093\n",
      "[10000]\ttraining's l1: 0.000573812\tvalid_1's l1: 0.0130904\n",
      "Did not meet early stopping. Best iteration is:\n",
      "[10000]\ttraining's l1: 0.000573812\tvalid_1's l1: 0.0130904\n",
      "Training until validation scores don't improve for 100 rounds.\n",
      "[1000]\ttraining's l1: 0.00704108\tvalid_1's l1: 0.0139035\n",
      "[2000]\ttraining's l1: 0.00415274\tvalid_1's l1: 0.0134093\n",
      "[3000]\ttraining's l1: 0.00274085\tvalid_1's l1: 0.0132564\n",
      "[4000]\ttraining's l1: 0.00193961\tvalid_1's l1: 0.0131899\n",
      "[5000]\ttraining's l1: 0.00144555\tvalid_1's l1: 0.0131579\n",
      "[6000]\ttraining's l1: 0.00112518\tvalid_1's l1: 0.0131411\n",
      "[7000]\ttraining's l1: 0.000908513\tvalid_1's l1: 0.0131315\n",
      "[8000]\ttraining's l1: 0.00075615\tvalid_1's l1: 0.0131265\n",
      "[9000]\ttraining's l1: 0.000648917\tvalid_1's l1: 0.0131231\n",
      "[10000]\ttraining's l1: 0.000574397\tvalid_1's l1: 0.0131206\n",
      "Did not meet early stopping. Best iteration is:\n",
      "[10000]\ttraining's l1: 0.000574397\tvalid_1's l1: 0.0131206\n",
      "6 for pso done!\n"
     ]
    },
    {
     "name": "stderr",
     "output_type": "stream",
     "text": [
      "C:\\Users\\kohei\\Anaconda3\\lib\\site-packages\\lightgbm\\basic.py:1205: UserWarning: Using categorical_feature in Dataset.\n",
      "  warnings.warn('Using categorical_feature in Dataset.')\n",
      "C:\\Users\\kohei\\Anaconda3\\lib\\site-packages\\lightgbm\\basic.py:762: UserWarning: categorical_feature in param dict is overridden.\n",
      "  warnings.warn('categorical_feature in param dict is overridden.')\n"
     ]
    },
    {
     "name": "stdout",
     "output_type": "stream",
     "text": [
      "Training until validation scores don't improve for 100 rounds.\n",
      "[1000]\ttraining's l1: 0.00761981\tvalid_1's l1: 0.0106086\n",
      "[2000]\ttraining's l1: 0.00543938\tvalid_1's l1: 0.00987357\n",
      "[3000]\ttraining's l1: 0.00418126\tvalid_1's l1: 0.00956655\n",
      "[4000]\ttraining's l1: 0.00334736\tvalid_1's l1: 0.00941028\n",
      "[5000]\ttraining's l1: 0.00275234\tvalid_1's l1: 0.00931969\n",
      "[6000]\ttraining's l1: 0.00230246\tvalid_1's l1: 0.00926084\n",
      "[7000]\ttraining's l1: 0.0019537\tvalid_1's l1: 0.00921897\n",
      "[8000]\ttraining's l1: 0.00167947\tvalid_1's l1: 0.00919047\n",
      "[9000]\ttraining's l1: 0.00146019\tvalid_1's l1: 0.00916894\n",
      "[10000]\ttraining's l1: 0.00128086\tvalid_1's l1: 0.00915173\n",
      "Did not meet early stopping. Best iteration is:\n",
      "[10000]\ttraining's l1: 0.00128086\tvalid_1's l1: 0.00915173\n",
      "Training until validation scores don't improve for 100 rounds.\n",
      "[1000]\ttraining's l1: 0.00764317\tvalid_1's l1: 0.0106348\n",
      "[2000]\ttraining's l1: 0.00545806\tvalid_1's l1: 0.00989313\n",
      "[3000]\ttraining's l1: 0.00420176\tvalid_1's l1: 0.00959318\n",
      "[4000]\ttraining's l1: 0.00336863\tvalid_1's l1: 0.00944412\n",
      "[5000]\ttraining's l1: 0.00276463\tvalid_1's l1: 0.00934986\n",
      "[6000]\ttraining's l1: 0.00231013\tvalid_1's l1: 0.00928769\n",
      "[7000]\ttraining's l1: 0.00196154\tvalid_1's l1: 0.00924676\n",
      "[8000]\ttraining's l1: 0.00168647\tvalid_1's l1: 0.00921839\n",
      "[9000]\ttraining's l1: 0.00146461\tvalid_1's l1: 0.00919696\n",
      "[10000]\ttraining's l1: 0.00128369\tvalid_1's l1: 0.00918002\n",
      "Did not meet early stopping. Best iteration is:\n",
      "[10000]\ttraining's l1: 0.00128369\tvalid_1's l1: 0.00918002\n",
      "7 for pso done!\n"
     ]
    },
    {
     "name": "stderr",
     "output_type": "stream",
     "text": [
      "C:\\Users\\kohei\\Anaconda3\\lib\\site-packages\\lightgbm\\basic.py:1205: UserWarning: Using categorical_feature in Dataset.\n",
      "  warnings.warn('Using categorical_feature in Dataset.')\n",
      "C:\\Users\\kohei\\Anaconda3\\lib\\site-packages\\lightgbm\\basic.py:762: UserWarning: categorical_feature in param dict is overridden.\n",
      "  warnings.warn('categorical_feature in param dict is overridden.')\n"
     ]
    },
    {
     "name": "stdout",
     "output_type": "stream",
     "text": [
      "Training until validation scores don't improve for 100 rounds.\n",
      "[1000]\ttraining's l1: 0.00155571\tvalid_1's l1: 0.00814647\n",
      "[2000]\ttraining's l1: 0.000787263\tvalid_1's l1: 0.00807754\n",
      "[3000]\ttraining's l1: 0.000628831\tvalid_1's l1: 0.00806528\n",
      "[4000]\ttraining's l1: 0.000562917\tvalid_1's l1: 0.00806015\n",
      "[5000]\ttraining's l1: 0.000524775\tvalid_1's l1: 0.00805692\n",
      "Early stopping, best iteration is:\n",
      "[5827]\ttraining's l1: 0.000501771\tvalid_1's l1: 0.00805477\n",
      "Training until validation scores don't improve for 100 rounds.\n",
      "[1000]\ttraining's l1: 0.0015593\tvalid_1's l1: 0.00808395\n",
      "[2000]\ttraining's l1: 0.000786485\tvalid_1's l1: 0.008011\n",
      "[3000]\ttraining's l1: 0.000626689\tvalid_1's l1: 0.0079982\n",
      "[4000]\ttraining's l1: 0.000559942\tvalid_1's l1: 0.00799185\n",
      "[5000]\ttraining's l1: 0.000522584\tvalid_1's l1: 0.00798804\n",
      "[6000]\ttraining's l1: 0.000495829\tvalid_1's l1: 0.00798597\n",
      "Early stopping, best iteration is:\n",
      "[6279]\ttraining's l1: 0.000489918\tvalid_1's l1: 0.00798535\n",
      "8 for pso done!\n"
     ]
    },
    {
     "name": "stderr",
     "output_type": "stream",
     "text": [
      "C:\\Users\\kohei\\Anaconda3\\lib\\site-packages\\lightgbm\\basic.py:1205: UserWarning: Using categorical_feature in Dataset.\n",
      "  warnings.warn('Using categorical_feature in Dataset.')\n",
      "C:\\Users\\kohei\\Anaconda3\\lib\\site-packages\\lightgbm\\basic.py:762: UserWarning: categorical_feature in param dict is overridden.\n",
      "  warnings.warn('categorical_feature in param dict is overridden.')\n"
     ]
    },
    {
     "name": "stdout",
     "output_type": "stream",
     "text": [
      "Training until validation scores don't improve for 100 rounds.\n",
      "[1000]\ttraining's l1: 0.00302353\tvalid_1's l1: 0.00529402\n",
      "[2000]\ttraining's l1: 0.00197404\tvalid_1's l1: 0.00505645\n",
      "[3000]\ttraining's l1: 0.00142845\tvalid_1's l1: 0.00497502\n",
      "[4000]\ttraining's l1: 0.00109505\tvalid_1's l1: 0.00493922\n",
      "[5000]\ttraining's l1: 0.00087672\tvalid_1's l1: 0.00492049\n",
      "[6000]\ttraining's l1: 0.000725899\tvalid_1's l1: 0.0049096\n",
      "[7000]\ttraining's l1: 0.000618462\tvalid_1's l1: 0.00490314\n",
      "[8000]\ttraining's l1: 0.000541839\tvalid_1's l1: 0.0048989\n",
      "[9000]\ttraining's l1: 0.00048861\tvalid_1's l1: 0.00489612\n",
      "[10000]\ttraining's l1: 0.000451904\tvalid_1's l1: 0.00489413\n",
      "Did not meet early stopping. Best iteration is:\n",
      "[10000]\ttraining's l1: 0.000451904\tvalid_1's l1: 0.00489413\n",
      "Training until validation scores don't improve for 100 rounds.\n",
      "[1000]\ttraining's l1: 0.00298415\tvalid_1's l1: 0.00525261\n",
      "[2000]\ttraining's l1: 0.00194702\tvalid_1's l1: 0.00502051\n",
      "[3000]\ttraining's l1: 0.00140935\tvalid_1's l1: 0.00493706\n",
      "[4000]\ttraining's l1: 0.00108243\tvalid_1's l1: 0.00490182\n",
      "[5000]\ttraining's l1: 0.000866568\tvalid_1's l1: 0.00488394\n",
      "[6000]\ttraining's l1: 0.000717789\tvalid_1's l1: 0.00487361\n",
      "[7000]\ttraining's l1: 0.000611859\tvalid_1's l1: 0.00486737\n",
      "[8000]\ttraining's l1: 0.0005367\tvalid_1's l1: 0.00486311\n",
      "[9000]\ttraining's l1: 0.000484829\tvalid_1's l1: 0.00486026\n",
      "[10000]\ttraining's l1: 0.000449355\tvalid_1's l1: 0.00485835\n",
      "Did not meet early stopping. Best iteration is:\n",
      "[10000]\ttraining's l1: 0.000449355\tvalid_1's l1: 0.00485835\n",
      "1 for dso done!\n"
     ]
    },
    {
     "name": "stderr",
     "output_type": "stream",
     "text": [
      "C:\\Users\\kohei\\Anaconda3\\lib\\site-packages\\lightgbm\\basic.py:1205: UserWarning: Using categorical_feature in Dataset.\n",
      "  warnings.warn('Using categorical_feature in Dataset.')\n",
      "C:\\Users\\kohei\\Anaconda3\\lib\\site-packages\\lightgbm\\basic.py:762: UserWarning: categorical_feature in param dict is overridden.\n",
      "  warnings.warn('categorical_feature in param dict is overridden.')\n"
     ]
    },
    {
     "name": "stdout",
     "output_type": "stream",
     "text": [
      "Training until validation scores don't improve for 100 rounds.\n",
      "[1000]\ttraining's l1: 0.00600496\tvalid_1's l1: 0.0156791\n",
      "[2000]\ttraining's l1: 0.00305382\tvalid_1's l1: 0.0153518\n",
      "[3000]\ttraining's l1: 0.00182531\tvalid_1's l1: 0.0152784\n",
      "[4000]\ttraining's l1: 0.00122272\tvalid_1's l1: 0.0152495\n",
      "[5000]\ttraining's l1: 0.000894113\tvalid_1's l1: 0.0152377\n",
      "[6000]\ttraining's l1: 0.000708677\tvalid_1's l1: 0.0152315\n",
      "[7000]\ttraining's l1: 0.000609112\tvalid_1's l1: 0.015228\n",
      "[8000]\ttraining's l1: 0.000551111\tvalid_1's l1: 0.0152261\n",
      "[9000]\ttraining's l1: 0.000511681\tvalid_1's l1: 0.0152243\n",
      "Early stopping, best iteration is:\n",
      "[9870]\ttraining's l1: 0.000485907\tvalid_1's l1: 0.0152234\n",
      "Training until validation scores don't improve for 100 rounds.\n",
      "[1000]\ttraining's l1: 0.00590781\tvalid_1's l1: 0.0157348\n",
      "[2000]\ttraining's l1: 0.00300987\tvalid_1's l1: 0.0154007\n",
      "[3000]\ttraining's l1: 0.00181265\tvalid_1's l1: 0.0153163\n",
      "[4000]\ttraining's l1: 0.0012178\tvalid_1's l1: 0.0152858\n",
      "[5000]\ttraining's l1: 0.000891784\tvalid_1's l1: 0.0152738\n",
      "[6000]\ttraining's l1: 0.00070785\tvalid_1's l1: 0.015268\n",
      "[7000]\ttraining's l1: 0.00060951\tvalid_1's l1: 0.015265\n",
      "Early stopping, best iteration is:\n",
      "[7798]\ttraining's l1: 0.000560784\tvalid_1's l1: 0.0152628\n",
      "2 for dso done!\n"
     ]
    },
    {
     "name": "stderr",
     "output_type": "stream",
     "text": [
      "C:\\Users\\kohei\\Anaconda3\\lib\\site-packages\\lightgbm\\basic.py:1205: UserWarning: Using categorical_feature in Dataset.\n",
      "  warnings.warn('Using categorical_feature in Dataset.')\n",
      "C:\\Users\\kohei\\Anaconda3\\lib\\site-packages\\lightgbm\\basic.py:762: UserWarning: categorical_feature in param dict is overridden.\n",
      "  warnings.warn('categorical_feature in param dict is overridden.')\n"
     ]
    },
    {
     "name": "stdout",
     "output_type": "stream",
     "text": [
      "Training until validation scores don't improve for 100 rounds.\n",
      "[1000]\ttraining's l1: 0.000685549\tvalid_1's l1: 0.00208458\n",
      "Early stopping, best iteration is:\n",
      "[904]\ttraining's l1: 0.000685549\tvalid_1's l1: 0.00208458\n",
      "Training until validation scores don't improve for 100 rounds.\n",
      "Early stopping, best iteration is:\n",
      "[765]\ttraining's l1: 0.00072775\tvalid_1's l1: 0.00210361\n",
      "3 for dso done!\n"
     ]
    },
    {
     "name": "stderr",
     "output_type": "stream",
     "text": [
      "C:\\Users\\kohei\\Anaconda3\\lib\\site-packages\\lightgbm\\basic.py:1205: UserWarning: Using categorical_feature in Dataset.\n",
      "  warnings.warn('Using categorical_feature in Dataset.')\n",
      "C:\\Users\\kohei\\Anaconda3\\lib\\site-packages\\lightgbm\\basic.py:762: UserWarning: categorical_feature in param dict is overridden.\n",
      "  warnings.warn('categorical_feature in param dict is overridden.')\n"
     ]
    },
    {
     "name": "stdout",
     "output_type": "stream",
     "text": [
      "Training until validation scores don't improve for 100 rounds.\n",
      "[1000]\ttraining's l1: 0.000639749\tvalid_1's l1: 0.00190603\n",
      "[2000]\ttraining's l1: 0.000537021\tvalid_1's l1: 0.00189023\n",
      "Early stopping, best iteration is:\n",
      "[1957]\ttraining's l1: 0.000537461\tvalid_1's l1: 0.0018902\n",
      "Training until validation scores don't improve for 100 rounds.\n",
      "[1000]\ttraining's l1: 0.000656055\tvalid_1's l1: 0.00193202\n",
      "Early stopping, best iteration is:\n",
      "[1651]\ttraining's l1: 0.000543601\tvalid_1's l1: 0.00191752\n",
      "4 for dso done!\n"
     ]
    },
    {
     "name": "stderr",
     "output_type": "stream",
     "text": [
      "C:\\Users\\kohei\\Anaconda3\\lib\\site-packages\\lightgbm\\basic.py:1205: UserWarning: Using categorical_feature in Dataset.\n",
      "  warnings.warn('Using categorical_feature in Dataset.')\n",
      "C:\\Users\\kohei\\Anaconda3\\lib\\site-packages\\lightgbm\\basic.py:762: UserWarning: categorical_feature in param dict is overridden.\n",
      "  warnings.warn('categorical_feature in param dict is overridden.')\n"
     ]
    },
    {
     "name": "stdout",
     "output_type": "stream",
     "text": [
      "Training until validation scores don't improve for 100 rounds.\n",
      "[1000]\ttraining's l1: 0.00434648\tvalid_1's l1: 0.00642046\n",
      "[2000]\ttraining's l1: 0.00305192\tvalid_1's l1: 0.00605266\n",
      "[3000]\ttraining's l1: 0.00231911\tvalid_1's l1: 0.00590787\n",
      "[4000]\ttraining's l1: 0.0018415\tvalid_1's l1: 0.00584248\n",
      "[5000]\ttraining's l1: 0.00150651\tvalid_1's l1: 0.00580601\n",
      "[6000]\ttraining's l1: 0.00125773\tvalid_1's l1: 0.00578031\n",
      "[7000]\ttraining's l1: 0.00107072\tvalid_1's l1: 0.0057647\n",
      "[8000]\ttraining's l1: 0.000924688\tvalid_1's l1: 0.0057547\n",
      "[9000]\ttraining's l1: 0.00080961\tvalid_1's l1: 0.00574845\n",
      "[10000]\ttraining's l1: 0.00071717\tvalid_1's l1: 0.00574428\n",
      "Did not meet early stopping. Best iteration is:\n",
      "[10000]\ttraining's l1: 0.00071717\tvalid_1's l1: 0.00574428\n",
      "Training until validation scores don't improve for 100 rounds.\n",
      "[1000]\ttraining's l1: 0.00432617\tvalid_1's l1: 0.00644563\n",
      "[2000]\ttraining's l1: 0.00303356\tvalid_1's l1: 0.00606521\n",
      "[3000]\ttraining's l1: 0.00231307\tvalid_1's l1: 0.00593008\n",
      "[4000]\ttraining's l1: 0.00184063\tvalid_1's l1: 0.00586372\n",
      "[5000]\ttraining's l1: 0.00150538\tvalid_1's l1: 0.00582555\n",
      "[6000]\ttraining's l1: 0.00125825\tvalid_1's l1: 0.00580133\n",
      "[7000]\ttraining's l1: 0.00106996\tvalid_1's l1: 0.00578613\n",
      "[8000]\ttraining's l1: 0.000924357\tvalid_1's l1: 0.00577679\n",
      "[9000]\ttraining's l1: 0.000809762\tvalid_1's l1: 0.0057703\n",
      "[10000]\ttraining's l1: 0.000717845\tvalid_1's l1: 0.00576591\n",
      "Did not meet early stopping. Best iteration is:\n",
      "[10000]\ttraining's l1: 0.000717845\tvalid_1's l1: 0.00576591\n",
      "5 for dso done!\n"
     ]
    },
    {
     "name": "stderr",
     "output_type": "stream",
     "text": [
      "C:\\Users\\kohei\\Anaconda3\\lib\\site-packages\\lightgbm\\basic.py:1205: UserWarning: Using categorical_feature in Dataset.\n",
      "  warnings.warn('Using categorical_feature in Dataset.')\n",
      "C:\\Users\\kohei\\Anaconda3\\lib\\site-packages\\lightgbm\\basic.py:762: UserWarning: categorical_feature in param dict is overridden.\n",
      "  warnings.warn('categorical_feature in param dict is overridden.')\n"
     ]
    },
    {
     "name": "stdout",
     "output_type": "stream",
     "text": [
      "Training until validation scores don't improve for 100 rounds.\n",
      "[1000]\ttraining's l1: 0.00904947\tvalid_1's l1: 0.0178458\n",
      "[2000]\ttraining's l1: 0.00528707\tvalid_1's l1: 0.0172889\n",
      "[3000]\ttraining's l1: 0.00343748\tvalid_1's l1: 0.0170968\n",
      "[4000]\ttraining's l1: 0.0023961\tvalid_1's l1: 0.0170262\n",
      "[5000]\ttraining's l1: 0.00175512\tvalid_1's l1: 0.0169916\n",
      "[6000]\ttraining's l1: 0.00134219\tvalid_1's l1: 0.016974\n",
      "[7000]\ttraining's l1: 0.00106523\tvalid_1's l1: 0.0169636\n",
      "[8000]\ttraining's l1: 0.000872996\tvalid_1's l1: 0.0169568\n",
      "[9000]\ttraining's l1: 0.000735777\tvalid_1's l1: 0.0169533\n",
      "[10000]\ttraining's l1: 0.000637138\tvalid_1's l1: 0.0169504\n",
      "Did not meet early stopping. Best iteration is:\n",
      "[10000]\ttraining's l1: 0.000637138\tvalid_1's l1: 0.0169504\n",
      "Training until validation scores don't improve for 100 rounds.\n",
      "[1000]\ttraining's l1: 0.00896539\tvalid_1's l1: 0.0177826\n",
      "[2000]\ttraining's l1: 0.00522798\tvalid_1's l1: 0.017199\n",
      "[3000]\ttraining's l1: 0.00340628\tvalid_1's l1: 0.0170266\n",
      "[4000]\ttraining's l1: 0.00237564\tvalid_1's l1: 0.0169593\n",
      "[5000]\ttraining's l1: 0.00174287\tvalid_1's l1: 0.0169256\n",
      "[6000]\ttraining's l1: 0.00133095\tvalid_1's l1: 0.0169066\n",
      "[7000]\ttraining's l1: 0.00105735\tvalid_1's l1: 0.0168961\n",
      "[8000]\ttraining's l1: 0.000866151\tvalid_1's l1: 0.0168904\n",
      "[9000]\ttraining's l1: 0.000729953\tvalid_1's l1: 0.0168869\n",
      "[10000]\ttraining's l1: 0.000633015\tvalid_1's l1: 0.016884\n",
      "Did not meet early stopping. Best iteration is:\n",
      "[10000]\ttraining's l1: 0.000633015\tvalid_1's l1: 0.016884\n",
      "6 for dso done!\n"
     ]
    },
    {
     "name": "stderr",
     "output_type": "stream",
     "text": [
      "C:\\Users\\kohei\\Anaconda3\\lib\\site-packages\\lightgbm\\basic.py:1205: UserWarning: Using categorical_feature in Dataset.\n",
      "  warnings.warn('Using categorical_feature in Dataset.')\n",
      "C:\\Users\\kohei\\Anaconda3\\lib\\site-packages\\lightgbm\\basic.py:762: UserWarning: categorical_feature in param dict is overridden.\n",
      "  warnings.warn('categorical_feature in param dict is overridden.')\n"
     ]
    },
    {
     "name": "stdout",
     "output_type": "stream",
     "text": [
      "Training until validation scores don't improve for 100 rounds.\n",
      "[1000]\ttraining's l1: 0.00578\tvalid_1's l1: 0.00790021\n",
      "[2000]\ttraining's l1: 0.0041862\tvalid_1's l1: 0.00735918\n",
      "[3000]\ttraining's l1: 0.00327039\tvalid_1's l1: 0.00714012\n",
      "[4000]\ttraining's l1: 0.00264957\tvalid_1's l1: 0.0070235\n",
      "[5000]\ttraining's l1: 0.00220272\tvalid_1's l1: 0.00695905\n",
      "[6000]\ttraining's l1: 0.00186168\tvalid_1's l1: 0.006914\n",
      "[7000]\ttraining's l1: 0.00159501\tvalid_1's l1: 0.00688242\n",
      "[8000]\ttraining's l1: 0.00138429\tvalid_1's l1: 0.0068626\n",
      "[9000]\ttraining's l1: 0.0012133\tvalid_1's l1: 0.00684773\n",
      "[10000]\ttraining's l1: 0.00107418\tvalid_1's l1: 0.00683665\n",
      "Did not meet early stopping. Best iteration is:\n",
      "[10000]\ttraining's l1: 0.00107418\tvalid_1's l1: 0.00683665\n",
      "Training until validation scores don't improve for 100 rounds.\n",
      "[1000]\ttraining's l1: 0.00578634\tvalid_1's l1: 0.00786793\n",
      "[2000]\ttraining's l1: 0.00419983\tvalid_1's l1: 0.00733569\n",
      "[3000]\ttraining's l1: 0.00327559\tvalid_1's l1: 0.00711643\n",
      "[4000]\ttraining's l1: 0.00265413\tvalid_1's l1: 0.00700173\n",
      "[5000]\ttraining's l1: 0.0022059\tvalid_1's l1: 0.00693686\n",
      "[6000]\ttraining's l1: 0.00186476\tvalid_1's l1: 0.00689455\n",
      "[7000]\ttraining's l1: 0.00159883\tvalid_1's l1: 0.00686683\n",
      "[8000]\ttraining's l1: 0.0013878\tvalid_1's l1: 0.00684854\n",
      "[9000]\ttraining's l1: 0.00121633\tvalid_1's l1: 0.0068332\n",
      "[10000]\ttraining's l1: 0.00107668\tvalid_1's l1: 0.00682181\n",
      "Did not meet early stopping. Best iteration is:\n",
      "[10000]\ttraining's l1: 0.00107668\tvalid_1's l1: 0.00682181\n",
      "7 for dso done!\n"
     ]
    },
    {
     "name": "stderr",
     "output_type": "stream",
     "text": [
      "C:\\Users\\kohei\\Anaconda3\\lib\\site-packages\\lightgbm\\basic.py:1205: UserWarning: Using categorical_feature in Dataset.\n",
      "  warnings.warn('Using categorical_feature in Dataset.')\n",
      "C:\\Users\\kohei\\Anaconda3\\lib\\site-packages\\lightgbm\\basic.py:762: UserWarning: categorical_feature in param dict is overridden.\n",
      "  warnings.warn('categorical_feature in param dict is overridden.')\n"
     ]
    },
    {
     "name": "stdout",
     "output_type": "stream",
     "text": [
      "Training until validation scores don't improve for 100 rounds.\n",
      "[1000]\ttraining's l1: 0.000749342\tvalid_1's l1: 0.00252224\n",
      "[2000]\ttraining's l1: 0.000565829\tvalid_1's l1: 0.00250063\n",
      "[3000]\ttraining's l1: 0.00050431\tvalid_1's l1: 0.00249345\n",
      "Early stopping, best iteration is:\n",
      "[3446]\ttraining's l1: 0.00048888\tvalid_1's l1: 0.0024917\n",
      "Training until validation scores don't improve for 100 rounds.\n",
      "[1000]\ttraining's l1: 0.00074247\tvalid_1's l1: 0.00250675\n",
      "[2000]\ttraining's l1: 0.000559189\tvalid_1's l1: 0.0024823\n",
      "[3000]\ttraining's l1: 0.000499185\tvalid_1's l1: 0.00247536\n",
      "Early stopping, best iteration is:\n",
      "[3444]\ttraining's l1: 0.000483902\tvalid_1's l1: 0.00247356\n",
      "8 for dso done!\n"
     ]
    }
   ],
   "source": [
    "oof_train = pd.DataFrame()\n",
    "oof_test = pd.DataFrame()\n",
    "\n",
    "\n",
    "for col in ['fc', 'sd', 'pso', 'dso']:\n",
    "    \n",
    "    target = contri[col]\n",
    "    \n",
    "    oof_type = np.zeros(len(X_train))\n",
    "    pred_type = np.zeros(len(X_test))\n",
    "    \n",
    "    for cur_type in np.unique(train_types):\n",
    "        cur_type_idx_train = (train_types == cur_type)\n",
    "        cur_type_idx_test = (test_types == cur_type)\n",
    "\n",
    "        cur_type_train = X_train.iloc[cur_type_idx_train]\n",
    "        cur_type_test = X_test.iloc[cur_type_idx_test]\n",
    "        cur_type_target = target.iloc[cur_type_idx_train]\n",
    "        cur_type_mols = contri['molecule_name'].iloc[cur_type_idx_train]\n",
    "        \n",
    "    \n",
    "        kf = GroupKFold(n_splits=2)\n",
    "    \n",
    "        oof = np.zeros(len(cur_type_train))\n",
    "        pred = np.zeros(len(cur_type_test))\n",
    "        \n",
    "        \n",
    "        SEED = 42\n",
    "        NUM_ROUNDS = 10000\n",
    "        \n",
    "        params = {\n",
    "                    \"num_leaves\": 100,\n",
    "                    \"min_data_in_leaf\": 100,\n",
    "                    \"objective\": \"regression\",\n",
    "                    \"max_depth\": 10,\n",
    "                    \"learning_rate\": 0.2,\n",
    "                    \"boosting_type\": \"gbdt\",\n",
    "                    \"subsample_freq\": 1,\n",
    "                    \"subsample\": 0.9,\n",
    "                    \"metric\": \"mae\",\n",
    "                    \"reg_alpha\": 0.1,\n",
    "                    \"reg_lambda\": 0.3, \n",
    "                    \"colsample_bytree\": 0.9\n",
    "                    }\n",
    "\n",
    "        for train_idx, val_idx in kf.split(cur_type_train, groups=cur_type_mols):\n",
    "            train_data = lgb.Dataset(cur_type_train.iloc[train_idx], label=cur_type_target.iloc[train_idx], categorical_feature=categorical_cols)\n",
    "            val_data = lgb.Dataset(cur_type_train.iloc[val_idx], label=cur_type_target.iloc[val_idx], categorical_feature=categorical_cols)\n",
    "            clf = lgb.train(params, train_data, NUM_ROUNDS, valid_sets=[train_data, val_data],\n",
    "                            verbose_eval=1000, early_stopping_rounds=100)\n",
    "            oof[val_idx] = clf.predict(cur_type_train.iloc[val_idx], num_iteration=clf.best_iteration)\n",
    "            pred += clf.predict(cur_type_test, num_iteration=clf.best_iteration) / kf.n_splits\n",
    "\n",
    "        oof_type[cur_type_idx_train] = oof\n",
    "        pred_type[cur_type_idx_test] = pred\n",
    "        \n",
    "        print(f'{cur_type} for {col} done!')\n",
    "        \n",
    "    oof_train[col] = oof_type\n",
    "    oof_test[col] = pred_type"
   ]
  },
  {
   "cell_type": "code",
   "execution_count": null,
   "metadata": {},
   "outputs": [],
   "source": []
  },
  {
   "cell_type": "code",
   "execution_count": null,
   "metadata": {},
   "outputs": [],
   "source": []
  },
  {
   "cell_type": "code",
   "execution_count": null,
   "metadata": {},
   "outputs": [],
   "source": []
  },
  {
   "cell_type": "code",
   "execution_count": null,
   "metadata": {},
   "outputs": [],
   "source": []
  },
  {
   "cell_type": "code",
   "execution_count": 14,
   "metadata": {},
   "outputs": [
    {
     "data": {
      "text/plain": [
       "((4658147, 4), (2505542, 4))"
      ]
     },
     "execution_count": 14,
     "metadata": {},
     "output_type": "execute_result"
    }
   ],
   "source": [
    "oof_train.shape, oof_test.shape"
   ]
  },
  {
   "cell_type": "code",
   "execution_count": 15,
   "metadata": {},
   "outputs": [
    {
     "data": {
      "text/plain": [
       "fc     0\n",
       "sd     0\n",
       "pso    0\n",
       "dso    0\n",
       "dtype: int64"
      ]
     },
     "execution_count": 15,
     "metadata": {},
     "output_type": "execute_result"
    }
   ],
   "source": [
    "oof_train.isnull().sum()"
   ]
  },
  {
   "cell_type": "code",
   "execution_count": null,
   "metadata": {},
   "outputs": [],
   "source": []
  },
  {
   "cell_type": "code",
   "execution_count": 16,
   "metadata": {},
   "outputs": [],
   "source": [
    "oof_train.to_feather('../features/ScalarCouplingContributionsOof4_train.feather')\n",
    "oof_test.to_feather('../features/ScalarCouplingContributionsOof4_test.feather')"
   ]
  },
  {
   "cell_type": "code",
   "execution_count": null,
   "metadata": {},
   "outputs": [],
   "source": []
  }
 ],
 "metadata": {
  "kernelspec": {
   "display_name": "Python 3",
   "language": "python",
   "name": "python3"
  },
  "language_info": {
   "codemirror_mode": {
    "name": "ipython",
    "version": 3
   },
   "file_extension": ".py",
   "mimetype": "text/x-python",
   "name": "python",
   "nbconvert_exporter": "python",
   "pygments_lexer": "ipython3",
   "version": "3.6.6"
  }
 },
 "nbformat": 4,
 "nbformat_minor": 2
}
