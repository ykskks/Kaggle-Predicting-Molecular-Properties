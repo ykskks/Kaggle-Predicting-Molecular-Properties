{
 "cells": [
  {
   "cell_type": "markdown",
   "metadata": {},
   "source": [
    "### Just change the code to predict oof feature individually for each type "
   ]
  },
  {
   "cell_type": "code",
   "execution_count": 17,
   "metadata": {},
   "outputs": [],
   "source": [
    "import numpy as np\n",
    "import pandas as pd\n",
    "import feather\n",
    "from sklearn.model_selection import GroupKFold\n",
    "import lightgbm as lgb\n",
    "import gc\n",
    "\n",
    "import sys\n",
    "sys.path.append(\"./../\")\n",
    "from utils import reduce_mem_usage"
   ]
  },
  {
   "cell_type": "code",
   "execution_count": 2,
   "metadata": {},
   "outputs": [],
   "source": [
    "#実際予測時にはその化合物のデータは使えないので、厳密にはGroupKfoldで化合物ごとに分けるべき"
   ]
  },
  {
   "cell_type": "code",
   "execution_count": 3,
   "metadata": {},
   "outputs": [],
   "source": [
    "features = [\n",
    "        \"Atom\",\n",
    "        \"AtomPosition\",\n",
    "        \"AtomDistance\",\n",
    "        \"CouplingType\",\n",
    "        \"AtomEnvironment\",\n",
    "        \"AtomNeighbors\",\n",
    "        \"BruteForce\",\n",
    "        \"DistanceFromClosest\",\n",
    "        \"ElectroNegFromClosest\",\n",
    "        \"ACSF\",\n",
    "        \"MullikenChargePred\",\n",
    "        \"OpenBabelBasic\"]"
   ]
  },
  {
   "cell_type": "code",
   "execution_count": 4,
   "metadata": {},
   "outputs": [],
   "source": [
    "X_train = pd.concat([feather.read_dataframe(\"../features/\" + feature + \"_train.feather\") for feature in features], axis=1)\n",
    "X_test = pd.concat([feather.read_dataframe(\"../features/\" + feature + \"_test.feather\") for feature in features], axis=1)"
   ]
  },
  {
   "cell_type": "code",
   "execution_count": 5,
   "metadata": {},
   "outputs": [
    {
     "data": {
      "text/plain": [
       "((4658147, 452), (2505542, 452))"
      ]
     },
     "execution_count": 5,
     "metadata": {},
     "output_type": "execute_result"
    }
   ],
   "source": [
    "X_train.shape, X_test.shape"
   ]
  },
  {
   "cell_type": "code",
   "execution_count": 6,
   "metadata": {},
   "outputs": [
    {
     "data": {
      "text/html": [
       "<div>\n",
       "<style scoped>\n",
       "    .dataframe tbody tr th:only-of-type {\n",
       "        vertical-align: middle;\n",
       "    }\n",
       "\n",
       "    .dataframe tbody tr th {\n",
       "        vertical-align: top;\n",
       "    }\n",
       "\n",
       "    .dataframe thead th {\n",
       "        text-align: right;\n",
       "    }\n",
       "</style>\n",
       "<table border=\"1\" class=\"dataframe\">\n",
       "  <thead>\n",
       "    <tr style=\"text-align: right;\">\n",
       "      <th></th>\n",
       "      <th>atom_0</th>\n",
       "      <th>atom_1</th>\n",
       "      <th>x_0</th>\n",
       "      <th>x_1</th>\n",
       "      <th>y_0</th>\n",
       "      <th>y_1</th>\n",
       "      <th>z_0</th>\n",
       "      <th>z_1</th>\n",
       "      <th>atom_distance</th>\n",
       "      <th>dist_inv_0_sum</th>\n",
       "      <th>...</th>\n",
       "      <th>tertiary_angle_6</th>\n",
       "      <th>tertiary_atom_7</th>\n",
       "      <th>tertiary_distance_7</th>\n",
       "      <th>tertiary_angle_7</th>\n",
       "      <th>tertiary_atom_8</th>\n",
       "      <th>tertiary_distance_8</th>\n",
       "      <th>tertiary_angle_8</th>\n",
       "      <th>tertiary_atom_9</th>\n",
       "      <th>tertiary_distance_9</th>\n",
       "      <th>tertiary_angle_9</th>\n",
       "    </tr>\n",
       "  </thead>\n",
       "  <tbody>\n",
       "    <tr>\n",
       "      <th>0</th>\n",
       "      <td>H</td>\n",
       "      <td>C</td>\n",
       "      <td>0.002150</td>\n",
       "      <td>-0.012698</td>\n",
       "      <td>-0.006031</td>\n",
       "      <td>1.085804</td>\n",
       "      <td>0.001976</td>\n",
       "      <td>0.008001</td>\n",
       "      <td>1.091953</td>\n",
       "      <td>1.297179</td>\n",
       "      <td>...</td>\n",
       "      <td>NaN</td>\n",
       "      <td>None</td>\n",
       "      <td>NaN</td>\n",
       "      <td>NaN</td>\n",
       "      <td>None</td>\n",
       "      <td>NaN</td>\n",
       "      <td>NaN</td>\n",
       "      <td>None</td>\n",
       "      <td>NaN</td>\n",
       "      <td>NaN</td>\n",
       "    </tr>\n",
       "    <tr>\n",
       "      <th>1</th>\n",
       "      <td>H</td>\n",
       "      <td>H</td>\n",
       "      <td>0.002150</td>\n",
       "      <td>1.011731</td>\n",
       "      <td>-0.006031</td>\n",
       "      <td>1.463751</td>\n",
       "      <td>0.001976</td>\n",
       "      <td>0.000277</td>\n",
       "      <td>1.783120</td>\n",
       "      <td>1.297179</td>\n",
       "      <td>...</td>\n",
       "      <td>NaN</td>\n",
       "      <td>None</td>\n",
       "      <td>NaN</td>\n",
       "      <td>NaN</td>\n",
       "      <td>None</td>\n",
       "      <td>NaN</td>\n",
       "      <td>NaN</td>\n",
       "      <td>None</td>\n",
       "      <td>NaN</td>\n",
       "      <td>NaN</td>\n",
       "    </tr>\n",
       "    <tr>\n",
       "      <th>2</th>\n",
       "      <td>H</td>\n",
       "      <td>H</td>\n",
       "      <td>0.002150</td>\n",
       "      <td>-0.540815</td>\n",
       "      <td>-0.006031</td>\n",
       "      <td>1.447527</td>\n",
       "      <td>0.001976</td>\n",
       "      <td>-0.876644</td>\n",
       "      <td>1.783147</td>\n",
       "      <td>1.297179</td>\n",
       "      <td>...</td>\n",
       "      <td>NaN</td>\n",
       "      <td>None</td>\n",
       "      <td>NaN</td>\n",
       "      <td>NaN</td>\n",
       "      <td>None</td>\n",
       "      <td>NaN</td>\n",
       "      <td>NaN</td>\n",
       "      <td>None</td>\n",
       "      <td>NaN</td>\n",
       "      <td>NaN</td>\n",
       "    </tr>\n",
       "    <tr>\n",
       "      <th>3</th>\n",
       "      <td>H</td>\n",
       "      <td>H</td>\n",
       "      <td>0.002150</td>\n",
       "      <td>-0.523814</td>\n",
       "      <td>-0.006031</td>\n",
       "      <td>1.437933</td>\n",
       "      <td>0.001976</td>\n",
       "      <td>0.906397</td>\n",
       "      <td>1.783157</td>\n",
       "      <td>1.297179</td>\n",
       "      <td>...</td>\n",
       "      <td>NaN</td>\n",
       "      <td>None</td>\n",
       "      <td>NaN</td>\n",
       "      <td>NaN</td>\n",
       "      <td>None</td>\n",
       "      <td>NaN</td>\n",
       "      <td>NaN</td>\n",
       "      <td>None</td>\n",
       "      <td>NaN</td>\n",
       "      <td>NaN</td>\n",
       "    </tr>\n",
       "    <tr>\n",
       "      <th>4</th>\n",
       "      <td>H</td>\n",
       "      <td>C</td>\n",
       "      <td>1.011731</td>\n",
       "      <td>-0.012698</td>\n",
       "      <td>1.463751</td>\n",
       "      <td>1.085804</td>\n",
       "      <td>0.000277</td>\n",
       "      <td>0.008001</td>\n",
       "      <td>1.091952</td>\n",
       "      <td>1.120798</td>\n",
       "      <td>...</td>\n",
       "      <td>NaN</td>\n",
       "      <td>None</td>\n",
       "      <td>NaN</td>\n",
       "      <td>NaN</td>\n",
       "      <td>None</td>\n",
       "      <td>NaN</td>\n",
       "      <td>NaN</td>\n",
       "      <td>None</td>\n",
       "      <td>NaN</td>\n",
       "      <td>NaN</td>\n",
       "    </tr>\n",
       "  </tbody>\n",
       "</table>\n",
       "<p>5 rows × 452 columns</p>\n",
       "</div>"
      ],
      "text/plain": [
       "  atom_0 atom_1       x_0       x_1       y_0       y_1       z_0       z_1  \\\n",
       "0      H      C  0.002150 -0.012698 -0.006031  1.085804  0.001976  0.008001   \n",
       "1      H      H  0.002150  1.011731 -0.006031  1.463751  0.001976  0.000277   \n",
       "2      H      H  0.002150 -0.540815 -0.006031  1.447527  0.001976 -0.876644   \n",
       "3      H      H  0.002150 -0.523814 -0.006031  1.437933  0.001976  0.906397   \n",
       "4      H      C  1.011731 -0.012698  1.463751  1.085804  0.000277  0.008001   \n",
       "\n",
       "   atom_distance  dist_inv_0_sum  ...  tertiary_angle_6  tertiary_atom_7  \\\n",
       "0       1.091953        1.297179  ...               NaN             None   \n",
       "1       1.783120        1.297179  ...               NaN             None   \n",
       "2       1.783147        1.297179  ...               NaN             None   \n",
       "3       1.783157        1.297179  ...               NaN             None   \n",
       "4       1.091952        1.120798  ...               NaN             None   \n",
       "\n",
       "   tertiary_distance_7  tertiary_angle_7  tertiary_atom_8  \\\n",
       "0                  NaN               NaN             None   \n",
       "1                  NaN               NaN             None   \n",
       "2                  NaN               NaN             None   \n",
       "3                  NaN               NaN             None   \n",
       "4                  NaN               NaN             None   \n",
       "\n",
       "   tertiary_distance_8  tertiary_angle_8  tertiary_atom_9  \\\n",
       "0                  NaN               NaN             None   \n",
       "1                  NaN               NaN             None   \n",
       "2                  NaN               NaN             None   \n",
       "3                  NaN               NaN             None   \n",
       "4                  NaN               NaN             None   \n",
       "\n",
       "   tertiary_distance_9  tertiary_angle_9  \n",
       "0                  NaN               NaN  \n",
       "1                  NaN               NaN  \n",
       "2                  NaN               NaN  \n",
       "3                  NaN               NaN  \n",
       "4                  NaN               NaN  \n",
       "\n",
       "[5 rows x 452 columns]"
      ]
     },
     "execution_count": 6,
     "metadata": {},
     "output_type": "execute_result"
    }
   ],
   "source": [
    "X_train.head()"
   ]
  },
  {
   "cell_type": "code",
   "execution_count": 7,
   "metadata": {},
   "outputs": [],
   "source": [
    "contri = feather.read_dataframe(\"../data/input/scalar_coupling_contributions.feather\")"
   ]
  },
  {
   "cell_type": "code",
   "execution_count": 8,
   "metadata": {},
   "outputs": [
    {
     "data": {
      "text/html": [
       "<div>\n",
       "<style scoped>\n",
       "    .dataframe tbody tr th:only-of-type {\n",
       "        vertical-align: middle;\n",
       "    }\n",
       "\n",
       "    .dataframe tbody tr th {\n",
       "        vertical-align: top;\n",
       "    }\n",
       "\n",
       "    .dataframe thead th {\n",
       "        text-align: right;\n",
       "    }\n",
       "</style>\n",
       "<table border=\"1\" class=\"dataframe\">\n",
       "  <thead>\n",
       "    <tr style=\"text-align: right;\">\n",
       "      <th></th>\n",
       "      <th>molecule_name</th>\n",
       "      <th>atom_index_0</th>\n",
       "      <th>atom_index_1</th>\n",
       "      <th>type</th>\n",
       "      <th>fc</th>\n",
       "      <th>sd</th>\n",
       "      <th>pso</th>\n",
       "      <th>dso</th>\n",
       "    </tr>\n",
       "  </thead>\n",
       "  <tbody>\n",
       "    <tr>\n",
       "      <th>0</th>\n",
       "      <td>dsgdb9nsd_000001</td>\n",
       "      <td>1</td>\n",
       "      <td>0</td>\n",
       "      <td>1JHC</td>\n",
       "      <td>83.0224</td>\n",
       "      <td>0.254579</td>\n",
       "      <td>1.25862</td>\n",
       "      <td>0.272010</td>\n",
       "    </tr>\n",
       "    <tr>\n",
       "      <th>1</th>\n",
       "      <td>dsgdb9nsd_000001</td>\n",
       "      <td>1</td>\n",
       "      <td>2</td>\n",
       "      <td>2JHH</td>\n",
       "      <td>-11.0347</td>\n",
       "      <td>0.352978</td>\n",
       "      <td>2.85839</td>\n",
       "      <td>-3.433600</td>\n",
       "    </tr>\n",
       "    <tr>\n",
       "      <th>2</th>\n",
       "      <td>dsgdb9nsd_000001</td>\n",
       "      <td>1</td>\n",
       "      <td>3</td>\n",
       "      <td>2JHH</td>\n",
       "      <td>-11.0325</td>\n",
       "      <td>0.352944</td>\n",
       "      <td>2.85852</td>\n",
       "      <td>-3.433870</td>\n",
       "    </tr>\n",
       "    <tr>\n",
       "      <th>3</th>\n",
       "      <td>dsgdb9nsd_000001</td>\n",
       "      <td>1</td>\n",
       "      <td>4</td>\n",
       "      <td>2JHH</td>\n",
       "      <td>-11.0319</td>\n",
       "      <td>0.352934</td>\n",
       "      <td>2.85855</td>\n",
       "      <td>-3.433930</td>\n",
       "    </tr>\n",
       "    <tr>\n",
       "      <th>4</th>\n",
       "      <td>dsgdb9nsd_000001</td>\n",
       "      <td>2</td>\n",
       "      <td>0</td>\n",
       "      <td>1JHC</td>\n",
       "      <td>83.0222</td>\n",
       "      <td>0.254585</td>\n",
       "      <td>1.25861</td>\n",
       "      <td>0.272013</td>\n",
       "    </tr>\n",
       "  </tbody>\n",
       "</table>\n",
       "</div>"
      ],
      "text/plain": [
       "      molecule_name  atom_index_0  atom_index_1  type       fc        sd  \\\n",
       "0  dsgdb9nsd_000001             1             0  1JHC  83.0224  0.254579   \n",
       "1  dsgdb9nsd_000001             1             2  2JHH -11.0347  0.352978   \n",
       "2  dsgdb9nsd_000001             1             3  2JHH -11.0325  0.352944   \n",
       "3  dsgdb9nsd_000001             1             4  2JHH -11.0319  0.352934   \n",
       "4  dsgdb9nsd_000001             2             0  1JHC  83.0222  0.254585   \n",
       "\n",
       "       pso       dso  \n",
       "0  1.25862  0.272010  \n",
       "1  2.85839 -3.433600  \n",
       "2  2.85852 -3.433870  \n",
       "3  2.85855 -3.433930  \n",
       "4  1.25861  0.272013  "
      ]
     },
     "execution_count": 8,
     "metadata": {},
     "output_type": "execute_result"
    }
   ],
   "source": [
    "contri.head()"
   ]
  },
  {
   "cell_type": "code",
   "execution_count": 10,
   "metadata": {},
   "outputs": [
    {
     "name": "stdout",
     "output_type": "stream",
     "text": [
      "Starting atom_0\n",
      "Starting atom_1\n",
      "Starting type\n",
      "Starting a1_is_aromatic\n",
      "Starting a1_in_ring\n",
      "Starting a1_in_ring3\n",
      "Starting a1_in_ring4\n",
      "Starting a1_in_ring5\n",
      "Starting a1_in_ring6\n",
      "Starting a1_in_ring7\n",
      "Starting a1_in_ring8\n",
      "Starting bond_atom\n",
      "Starting tertiary_atom_0\n",
      "Starting tertiary_atom_1\n",
      "Starting tertiary_atom_2\n",
      "Starting tertiary_atom_3\n",
      "Starting tertiary_atom_4\n",
      "Starting tertiary_atom_5\n",
      "Starting tertiary_atom_6\n",
      "Starting tertiary_atom_7\n",
      "Starting tertiary_atom_8\n",
      "Starting tertiary_atom_9\n"
     ]
    }
   ],
   "source": [
    "# keep nan as is\n",
    "#coupling_types = X_train['type']\n",
    "categorical_cols = list(X_train.columns[X_train.dtypes == object])\n",
    "\n",
    "\n",
    "for col in categorical_cols:    \n",
    "    print(f'Starting {col}')\n",
    "    uniques = list(X_train[col].unique())\n",
    "    if None in uniques:\n",
    "        uniques.remove(None)\n",
    "    mapping = dict(zip(uniques, range(1, len(uniques)+1)))\n",
    "    X_train[col] = X_train[col].map(mapping)\n",
    "    X_test[col] = X_test[col].map(mapping)"
   ]
  },
  {
   "cell_type": "code",
   "execution_count": 16,
   "metadata": {},
   "outputs": [
    {
     "name": "stdout",
     "output_type": "stream",
     "text": [
      "Memory usage of dataframe is 15104.01 MB\n",
      "Memory usage after optimization is: 7934.05 MB\n",
      "Decreased by 47.5%\n",
      "Memory usage of dataframe is 8114.64 MB\n",
      "Memory usage after optimization is: 4250.87 MB\n",
      "Decreased by 47.6%\n"
     ]
    },
    {
     "ename": "NameError",
     "evalue": "name 'gc' is not defined",
     "output_type": "error",
     "traceback": [
      "\u001b[1;31m---------------------------------------------------------------------------\u001b[0m",
      "\u001b[1;31mNameError\u001b[0m                                 Traceback (most recent call last)",
      "\u001b[1;32m<ipython-input-16-9472e5a18143>\u001b[0m in \u001b[0;36m<module>\u001b[1;34m\u001b[0m\n\u001b[0;32m      1\u001b[0m \u001b[0mX_train\u001b[0m \u001b[1;33m=\u001b[0m \u001b[0mreduce_mem_usage\u001b[0m\u001b[1;33m(\u001b[0m\u001b[0mX_train\u001b[0m\u001b[1;33m)\u001b[0m\u001b[1;33m\u001b[0m\u001b[0m\n\u001b[0;32m      2\u001b[0m \u001b[0mX_test\u001b[0m \u001b[1;33m=\u001b[0m \u001b[0mreduce_mem_usage\u001b[0m\u001b[1;33m(\u001b[0m\u001b[0mX_test\u001b[0m\u001b[1;33m)\u001b[0m\u001b[1;33m\u001b[0m\u001b[0m\n\u001b[1;32m----> 3\u001b[1;33m \u001b[0mgc\u001b[0m\u001b[1;33m.\u001b[0m\u001b[0mcollect\u001b[0m\u001b[1;33m(\u001b[0m\u001b[1;33m)\u001b[0m\u001b[1;33m\u001b[0m\u001b[0m\n\u001b[0m",
      "\u001b[1;31mNameError\u001b[0m: name 'gc' is not defined"
     ]
    }
   ],
   "source": [
    "X_train = reduce_mem_usage(X_train)\n",
    "X_test = reduce_mem_usage(X_test)"
   ]
  },
  {
   "cell_type": "code",
   "execution_count": 18,
   "metadata": {},
   "outputs": [
    {
     "data": {
      "text/plain": [
       "1330"
      ]
     },
     "execution_count": 18,
     "metadata": {},
     "output_type": "execute_result"
    }
   ],
   "source": [
    "gc.collect()"
   ]
  },
  {
   "cell_type": "code",
   "execution_count": 35,
   "metadata": {},
   "outputs": [],
   "source": [
    "train_types = X_train['type'].values\n",
    "test_types = X_test['type'].values"
   ]
  },
  {
   "cell_type": "code",
   "execution_count": 43,
   "metadata": {
    "scrolled": true
   },
   "outputs": [
    {
     "name": "stderr",
     "output_type": "stream",
     "text": [
      "C:\\Users\\kohei\\Anaconda3\\lib\\site-packages\\lightgbm\\basic.py:1205: UserWarning: Using categorical_feature in Dataset.\n",
      "  warnings.warn('Using categorical_feature in Dataset.')\n",
      "C:\\Users\\kohei\\Anaconda3\\lib\\site-packages\\lightgbm\\basic.py:762: UserWarning: categorical_feature in param dict is overridden.\n",
      "  warnings.warn('categorical_feature in param dict is overridden.')\n"
     ]
    },
    {
     "name": "stdout",
     "output_type": "stream",
     "text": [
      "Training until validation scores don't improve for 100 rounds.\n",
      "[1000]\ttraining's l1: 0.406676\tvalid_1's l1: 0.759535\n",
      "[2000]\ttraining's l1: 0.23861\tvalid_1's l1: 0.722005\n",
      "[3000]\ttraining's l1: 0.1532\tvalid_1's l1: 0.709364\n",
      "[4000]\ttraining's l1: 0.10261\tvalid_1's l1: 0.704061\n",
      "[5000]\ttraining's l1: 0.0706691\tvalid_1's l1: 0.701116\n",
      "[6000]\ttraining's l1: 0.0495137\tvalid_1's l1: 0.699595\n",
      "[7000]\ttraining's l1: 0.0354387\tvalid_1's l1: 0.698623\n",
      "[8000]\ttraining's l1: 0.0256399\tvalid_1's l1: 0.698049\n",
      "[9000]\ttraining's l1: 0.0187593\tvalid_1's l1: 0.697726\n",
      "[10000]\ttraining's l1: 0.0139179\tvalid_1's l1: 0.697502\n",
      "Did not meet early stopping. Best iteration is:\n",
      "[10000]\ttraining's l1: 0.0139179\tvalid_1's l1: 0.697502\n",
      "Training until validation scores don't improve for 100 rounds.\n",
      "[1000]\ttraining's l1: 0.408137\tvalid_1's l1: 0.761197\n",
      "[2000]\ttraining's l1: 0.239146\tvalid_1's l1: 0.722948\n",
      "[3000]\ttraining's l1: 0.153376\tvalid_1's l1: 0.71021\n",
      "[4000]\ttraining's l1: 0.102717\tvalid_1's l1: 0.704546\n",
      "[5000]\ttraining's l1: 0.0706243\tvalid_1's l1: 0.701589\n",
      "[6000]\ttraining's l1: 0.0495543\tvalid_1's l1: 0.700124\n",
      "[7000]\ttraining's l1: 0.0353138\tvalid_1's l1: 0.699217\n",
      "[8000]\ttraining's l1: 0.0255863\tvalid_1's l1: 0.698674\n",
      "[9000]\ttraining's l1: 0.0187255\tvalid_1's l1: 0.698327\n",
      "[10000]\ttraining's l1: 0.0138445\tvalid_1's l1: 0.698127\n",
      "Did not meet early stopping. Best iteration is:\n",
      "[10000]\ttraining's l1: 0.0138445\tvalid_1's l1: 0.698127\n",
      "1 for fc done!\n"
     ]
    },
    {
     "name": "stderr",
     "output_type": "stream",
     "text": [
      "C:\\Users\\kohei\\Anaconda3\\lib\\site-packages\\lightgbm\\basic.py:1205: UserWarning: Using categorical_feature in Dataset.\n",
      "  warnings.warn('Using categorical_feature in Dataset.')\n",
      "C:\\Users\\kohei\\Anaconda3\\lib\\site-packages\\lightgbm\\basic.py:762: UserWarning: categorical_feature in param dict is overridden.\n",
      "  warnings.warn('categorical_feature in param dict is overridden.')\n"
     ]
    },
    {
     "name": "stdout",
     "output_type": "stream",
     "text": [
      "Training until validation scores don't improve for 100 rounds.\n",
      "[1000]\ttraining's l1: 0.0647107\tvalid_1's l1: 0.183165\n",
      "[2000]\ttraining's l1: 0.0295535\tvalid_1's l1: 0.178646\n",
      "[3000]\ttraining's l1: 0.0151506\tvalid_1's l1: 0.177451\n",
      "[4000]\ttraining's l1: 0.00834341\tvalid_1's l1: 0.177074\n",
      "[5000]\ttraining's l1: 0.00492689\tvalid_1's l1: 0.17692\n",
      "[6000]\ttraining's l1: 0.00312233\tvalid_1's l1: 0.176846\n",
      "[7000]\ttraining's l1: 0.00212347\tvalid_1's l1: 0.176808\n",
      "[8000]\ttraining's l1: 0.00153166\tvalid_1's l1: 0.176788\n",
      "[9000]\ttraining's l1: 0.00116391\tvalid_1's l1: 0.176776\n",
      "[10000]\ttraining's l1: 0.000923763\tvalid_1's l1: 0.176769\n",
      "Did not meet early stopping. Best iteration is:\n",
      "[10000]\ttraining's l1: 0.000923763\tvalid_1's l1: 0.176769\n",
      "Training until validation scores don't improve for 100 rounds.\n",
      "[1000]\ttraining's l1: 0.0650167\tvalid_1's l1: 0.182459\n",
      "[2000]\ttraining's l1: 0.02961\tvalid_1's l1: 0.177897\n",
      "[3000]\ttraining's l1: 0.015168\tvalid_1's l1: 0.176736\n",
      "[4000]\ttraining's l1: 0.00837468\tvalid_1's l1: 0.176346\n",
      "[5000]\ttraining's l1: 0.00496145\tvalid_1's l1: 0.176191\n",
      "[6000]\ttraining's l1: 0.00313803\tvalid_1's l1: 0.176118\n",
      "[7000]\ttraining's l1: 0.0021256\tvalid_1's l1: 0.176082\n",
      "[8000]\ttraining's l1: 0.00153319\tvalid_1's l1: 0.176063\n",
      "[9000]\ttraining's l1: 0.00116553\tvalid_1's l1: 0.176052\n",
      "[10000]\ttraining's l1: 0.000927248\tvalid_1's l1: 0.176045\n",
      "Did not meet early stopping. Best iteration is:\n",
      "[10000]\ttraining's l1: 0.000927248\tvalid_1's l1: 0.176045\n",
      "2 for fc done!\n"
     ]
    },
    {
     "name": "stderr",
     "output_type": "stream",
     "text": [
      "C:\\Users\\kohei\\Anaconda3\\lib\\site-packages\\lightgbm\\basic.py:1205: UserWarning: Using categorical_feature in Dataset.\n",
      "  warnings.warn('Using categorical_feature in Dataset.')\n",
      "C:\\Users\\kohei\\Anaconda3\\lib\\site-packages\\lightgbm\\basic.py:762: UserWarning: categorical_feature in param dict is overridden.\n",
      "  warnings.warn('categorical_feature in param dict is overridden.')\n"
     ]
    },
    {
     "name": "stdout",
     "output_type": "stream",
     "text": [
      "Training until validation scores don't improve for 100 rounds.\n",
      "[1000]\ttraining's l1: 0.0452028\tvalid_1's l1: 0.420425\n",
      "[2000]\ttraining's l1: 0.00694069\tvalid_1's l1: 0.418946\n",
      "Early stopping, best iteration is:\n",
      "[2301]\ttraining's l1: 0.0039104\tvalid_1's l1: 0.418897\n",
      "Training until validation scores don't improve for 100 rounds.\n",
      "[1000]\ttraining's l1: 0.054506\tvalid_1's l1: 0.420613\n",
      "[2000]\ttraining's l1: 0.0152439\tvalid_1's l1: 0.418039\n",
      "[3000]\ttraining's l1: 0.00495958\tvalid_1's l1: 0.417469\n",
      "[4000]\ttraining's l1: 0.00187157\tvalid_1's l1: 0.417374\n",
      "Early stopping, best iteration is:\n",
      "[4419]\ttraining's l1: 0.00143357\tvalid_1's l1: 0.417363\n",
      "3 for fc done!\n"
     ]
    },
    {
     "name": "stderr",
     "output_type": "stream",
     "text": [
      "C:\\Users\\kohei\\Anaconda3\\lib\\site-packages\\lightgbm\\basic.py:1205: UserWarning: Using categorical_feature in Dataset.\n",
      "  warnings.warn('Using categorical_feature in Dataset.')\n",
      "C:\\Users\\kohei\\Anaconda3\\lib\\site-packages\\lightgbm\\basic.py:762: UserWarning: categorical_feature in param dict is overridden.\n",
      "  warnings.warn('categorical_feature in param dict is overridden.')\n"
     ]
    },
    {
     "name": "stdout",
     "output_type": "stream",
     "text": [
      "Training until validation scores don't improve for 100 rounds.\n",
      "[1000]\ttraining's l1: 0.0274747\tvalid_1's l1: 0.229538\n",
      "[2000]\ttraining's l1: 0.00538778\tvalid_1's l1: 0.228273\n",
      "[3000]\ttraining's l1: 0.00180349\tvalid_1's l1: 0.22815\n",
      "[4000]\ttraining's l1: 0.00102481\tvalid_1's l1: 0.228125\n",
      "[5000]\ttraining's l1: 0.000809111\tvalid_1's l1: 0.228118\n",
      "Early stopping, best iteration is:\n",
      "[5475]\ttraining's l1: 0.000751207\tvalid_1's l1: 0.228115\n",
      "Training until validation scores don't improve for 100 rounds.\n",
      "[1000]\ttraining's l1: 0.0277001\tvalid_1's l1: 0.223235\n",
      "[2000]\ttraining's l1: 0.00543912\tvalid_1's l1: 0.2219\n",
      "[3000]\ttraining's l1: 0.00181771\tvalid_1's l1: 0.221772\n",
      "[4000]\ttraining's l1: 0.00103411\tvalid_1's l1: 0.221744\n",
      "[5000]\ttraining's l1: 0.000814374\tvalid_1's l1: 0.221737\n",
      "Early stopping, best iteration is:\n",
      "[5060]\ttraining's l1: 0.000805689\tvalid_1's l1: 0.221736\n",
      "4 for fc done!\n"
     ]
    },
    {
     "name": "stderr",
     "output_type": "stream",
     "text": [
      "C:\\Users\\kohei\\Anaconda3\\lib\\site-packages\\lightgbm\\basic.py:1205: UserWarning: Using categorical_feature in Dataset.\n",
      "  warnings.warn('Using categorical_feature in Dataset.')\n",
      "C:\\Users\\kohei\\Anaconda3\\lib\\site-packages\\lightgbm\\basic.py:762: UserWarning: categorical_feature in param dict is overridden.\n",
      "  warnings.warn('categorical_feature in param dict is overridden.')\n"
     ]
    },
    {
     "name": "stdout",
     "output_type": "stream",
     "text": [
      "Training until validation scores don't improve for 100 rounds.\n",
      "[1000]\ttraining's l1: 0.21644\tvalid_1's l1: 0.332008\n",
      "[2000]\ttraining's l1: 0.142941\tvalid_1's l1: 0.309945\n",
      "[3000]\ttraining's l1: 0.102488\tvalid_1's l1: 0.301936\n",
      "[4000]\ttraining's l1: 0.0762147\tvalid_1's l1: 0.29801\n",
      "[5000]\ttraining's l1: 0.0580112\tvalid_1's l1: 0.295772\n",
      "[6000]\ttraining's l1: 0.0449242\tvalid_1's l1: 0.294347\n",
      "[7000]\ttraining's l1: 0.0352225\tvalid_1's l1: 0.29344\n",
      "[8000]\ttraining's l1: 0.0278349\tvalid_1's l1: 0.292872\n",
      "[9000]\ttraining's l1: 0.022208\tvalid_1's l1: 0.292455\n",
      "[10000]\ttraining's l1: 0.0178522\tvalid_1's l1: 0.292179\n",
      "Did not meet early stopping. Best iteration is:\n",
      "[10000]\ttraining's l1: 0.0178522\tvalid_1's l1: 0.292179\n",
      "Training until validation scores don't improve for 100 rounds.\n",
      "[1000]\ttraining's l1: 0.217367\tvalid_1's l1: 0.33571\n",
      "[2000]\ttraining's l1: 0.144322\tvalid_1's l1: 0.314246\n",
      "[3000]\ttraining's l1: 0.103663\tvalid_1's l1: 0.306086\n",
      "[4000]\ttraining's l1: 0.0772076\tvalid_1's l1: 0.302118\n",
      "[5000]\ttraining's l1: 0.0588286\tvalid_1's l1: 0.299913\n",
      "[6000]\ttraining's l1: 0.0455049\tvalid_1's l1: 0.298547\n",
      "[7000]\ttraining's l1: 0.035657\tvalid_1's l1: 0.297692\n",
      "[8000]\ttraining's l1: 0.028243\tvalid_1's l1: 0.297114\n",
      "[9000]\ttraining's l1: 0.0225809\tvalid_1's l1: 0.296718\n",
      "[10000]\ttraining's l1: 0.0181663\tvalid_1's l1: 0.296445\n",
      "Did not meet early stopping. Best iteration is:\n",
      "[10000]\ttraining's l1: 0.0181663\tvalid_1's l1: 0.296445\n",
      "5 for fc done!\n"
     ]
    },
    {
     "name": "stderr",
     "output_type": "stream",
     "text": [
      "C:\\Users\\kohei\\Anaconda3\\lib\\site-packages\\lightgbm\\basic.py:1205: UserWarning: Using categorical_feature in Dataset.\n",
      "  warnings.warn('Using categorical_feature in Dataset.')\n",
      "C:\\Users\\kohei\\Anaconda3\\lib\\site-packages\\lightgbm\\basic.py:762: UserWarning: categorical_feature in param dict is overridden.\n",
      "  warnings.warn('categorical_feature in param dict is overridden.')\n"
     ]
    },
    {
     "name": "stdout",
     "output_type": "stream",
     "text": [
      "Training until validation scores don't improve for 100 rounds.\n",
      "[1000]\ttraining's l1: 0.104335\tvalid_1's l1: 0.213298\n",
      "[2000]\ttraining's l1: 0.0574318\tvalid_1's l1: 0.204721\n",
      "[3000]\ttraining's l1: 0.0347145\tvalid_1's l1: 0.202218\n",
      "[4000]\ttraining's l1: 0.0220205\tvalid_1's l1: 0.201169\n",
      "[5000]\ttraining's l1: 0.0144583\tvalid_1's l1: 0.200667\n",
      "[6000]\ttraining's l1: 0.00979039\tvalid_1's l1: 0.200421\n",
      "[7000]\ttraining's l1: 0.00680508\tvalid_1's l1: 0.200276\n",
      "[8000]\ttraining's l1: 0.00486845\tvalid_1's l1: 0.200194\n",
      "[9000]\ttraining's l1: 0.00358157\tvalid_1's l1: 0.200144\n",
      "[10000]\ttraining's l1: 0.00271247\tvalid_1's l1: 0.200111\n",
      "Did not meet early stopping. Best iteration is:\n",
      "[10000]\ttraining's l1: 0.00271247\tvalid_1's l1: 0.200111\n",
      "Training until validation scores don't improve for 100 rounds.\n",
      "[1000]\ttraining's l1: 0.105406\tvalid_1's l1: 0.217118\n",
      "[2000]\ttraining's l1: 0.0581248\tvalid_1's l1: 0.208438\n",
      "[3000]\ttraining's l1: 0.035117\tvalid_1's l1: 0.205759\n",
      "[4000]\ttraining's l1: 0.0222991\tvalid_1's l1: 0.204575\n",
      "[5000]\ttraining's l1: 0.0146837\tvalid_1's l1: 0.204046\n",
      "[6000]\ttraining's l1: 0.00992538\tvalid_1's l1: 0.20378\n",
      "[7000]\ttraining's l1: 0.00690151\tvalid_1's l1: 0.203615\n",
      "[8000]\ttraining's l1: 0.00494049\tvalid_1's l1: 0.203526\n",
      "[9000]\ttraining's l1: 0.00363001\tvalid_1's l1: 0.20347\n",
      "[10000]\ttraining's l1: 0.00274513\tvalid_1's l1: 0.203439\n",
      "Did not meet early stopping. Best iteration is:\n",
      "[10000]\ttraining's l1: 0.00274513\tvalid_1's l1: 0.203439\n",
      "6 for fc done!\n"
     ]
    },
    {
     "name": "stderr",
     "output_type": "stream",
     "text": [
      "C:\\Users\\kohei\\Anaconda3\\lib\\site-packages\\lightgbm\\basic.py:1205: UserWarning: Using categorical_feature in Dataset.\n",
      "  warnings.warn('Using categorical_feature in Dataset.')\n",
      "C:\\Users\\kohei\\Anaconda3\\lib\\site-packages\\lightgbm\\basic.py:762: UserWarning: categorical_feature in param dict is overridden.\n",
      "  warnings.warn('categorical_feature in param dict is overridden.')\n"
     ]
    },
    {
     "name": "stdout",
     "output_type": "stream",
     "text": [
      "Training until validation scores don't improve for 100 rounds.\n",
      "[1000]\ttraining's l1: 0.274126\tvalid_1's l1: 0.38157\n",
      "[2000]\ttraining's l1: 0.194335\tvalid_1's l1: 0.355046\n",
      "[3000]\ttraining's l1: 0.14729\tvalid_1's l1: 0.344108\n",
      "[4000]\ttraining's l1: 0.11537\tvalid_1's l1: 0.338631\n",
      "[5000]\ttraining's l1: 0.0921503\tvalid_1's l1: 0.335467\n",
      "[6000]\ttraining's l1: 0.0745979\tvalid_1's l1: 0.333305\n",
      "[7000]\ttraining's l1: 0.060986\tvalid_1's l1: 0.331903\n",
      "[8000]\ttraining's l1: 0.050213\tvalid_1's l1: 0.330895\n",
      "[9000]\ttraining's l1: 0.0416378\tvalid_1's l1: 0.330167\n",
      "[10000]\ttraining's l1: 0.0347079\tvalid_1's l1: 0.329651\n",
      "Did not meet early stopping. Best iteration is:\n",
      "[10000]\ttraining's l1: 0.0347079\tvalid_1's l1: 0.329651\n",
      "Training until validation scores don't improve for 100 rounds.\n",
      "[1000]\ttraining's l1: 0.274601\tvalid_1's l1: 0.381164\n",
      "[2000]\ttraining's l1: 0.1943\tvalid_1's l1: 0.354335\n",
      "[3000]\ttraining's l1: 0.147694\tvalid_1's l1: 0.343857\n",
      "[4000]\ttraining's l1: 0.115666\tvalid_1's l1: 0.338389\n",
      "[5000]\ttraining's l1: 0.0924704\tvalid_1's l1: 0.335149\n",
      "[6000]\ttraining's l1: 0.0748437\tvalid_1's l1: 0.33303\n",
      "[7000]\ttraining's l1: 0.0612099\tvalid_1's l1: 0.331628\n",
      "[8000]\ttraining's l1: 0.0504572\tvalid_1's l1: 0.330588\n",
      "[9000]\ttraining's l1: 0.0418236\tvalid_1's l1: 0.329877\n",
      "[10000]\ttraining's l1: 0.0348827\tvalid_1's l1: 0.329371\n",
      "Did not meet early stopping. Best iteration is:\n",
      "[10000]\ttraining's l1: 0.0348827\tvalid_1's l1: 0.329371\n",
      "7 for fc done!\n"
     ]
    },
    {
     "name": "stderr",
     "output_type": "stream",
     "text": [
      "C:\\Users\\kohei\\Anaconda3\\lib\\site-packages\\lightgbm\\basic.py:1205: UserWarning: Using categorical_feature in Dataset.\n",
      "  warnings.warn('Using categorical_feature in Dataset.')\n",
      "C:\\Users\\kohei\\Anaconda3\\lib\\site-packages\\lightgbm\\basic.py:762: UserWarning: categorical_feature in param dict is overridden.\n",
      "  warnings.warn('categorical_feature in param dict is overridden.')\n"
     ]
    },
    {
     "name": "stdout",
     "output_type": "stream",
     "text": [
      "Training until validation scores don't improve for 100 rounds.\n",
      "[1000]\ttraining's l1: 0.0251634\tvalid_1's l1: 0.15724\n",
      "[2000]\ttraining's l1: 0.00655308\tvalid_1's l1: 0.155878\n",
      "[3000]\ttraining's l1: 0.0024725\tvalid_1's l1: 0.155696\n",
      "[4000]\ttraining's l1: 0.00129028\tvalid_1's l1: 0.155654\n",
      "[5000]\ttraining's l1: 0.000894209\tvalid_1's l1: 0.155643\n",
      "Early stopping, best iteration is:\n",
      "[5787]\ttraining's l1: 0.000764334\tvalid_1's l1: 0.15564\n",
      "Training until validation scores don't improve for 100 rounds.\n",
      "[1000]\ttraining's l1: 0.0249121\tvalid_1's l1: 0.157527\n",
      "[2000]\ttraining's l1: 0.00650063\tvalid_1's l1: 0.156113\n",
      "[3000]\ttraining's l1: 0.00246136\tvalid_1's l1: 0.155938\n",
      "[4000]\ttraining's l1: 0.00129021\tvalid_1's l1: 0.155899\n",
      "[5000]\ttraining's l1: 0.000895602\tvalid_1's l1: 0.155889\n",
      "Early stopping, best iteration is:\n",
      "[5587]\ttraining's l1: 0.000794748\tvalid_1's l1: 0.155884\n",
      "8 for fc done!\n"
     ]
    },
    {
     "name": "stderr",
     "output_type": "stream",
     "text": [
      "C:\\Users\\kohei\\Anaconda3\\lib\\site-packages\\lightgbm\\basic.py:1205: UserWarning: Using categorical_feature in Dataset.\n",
      "  warnings.warn('Using categorical_feature in Dataset.')\n",
      "C:\\Users\\kohei\\Anaconda3\\lib\\site-packages\\lightgbm\\basic.py:762: UserWarning: categorical_feature in param dict is overridden.\n",
      "  warnings.warn('categorical_feature in param dict is overridden.')\n"
     ]
    },
    {
     "name": "stdout",
     "output_type": "stream",
     "text": [
      "Training until validation scores don't improve for 100 rounds.\n",
      "[1000]\ttraining's l1: 0.00242751\tvalid_1's l1: 0.00429752\n",
      "[2000]\ttraining's l1: 0.00159369\tvalid_1's l1: 0.00407596\n",
      "[3000]\ttraining's l1: 0.00117352\tvalid_1's l1: 0.00400145\n",
      "[4000]\ttraining's l1: 0.000922125\tvalid_1's l1: 0.00396505\n",
      "[5000]\ttraining's l1: 0.000756305\tvalid_1's l1: 0.00394584\n",
      "[6000]\ttraining's l1: 0.00064172\tvalid_1's l1: 0.00393447\n",
      "[7000]\ttraining's l1: 0.000560707\tvalid_1's l1: 0.0039271\n",
      "[8000]\ttraining's l1: 0.000503662\tvalid_1's l1: 0.0039226\n",
      "[9000]\ttraining's l1: 0.000464709\tvalid_1's l1: 0.00391935\n",
      "[10000]\ttraining's l1: 0.000436581\tvalid_1's l1: 0.00391699\n",
      "Did not meet early stopping. Best iteration is:\n",
      "[10000]\ttraining's l1: 0.000436581\tvalid_1's l1: 0.00391699\n",
      "Training until validation scores don't improve for 100 rounds.\n",
      "[1000]\ttraining's l1: 0.00249949\tvalid_1's l1: 0.00431931\n",
      "[2000]\ttraining's l1: 0.00163947\tvalid_1's l1: 0.00409746\n",
      "[3000]\ttraining's l1: 0.0012026\tvalid_1's l1: 0.00402293\n",
      "[4000]\ttraining's l1: 0.000940679\tvalid_1's l1: 0.00398675\n",
      "[5000]\ttraining's l1: 0.000769062\tvalid_1's l1: 0.00396701\n",
      "[6000]\ttraining's l1: 0.000651023\tvalid_1's l1: 0.0039559\n",
      "[7000]\ttraining's l1: 0.000567458\tvalid_1's l1: 0.00394882\n",
      "[8000]\ttraining's l1: 0.000508829\tvalid_1's l1: 0.0039441\n",
      "[9000]\ttraining's l1: 0.000468431\tvalid_1's l1: 0.00394084\n",
      "[10000]\ttraining's l1: 0.000439555\tvalid_1's l1: 0.00393884\n",
      "Did not meet early stopping. Best iteration is:\n",
      "[10000]\ttraining's l1: 0.000439555\tvalid_1's l1: 0.00393884\n",
      "1 for sd done!\n"
     ]
    },
    {
     "name": "stderr",
     "output_type": "stream",
     "text": [
      "C:\\Users\\kohei\\Anaconda3\\lib\\site-packages\\lightgbm\\basic.py:1205: UserWarning: Using categorical_feature in Dataset.\n",
      "  warnings.warn('Using categorical_feature in Dataset.')\n",
      "C:\\Users\\kohei\\Anaconda3\\lib\\site-packages\\lightgbm\\basic.py:762: UserWarning: categorical_feature in param dict is overridden.\n",
      "  warnings.warn('categorical_feature in param dict is overridden.')\n"
     ]
    },
    {
     "name": "stdout",
     "output_type": "stream",
     "text": [
      "Training until validation scores don't improve for 100 rounds.\n",
      "[1000]\ttraining's l1: 0.000931844\tvalid_1's l1: 0.00186912\n",
      "[2000]\ttraining's l1: 0.000609525\tvalid_1's l1: 0.00180268\n",
      "[3000]\ttraining's l1: 0.000493032\tvalid_1's l1: 0.00178497\n",
      "[4000]\ttraining's l1: 0.000441248\tvalid_1's l1: 0.00177761\n",
      "[5000]\ttraining's l1: 0.000410925\tvalid_1's l1: 0.00177378\n",
      "[6000]\ttraining's l1: 0.000391175\tvalid_1's l1: 0.00177129\n",
      "[7000]\ttraining's l1: 0.000375991\tvalid_1's l1: 0.00176936\n",
      "[8000]\ttraining's l1: 0.000364283\tvalid_1's l1: 0.00176774\n",
      "[9000]\ttraining's l1: 0.000355093\tvalid_1's l1: 0.00176644\n",
      "[10000]\ttraining's l1: 0.00034765\tvalid_1's l1: 0.00176558\n",
      "Did not meet early stopping. Best iteration is:\n",
      "[9922]\ttraining's l1: 0.00034765\tvalid_1's l1: 0.00176558\n",
      "Training until validation scores don't improve for 100 rounds.\n",
      "[1000]\ttraining's l1: 0.000889846\tvalid_1's l1: 0.00181812\n",
      "[2000]\ttraining's l1: 0.000596844\tvalid_1's l1: 0.00175875\n",
      "[3000]\ttraining's l1: 0.000490677\tvalid_1's l1: 0.00174199\n",
      "[4000]\ttraining's l1: 0.000441141\tvalid_1's l1: 0.00173513\n",
      "[5000]\ttraining's l1: 0.000411499\tvalid_1's l1: 0.00173108\n",
      "[6000]\ttraining's l1: 0.000391161\tvalid_1's l1: 0.00172839\n",
      "[7000]\ttraining's l1: 0.000376407\tvalid_1's l1: 0.0017263\n",
      "[8000]\ttraining's l1: 0.000364828\tvalid_1's l1: 0.0017247\n",
      "Early stopping, best iteration is:\n",
      "[8812]\ttraining's l1: 0.000357049\tvalid_1's l1: 0.00172371\n",
      "2 for sd done!\n"
     ]
    },
    {
     "name": "stderr",
     "output_type": "stream",
     "text": [
      "C:\\Users\\kohei\\Anaconda3\\lib\\site-packages\\lightgbm\\basic.py:1205: UserWarning: Using categorical_feature in Dataset.\n",
      "  warnings.warn('Using categorical_feature in Dataset.')\n",
      "C:\\Users\\kohei\\Anaconda3\\lib\\site-packages\\lightgbm\\basic.py:762: UserWarning: categorical_feature in param dict is overridden.\n",
      "  warnings.warn('categorical_feature in param dict is overridden.')\n"
     ]
    },
    {
     "name": "stdout",
     "output_type": "stream",
     "text": [
      "Training until validation scores don't improve for 100 rounds.\n",
      "[1000]\ttraining's l1: 0.000812496\tvalid_1's l1: 0.0037742\n",
      "Early stopping, best iteration is:\n",
      "[1116]\ttraining's l1: 0.000789951\tvalid_1's l1: 0.00377114\n",
      "Training until validation scores don't improve for 100 rounds.\n",
      "[1000]\ttraining's l1: 0.000841162\tvalid_1's l1: 0.00375093\n",
      "Early stopping, best iteration is:\n",
      "[1012]\ttraining's l1: 0.00083787\tvalid_1's l1: 0.00375014\n",
      "3 for sd done!\n"
     ]
    },
    {
     "name": "stderr",
     "output_type": "stream",
     "text": [
      "C:\\Users\\kohei\\Anaconda3\\lib\\site-packages\\lightgbm\\basic.py:1205: UserWarning: Using categorical_feature in Dataset.\n",
      "  warnings.warn('Using categorical_feature in Dataset.')\n",
      "C:\\Users\\kohei\\Anaconda3\\lib\\site-packages\\lightgbm\\basic.py:762: UserWarning: categorical_feature in param dict is overridden.\n",
      "  warnings.warn('categorical_feature in param dict is overridden.')\n"
     ]
    },
    {
     "name": "stdout",
     "output_type": "stream",
     "text": [
      "Training until validation scores don't improve for 100 rounds.\n",
      "[1000]\ttraining's l1: 0.000865756\tvalid_1's l1: 0.00311335\n",
      "[2000]\ttraining's l1: 0.000607451\tvalid_1's l1: 0.00308154\n",
      "[3000]\ttraining's l1: 0.000512235\tvalid_1's l1: 0.00307117\n",
      "Early stopping, best iteration is:\n",
      "[3203]\ttraining's l1: 0.000501935\tvalid_1's l1: 0.00307034\n",
      "Training until validation scores don't improve for 100 rounds.\n",
      "[1000]\ttraining's l1: 0.000811703\tvalid_1's l1: 0.00313238\n",
      "[2000]\ttraining's l1: 0.000592017\tvalid_1's l1: 0.00310125\n",
      "[3000]\ttraining's l1: 0.00051575\tvalid_1's l1: 0.00309155\n",
      "Early stopping, best iteration is:\n",
      "[3224]\ttraining's l1: 0.000505662\tvalid_1's l1: 0.00309006\n",
      "4 for sd done!\n"
     ]
    },
    {
     "name": "stderr",
     "output_type": "stream",
     "text": [
      "C:\\Users\\kohei\\Anaconda3\\lib\\site-packages\\lightgbm\\basic.py:1205: UserWarning: Using categorical_feature in Dataset.\n",
      "  warnings.warn('Using categorical_feature in Dataset.')\n",
      "C:\\Users\\kohei\\Anaconda3\\lib\\site-packages\\lightgbm\\basic.py:762: UserWarning: categorical_feature in param dict is overridden.\n",
      "  warnings.warn('categorical_feature in param dict is overridden.')\n"
     ]
    },
    {
     "name": "stdout",
     "output_type": "stream",
     "text": [
      "Training until validation scores don't improve for 100 rounds.\n",
      "[1000]\ttraining's l1: 0.00374927\tvalid_1's l1: 0.0057902\n",
      "[2000]\ttraining's l1: 0.00258166\tvalid_1's l1: 0.00542349\n",
      "[3000]\ttraining's l1: 0.00196023\tvalid_1's l1: 0.00528393\n",
      "[4000]\ttraining's l1: 0.00156316\tvalid_1's l1: 0.00521576\n",
      "[5000]\ttraining's l1: 0.00128645\tvalid_1's l1: 0.00517557\n",
      "[6000]\ttraining's l1: 0.00108461\tvalid_1's l1: 0.00514932\n",
      "[7000]\ttraining's l1: 0.00093238\tvalid_1's l1: 0.00513294\n",
      "[8000]\ttraining's l1: 0.000814013\tvalid_1's l1: 0.00512118\n",
      "[9000]\ttraining's l1: 0.000720508\tvalid_1's l1: 0.0051126\n",
      "[10000]\ttraining's l1: 0.000645235\tvalid_1's l1: 0.0051062\n",
      "Did not meet early stopping. Best iteration is:\n",
      "[10000]\ttraining's l1: 0.000645235\tvalid_1's l1: 0.0051062\n",
      "Training until validation scores don't improve for 100 rounds.\n",
      "[1000]\ttraining's l1: 0.00371088\tvalid_1's l1: 0.0058104\n",
      "[2000]\ttraining's l1: 0.00256938\tvalid_1's l1: 0.00544865\n",
      "[3000]\ttraining's l1: 0.00195408\tvalid_1's l1: 0.00530753\n",
      "[4000]\ttraining's l1: 0.00155963\tvalid_1's l1: 0.00523718\n",
      "[5000]\ttraining's l1: 0.0012821\tvalid_1's l1: 0.00519568\n",
      "[6000]\ttraining's l1: 0.0010805\tvalid_1's l1: 0.00517002\n",
      "[7000]\ttraining's l1: 0.000928078\tvalid_1's l1: 0.00515292\n",
      "[8000]\ttraining's l1: 0.000810382\tvalid_1's l1: 0.00514114\n",
      "[9000]\ttraining's l1: 0.000717285\tvalid_1's l1: 0.00513251\n",
      "[10000]\ttraining's l1: 0.000642665\tvalid_1's l1: 0.00512628\n",
      "Did not meet early stopping. Best iteration is:\n",
      "[10000]\ttraining's l1: 0.000642665\tvalid_1's l1: 0.00512628\n",
      "5 for sd done!\n"
     ]
    },
    {
     "name": "stderr",
     "output_type": "stream",
     "text": [
      "C:\\Users\\kohei\\Anaconda3\\lib\\site-packages\\lightgbm\\basic.py:1205: UserWarning: Using categorical_feature in Dataset.\n",
      "  warnings.warn('Using categorical_feature in Dataset.')\n",
      "C:\\Users\\kohei\\Anaconda3\\lib\\site-packages\\lightgbm\\basic.py:762: UserWarning: categorical_feature in param dict is overridden.\n",
      "  warnings.warn('categorical_feature in param dict is overridden.')\n"
     ]
    },
    {
     "name": "stdout",
     "output_type": "stream",
     "text": [
      "Training until validation scores don't improve for 100 rounds.\n",
      "[1000]\ttraining's l1: 0.00179908\tvalid_1's l1: 0.00301211\n",
      "[2000]\ttraining's l1: 0.00116587\tvalid_1's l1: 0.00284764\n",
      "[3000]\ttraining's l1: 0.000838525\tvalid_1's l1: 0.00278994\n",
      "[4000]\ttraining's l1: 0.000650733\tvalid_1's l1: 0.00276672\n",
      "[5000]\ttraining's l1: 0.000539386\tvalid_1's l1: 0.00275508\n",
      "[6000]\ttraining's l1: 0.000473147\tvalid_1's l1: 0.00274899\n",
      "[7000]\ttraining's l1: 0.000432647\tvalid_1's l1: 0.00274555\n",
      "[8000]\ttraining's l1: 0.000405687\tvalid_1's l1: 0.00274343\n",
      "[9000]\ttraining's l1: 0.000385852\tvalid_1's l1: 0.00274192\n",
      "[10000]\ttraining's l1: 0.000370349\tvalid_1's l1: 0.00274072\n",
      "Did not meet early stopping. Best iteration is:\n",
      "[10000]\ttraining's l1: 0.000370349\tvalid_1's l1: 0.00274072\n",
      "Training until validation scores don't improve for 100 rounds.\n",
      "[1000]\ttraining's l1: 0.00180736\tvalid_1's l1: 0.00305053\n",
      "[2000]\ttraining's l1: 0.00112886\tvalid_1's l1: 0.00285684\n",
      "[3000]\ttraining's l1: 0.0008106\tvalid_1's l1: 0.0028018\n",
      "[4000]\ttraining's l1: 0.000633945\tvalid_1's l1: 0.00277862\n",
      "[5000]\ttraining's l1: 0.000529388\tvalid_1's l1: 0.00276735\n",
      "[6000]\ttraining's l1: 0.00046782\tvalid_1's l1: 0.00276178\n",
      "[7000]\ttraining's l1: 0.000430266\tvalid_1's l1: 0.00275853\n",
      "[8000]\ttraining's l1: 0.00040439\tvalid_1's l1: 0.00275625\n",
      "[9000]\ttraining's l1: 0.000385285\tvalid_1's l1: 0.00275458\n",
      "[10000]\ttraining's l1: 0.000370257\tvalid_1's l1: 0.00275352\n",
      "Did not meet early stopping. Best iteration is:\n",
      "[10000]\ttraining's l1: 0.000370257\tvalid_1's l1: 0.00275352\n",
      "6 for sd done!\n"
     ]
    },
    {
     "name": "stderr",
     "output_type": "stream",
     "text": [
      "C:\\Users\\kohei\\Anaconda3\\lib\\site-packages\\lightgbm\\basic.py:1205: UserWarning: Using categorical_feature in Dataset.\n",
      "  warnings.warn('Using categorical_feature in Dataset.')\n",
      "C:\\Users\\kohei\\Anaconda3\\lib\\site-packages\\lightgbm\\basic.py:762: UserWarning: categorical_feature in param dict is overridden.\n",
      "  warnings.warn('categorical_feature in param dict is overridden.')\n"
     ]
    },
    {
     "name": "stdout",
     "output_type": "stream",
     "text": [
      "Training until validation scores don't improve for 100 rounds.\n",
      "[1000]\ttraining's l1: 0.00342319\tvalid_1's l1: 0.0048296\n",
      "[2000]\ttraining's l1: 0.00248326\tvalid_1's l1: 0.00448736\n",
      "[3000]\ttraining's l1: 0.00196144\tvalid_1's l1: 0.00435282\n",
      "[4000]\ttraining's l1: 0.00161157\tvalid_1's l1: 0.0042811\n",
      "[5000]\ttraining's l1: 0.00135832\tvalid_1's l1: 0.0042371\n",
      "[6000]\ttraining's l1: 0.00116853\tvalid_1's l1: 0.00420895\n",
      "[7000]\ttraining's l1: 0.00101951\tvalid_1's l1: 0.00418841\n",
      "[8000]\ttraining's l1: 0.000900471\tvalid_1's l1: 0.00417377\n",
      "[9000]\ttraining's l1: 0.000804283\tvalid_1's l1: 0.00416276\n",
      "[10000]\ttraining's l1: 0.000725046\tvalid_1's l1: 0.00415428\n",
      "Did not meet early stopping. Best iteration is:\n",
      "[10000]\ttraining's l1: 0.000725046\tvalid_1's l1: 0.00415428\n",
      "Training until validation scores don't improve for 100 rounds.\n",
      "[1000]\ttraining's l1: 0.00344629\tvalid_1's l1: 0.00486024\n",
      "[2000]\ttraining's l1: 0.00249474\tvalid_1's l1: 0.00450438\n",
      "[3000]\ttraining's l1: 0.00196261\tvalid_1's l1: 0.00435938\n",
      "[4000]\ttraining's l1: 0.00161211\tvalid_1's l1: 0.00428508\n",
      "[5000]\ttraining's l1: 0.00135805\tvalid_1's l1: 0.00424014\n",
      "[6000]\ttraining's l1: 0.00116807\tvalid_1's l1: 0.00421125\n",
      "[7000]\ttraining's l1: 0.00101868\tvalid_1's l1: 0.00419025\n",
      "[8000]\ttraining's l1: 0.000900022\tvalid_1's l1: 0.00417537\n",
      "[9000]\ttraining's l1: 0.000803888\tvalid_1's l1: 0.00416414\n",
      "[10000]\ttraining's l1: 0.000724914\tvalid_1's l1: 0.00415553\n",
      "Did not meet early stopping. Best iteration is:\n",
      "[10000]\ttraining's l1: 0.000724914\tvalid_1's l1: 0.00415553\n",
      "7 for sd done!\n"
     ]
    },
    {
     "name": "stderr",
     "output_type": "stream",
     "text": [
      "C:\\Users\\kohei\\Anaconda3\\lib\\site-packages\\lightgbm\\basic.py:1205: UserWarning: Using categorical_feature in Dataset.\n",
      "  warnings.warn('Using categorical_feature in Dataset.')\n",
      "C:\\Users\\kohei\\Anaconda3\\lib\\site-packages\\lightgbm\\basic.py:762: UserWarning: categorical_feature in param dict is overridden.\n",
      "  warnings.warn('categorical_feature in param dict is overridden.')\n"
     ]
    },
    {
     "name": "stdout",
     "output_type": "stream",
     "text": [
      "Training until validation scores don't improve for 100 rounds.\n",
      "[1000]\ttraining's l1: 0.00095611\tvalid_1's l1: 0.00360075\n",
      "[2000]\ttraining's l1: 0.000612347\tvalid_1's l1: 0.00356063\n",
      "[3000]\ttraining's l1: 0.000517891\tvalid_1's l1: 0.00354965\n",
      "[4000]\ttraining's l1: 0.00047368\tvalid_1's l1: 0.00354476\n",
      "Early stopping, best iteration is:\n",
      "[4117]\ttraining's l1: 0.00046989\tvalid_1's l1: 0.00354445\n",
      "Training until validation scores don't improve for 100 rounds.\n",
      "[1000]\ttraining's l1: 0.000925889\tvalid_1's l1: 0.00358364\n",
      "[2000]\ttraining's l1: 0.000613282\tvalid_1's l1: 0.00354539\n",
      "[3000]\ttraining's l1: 0.000531205\tvalid_1's l1: 0.00353541\n",
      "[4000]\ttraining's l1: 0.000490674\tvalid_1's l1: 0.00353097\n",
      "Early stopping, best iteration is:\n",
      "[4134]\ttraining's l1: 0.000486882\tvalid_1's l1: 0.00353057\n",
      "8 for sd done!\n"
     ]
    },
    {
     "name": "stderr",
     "output_type": "stream",
     "text": [
      "C:\\Users\\kohei\\Anaconda3\\lib\\site-packages\\lightgbm\\basic.py:1205: UserWarning: Using categorical_feature in Dataset.\n",
      "  warnings.warn('Using categorical_feature in Dataset.')\n",
      "C:\\Users\\kohei\\Anaconda3\\lib\\site-packages\\lightgbm\\basic.py:762: UserWarning: categorical_feature in param dict is overridden.\n",
      "  warnings.warn('categorical_feature in param dict is overridden.')\n"
     ]
    },
    {
     "name": "stdout",
     "output_type": "stream",
     "text": [
      "Training until validation scores don't improve for 100 rounds.\n",
      "[1000]\ttraining's l1: 0.00846851\tvalid_1's l1: 0.0157374\n",
      "[2000]\ttraining's l1: 0.0051491\tvalid_1's l1: 0.0149701\n",
      "[3000]\ttraining's l1: 0.00350987\tvalid_1's l1: 0.0147067\n",
      "[4000]\ttraining's l1: 0.00255635\tvalid_1's l1: 0.0145839\n",
      "[5000]\ttraining's l1: 0.00194548\tvalid_1's l1: 0.0145218\n",
      "[6000]\ttraining's l1: 0.00153559\tvalid_1's l1: 0.0144842\n",
      "[7000]\ttraining's l1: 0.00124909\tvalid_1's l1: 0.0144599\n",
      "[8000]\ttraining's l1: 0.00104258\tvalid_1's l1: 0.0144444\n",
      "[9000]\ttraining's l1: 0.000888794\tvalid_1's l1: 0.0144337\n",
      "[10000]\ttraining's l1: 0.000771225\tvalid_1's l1: 0.014427\n",
      "Did not meet early stopping. Best iteration is:\n",
      "[10000]\ttraining's l1: 0.000771225\tvalid_1's l1: 0.014427\n",
      "Training until validation scores don't improve for 100 rounds.\n",
      "[1000]\ttraining's l1: 0.00850006\tvalid_1's l1: 0.0158497\n",
      "[2000]\ttraining's l1: 0.00516935\tvalid_1's l1: 0.0150691\n",
      "[3000]\ttraining's l1: 0.00352073\tvalid_1's l1: 0.0147965\n",
      "[4000]\ttraining's l1: 0.00255555\tvalid_1's l1: 0.0146664\n",
      "[5000]\ttraining's l1: 0.00194697\tvalid_1's l1: 0.0145983\n",
      "[6000]\ttraining's l1: 0.00153549\tvalid_1's l1: 0.0145601\n",
      "[7000]\ttraining's l1: 0.00124901\tvalid_1's l1: 0.0145362\n",
      "[8000]\ttraining's l1: 0.00104154\tvalid_1's l1: 0.0145207\n",
      "[9000]\ttraining's l1: 0.000887459\tvalid_1's l1: 0.0145092\n",
      "[10000]\ttraining's l1: 0.000770201\tvalid_1's l1: 0.0145016\n",
      "Did not meet early stopping. Best iteration is:\n",
      "[10000]\ttraining's l1: 0.000770201\tvalid_1's l1: 0.0145016\n",
      "1 for pso done!\n"
     ]
    },
    {
     "name": "stderr",
     "output_type": "stream",
     "text": [
      "C:\\Users\\kohei\\Anaconda3\\lib\\site-packages\\lightgbm\\basic.py:1205: UserWarning: Using categorical_feature in Dataset.\n",
      "  warnings.warn('Using categorical_feature in Dataset.')\n",
      "C:\\Users\\kohei\\Anaconda3\\lib\\site-packages\\lightgbm\\basic.py:762: UserWarning: categorical_feature in param dict is overridden.\n",
      "  warnings.warn('categorical_feature in param dict is overridden.')\n"
     ]
    },
    {
     "name": "stdout",
     "output_type": "stream",
     "text": [
      "Training until validation scores don't improve for 100 rounds.\n",
      "[1000]\ttraining's l1: 0.00501464\tvalid_1's l1: 0.0121094\n",
      "[2000]\ttraining's l1: 0.00273367\tvalid_1's l1: 0.0117329\n",
      "[3000]\ttraining's l1: 0.00170147\tvalid_1's l1: 0.0116336\n",
      "[4000]\ttraining's l1: 0.00116535\tvalid_1's l1: 0.0115971\n",
      "[5000]\ttraining's l1: 0.000872481\tvalid_1's l1: 0.0115817\n",
      "[6000]\ttraining's l1: 0.000707697\tvalid_1's l1: 0.0115733\n",
      "[7000]\ttraining's l1: 0.000617963\tvalid_1's l1: 0.0115694\n",
      "[8000]\ttraining's l1: 0.000563592\tvalid_1's l1: 0.0115667\n",
      "[9000]\ttraining's l1: 0.000525564\tvalid_1's l1: 0.0115649\n",
      "[10000]\ttraining's l1: 0.000498147\tvalid_1's l1: 0.0115635\n",
      "Did not meet early stopping. Best iteration is:\n",
      "[10000]\ttraining's l1: 0.000498147\tvalid_1's l1: 0.0115635\n",
      "Training until validation scores don't improve for 100 rounds.\n",
      "[1000]\ttraining's l1: 0.00467928\tvalid_1's l1: 0.0119039\n",
      "[2000]\ttraining's l1: 0.0024872\tvalid_1's l1: 0.0115832\n",
      "[3000]\ttraining's l1: 0.00156587\tvalid_1's l1: 0.0115014\n",
      "[4000]\ttraining's l1: 0.00109852\tvalid_1's l1: 0.0114708\n",
      "[5000]\ttraining's l1: 0.000837233\tvalid_1's l1: 0.0114578\n",
      "[6000]\ttraining's l1: 0.000689\tvalid_1's l1: 0.0114501\n",
      "[7000]\ttraining's l1: 0.000608265\tvalid_1's l1: 0.011446\n",
      "[8000]\ttraining's l1: 0.000557699\tvalid_1's l1: 0.0114436\n",
      "[9000]\ttraining's l1: 0.000521834\tvalid_1's l1: 0.0114421\n",
      "Early stopping, best iteration is:\n",
      "[8922]\ttraining's l1: 0.00052428\tvalid_1's l1: 0.0114421\n",
      "2 for pso done!\n"
     ]
    },
    {
     "name": "stderr",
     "output_type": "stream",
     "text": [
      "C:\\Users\\kohei\\Anaconda3\\lib\\site-packages\\lightgbm\\basic.py:1205: UserWarning: Using categorical_feature in Dataset.\n",
      "  warnings.warn('Using categorical_feature in Dataset.')\n",
      "C:\\Users\\kohei\\Anaconda3\\lib\\site-packages\\lightgbm\\basic.py:762: UserWarning: categorical_feature in param dict is overridden.\n",
      "  warnings.warn('categorical_feature in param dict is overridden.')\n"
     ]
    },
    {
     "name": "stdout",
     "output_type": "stream",
     "text": [
      "Training until validation scores don't improve for 100 rounds.\n",
      "[1000]\ttraining's l1: 0.00152745\tvalid_1's l1: 0.0247615\n",
      "[2000]\ttraining's l1: 0.000992962\tvalid_1's l1: 0.0247261\n",
      "Early stopping, best iteration is:\n",
      "[2322]\ttraining's l1: 0.000936345\tvalid_1's l1: 0.0247227\n",
      "Training until validation scores don't improve for 100 rounds.\n",
      "[1000]\ttraining's l1: 0.00150443\tvalid_1's l1: 0.0250969\n",
      "[2000]\ttraining's l1: 0.000988256\tvalid_1's l1: 0.025057\n",
      "Early stopping, best iteration is:\n",
      "[2381]\ttraining's l1: 0.000924588\tvalid_1's l1: 0.0250527\n",
      "3 for pso done!\n"
     ]
    },
    {
     "name": "stderr",
     "output_type": "stream",
     "text": [
      "C:\\Users\\kohei\\Anaconda3\\lib\\site-packages\\lightgbm\\basic.py:1205: UserWarning: Using categorical_feature in Dataset.\n",
      "  warnings.warn('Using categorical_feature in Dataset.')\n",
      "C:\\Users\\kohei\\Anaconda3\\lib\\site-packages\\lightgbm\\basic.py:762: UserWarning: categorical_feature in param dict is overridden.\n",
      "  warnings.warn('categorical_feature in param dict is overridden.')\n"
     ]
    },
    {
     "name": "stdout",
     "output_type": "stream",
     "text": [
      "Training until validation scores don't improve for 100 rounds.\n",
      "[1000]\ttraining's l1: 0.00156388\tvalid_1's l1: 0.0103966\n",
      "[2000]\ttraining's l1: 0.00084935\tvalid_1's l1: 0.0103376\n",
      "[3000]\ttraining's l1: 0.000704353\tvalid_1's l1: 0.0103266\n",
      "[4000]\ttraining's l1: 0.000637272\tvalid_1's l1: 0.0103218\n",
      "Early stopping, best iteration is:\n",
      "[4662]\ttraining's l1: 0.000609285\tvalid_1's l1: 0.0103196\n",
      "Training until validation scores don't improve for 100 rounds.\n",
      "[1000]\ttraining's l1: 0.00246212\tvalid_1's l1: 0.0105509\n",
      "[2000]\ttraining's l1: 0.00108466\tvalid_1's l1: 0.0104238\n",
      "[3000]\ttraining's l1: 0.000767332\tvalid_1's l1: 0.0104012\n",
      "[4000]\ttraining's l1: 0.000644087\tvalid_1's l1: 0.0103924\n",
      "[5000]\ttraining's l1: 0.000585813\tvalid_1's l1: 0.0103878\n",
      "[6000]\ttraining's l1: 0.000550114\tvalid_1's l1: 0.0103845\n",
      "Early stopping, best iteration is:\n",
      "[6011]\ttraining's l1: 0.000549861\tvalid_1's l1: 0.0103845\n",
      "4 for pso done!\n"
     ]
    },
    {
     "name": "stderr",
     "output_type": "stream",
     "text": [
      "C:\\Users\\kohei\\Anaconda3\\lib\\site-packages\\lightgbm\\basic.py:1205: UserWarning: Using categorical_feature in Dataset.\n",
      "  warnings.warn('Using categorical_feature in Dataset.')\n",
      "C:\\Users\\kohei\\Anaconda3\\lib\\site-packages\\lightgbm\\basic.py:762: UserWarning: categorical_feature in param dict is overridden.\n",
      "  warnings.warn('categorical_feature in param dict is overridden.')\n"
     ]
    },
    {
     "name": "stdout",
     "output_type": "stream",
     "text": [
      "Training until validation scores don't improve for 100 rounds.\n",
      "[1000]\ttraining's l1: 0.0104559\tvalid_1's l1: 0.0160157\n",
      "[2000]\ttraining's l1: 0.00702784\tvalid_1's l1: 0.014975\n",
      "[3000]\ttraining's l1: 0.0051595\tvalid_1's l1: 0.0145844\n",
      "[4000]\ttraining's l1: 0.00396658\tvalid_1's l1: 0.0143888\n",
      "[5000]\ttraining's l1: 0.00315041\tvalid_1's l1: 0.0142772\n",
      "[6000]\ttraining's l1: 0.00256023\tvalid_1's l1: 0.0142072\n",
      "[7000]\ttraining's l1: 0.00212239\tvalid_1's l1: 0.0141599\n",
      "[8000]\ttraining's l1: 0.00178658\tvalid_1's l1: 0.0141263\n",
      "[9000]\ttraining's l1: 0.00152633\tvalid_1's l1: 0.0141044\n",
      "[10000]\ttraining's l1: 0.00132097\tvalid_1's l1: 0.0140874\n",
      "Did not meet early stopping. Best iteration is:\n",
      "[10000]\ttraining's l1: 0.00132097\tvalid_1's l1: 0.0140874\n",
      "Training until validation scores don't improve for 100 rounds.\n",
      "[1000]\ttraining's l1: 0.0103157\tvalid_1's l1: 0.0158424\n",
      "[2000]\ttraining's l1: 0.00693575\tvalid_1's l1: 0.0148047\n",
      "[3000]\ttraining's l1: 0.00509642\tvalid_1's l1: 0.0144036\n",
      "[4000]\ttraining's l1: 0.00392238\tvalid_1's l1: 0.0142092\n",
      "[5000]\ttraining's l1: 0.00311536\tvalid_1's l1: 0.0141002\n",
      "[6000]\ttraining's l1: 0.00253523\tvalid_1's l1: 0.0140274\n",
      "[7000]\ttraining's l1: 0.00210188\tvalid_1's l1: 0.0139818\n",
      "[8000]\ttraining's l1: 0.00177197\tvalid_1's l1: 0.0139509\n",
      "[9000]\ttraining's l1: 0.00151481\tvalid_1's l1: 0.0139287\n",
      "[10000]\ttraining's l1: 0.00131124\tvalid_1's l1: 0.0139122\n",
      "Did not meet early stopping. Best iteration is:\n",
      "[10000]\ttraining's l1: 0.00131124\tvalid_1's l1: 0.0139122\n",
      "5 for pso done!\n"
     ]
    },
    {
     "name": "stderr",
     "output_type": "stream",
     "text": [
      "C:\\Users\\kohei\\Anaconda3\\lib\\site-packages\\lightgbm\\basic.py:1205: UserWarning: Using categorical_feature in Dataset.\n",
      "  warnings.warn('Using categorical_feature in Dataset.')\n",
      "C:\\Users\\kohei\\Anaconda3\\lib\\site-packages\\lightgbm\\basic.py:762: UserWarning: categorical_feature in param dict is overridden.\n",
      "  warnings.warn('categorical_feature in param dict is overridden.')\n"
     ]
    },
    {
     "name": "stdout",
     "output_type": "stream",
     "text": [
      "Training until validation scores don't improve for 100 rounds.\n",
      "[1000]\ttraining's l1: 0.00769827\tvalid_1's l1: 0.0151323\n",
      "[2000]\ttraining's l1: 0.00457326\tvalid_1's l1: 0.0145547\n",
      "[3000]\ttraining's l1: 0.00304037\tvalid_1's l1: 0.0143686\n",
      "[4000]\ttraining's l1: 0.00216633\tvalid_1's l1: 0.0142871\n",
      "[5000]\ttraining's l1: 0.00162433\tvalid_1's l1: 0.0142429\n",
      "[6000]\ttraining's l1: 0.00127053\tvalid_1's l1: 0.0142206\n",
      "[7000]\ttraining's l1: 0.00102984\tvalid_1's l1: 0.0142064\n",
      "[8000]\ttraining's l1: 0.000859972\tvalid_1's l1: 0.0141975\n",
      "[9000]\ttraining's l1: 0.000735857\tvalid_1's l1: 0.0141921\n",
      "[10000]\ttraining's l1: 0.000646548\tvalid_1's l1: 0.0141882\n",
      "Did not meet early stopping. Best iteration is:\n",
      "[10000]\ttraining's l1: 0.000646548\tvalid_1's l1: 0.0141882\n",
      "Training until validation scores don't improve for 100 rounds.\n",
      "[1000]\ttraining's l1: 0.00774949\tvalid_1's l1: 0.0152318\n",
      "[2000]\ttraining's l1: 0.00458955\tvalid_1's l1: 0.01465\n",
      "[3000]\ttraining's l1: 0.00305066\tvalid_1's l1: 0.0144561\n",
      "[4000]\ttraining's l1: 0.00217609\tvalid_1's l1: 0.0143718\n",
      "[5000]\ttraining's l1: 0.00163185\tvalid_1's l1: 0.0143306\n",
      "[6000]\ttraining's l1: 0.00127654\tvalid_1's l1: 0.0143068\n",
      "[7000]\ttraining's l1: 0.00103392\tvalid_1's l1: 0.0142928\n",
      "[8000]\ttraining's l1: 0.000862051\tvalid_1's l1: 0.0142842\n",
      "[9000]\ttraining's l1: 0.000738615\tvalid_1's l1: 0.0142789\n",
      "[10000]\ttraining's l1: 0.000648861\tvalid_1's l1: 0.014275\n",
      "Did not meet early stopping. Best iteration is:\n",
      "[10000]\ttraining's l1: 0.000648861\tvalid_1's l1: 0.014275\n",
      "6 for pso done!\n"
     ]
    },
    {
     "name": "stderr",
     "output_type": "stream",
     "text": [
      "C:\\Users\\kohei\\Anaconda3\\lib\\site-packages\\lightgbm\\basic.py:1205: UserWarning: Using categorical_feature in Dataset.\n",
      "  warnings.warn('Using categorical_feature in Dataset.')\n",
      "C:\\Users\\kohei\\Anaconda3\\lib\\site-packages\\lightgbm\\basic.py:762: UserWarning: categorical_feature in param dict is overridden.\n",
      "  warnings.warn('categorical_feature in param dict is overridden.')\n"
     ]
    },
    {
     "name": "stdout",
     "output_type": "stream",
     "text": [
      "Training until validation scores don't improve for 100 rounds.\n",
      "[1000]\ttraining's l1: 0.00848126\tvalid_1's l1: 0.0117781\n",
      "[2000]\ttraining's l1: 0.00606766\tvalid_1's l1: 0.0109251\n",
      "[3000]\ttraining's l1: 0.00468981\tvalid_1's l1: 0.010578\n",
      "[4000]\ttraining's l1: 0.00377083\tvalid_1's l1: 0.0104006\n",
      "[5000]\ttraining's l1: 0.00310568\tvalid_1's l1: 0.0102869\n",
      "[6000]\ttraining's l1: 0.00260684\tvalid_1's l1: 0.0102137\n",
      "[7000]\ttraining's l1: 0.00222075\tvalid_1's l1: 0.0101625\n",
      "[8000]\ttraining's l1: 0.00191658\tvalid_1's l1: 0.0101268\n",
      "[9000]\ttraining's l1: 0.00167035\tvalid_1's l1: 0.0100984\n",
      "[10000]\ttraining's l1: 0.00146988\tvalid_1's l1: 0.0100771\n",
      "Did not meet early stopping. Best iteration is:\n",
      "[10000]\ttraining's l1: 0.00146988\tvalid_1's l1: 0.0100771\n",
      "Training until validation scores don't improve for 100 rounds.\n",
      "[1000]\ttraining's l1: 0.00848122\tvalid_1's l1: 0.0117764\n",
      "[2000]\ttraining's l1: 0.0060608\tvalid_1's l1: 0.0109161\n",
      "[3000]\ttraining's l1: 0.00468279\tvalid_1's l1: 0.0105646\n",
      "[4000]\ttraining's l1: 0.00376071\tvalid_1's l1: 0.010383\n",
      "[5000]\ttraining's l1: 0.00310051\tvalid_1's l1: 0.0102737\n",
      "[6000]\ttraining's l1: 0.00260251\tvalid_1's l1: 0.0101994\n",
      "[7000]\ttraining's l1: 0.00221771\tvalid_1's l1: 0.0101471\n",
      "[8000]\ttraining's l1: 0.0019131\tvalid_1's l1: 0.01011\n",
      "[9000]\ttraining's l1: 0.00166694\tvalid_1's l1: 0.0100823\n",
      "[10000]\ttraining's l1: 0.00146749\tvalid_1's l1: 0.0100619\n",
      "Did not meet early stopping. Best iteration is:\n",
      "[10000]\ttraining's l1: 0.00146749\tvalid_1's l1: 0.0100619\n",
      "7 for pso done!\n"
     ]
    },
    {
     "name": "stderr",
     "output_type": "stream",
     "text": [
      "C:\\Users\\kohei\\Anaconda3\\lib\\site-packages\\lightgbm\\basic.py:1205: UserWarning: Using categorical_feature in Dataset.\n",
      "  warnings.warn('Using categorical_feature in Dataset.')\n",
      "C:\\Users\\kohei\\Anaconda3\\lib\\site-packages\\lightgbm\\basic.py:762: UserWarning: categorical_feature in param dict is overridden.\n",
      "  warnings.warn('categorical_feature in param dict is overridden.')\n"
     ]
    },
    {
     "name": "stdout",
     "output_type": "stream",
     "text": [
      "Training until validation scores don't improve for 100 rounds.\n",
      "[1000]\ttraining's l1: 0.00172672\tvalid_1's l1: 0.00865728\n",
      "[2000]\ttraining's l1: 0.000868207\tvalid_1's l1: 0.00856285\n",
      "[3000]\ttraining's l1: 0.000684003\tvalid_1's l1: 0.00854772\n",
      "[4000]\ttraining's l1: 0.000606946\tvalid_1's l1: 0.00853994\n",
      "[5000]\ttraining's l1: 0.000563197\tvalid_1's l1: 0.0085362\n",
      "[6000]\ttraining's l1: 0.000532541\tvalid_1's l1: 0.00853297\n",
      "Early stopping, best iteration is:\n",
      "[6409]\ttraining's l1: 0.000523084\tvalid_1's l1: 0.0085322\n",
      "Training until validation scores don't improve for 100 rounds.\n",
      "[1000]\ttraining's l1: 0.00175887\tvalid_1's l1: 0.00867652\n",
      "[2000]\ttraining's l1: 0.000873548\tvalid_1's l1: 0.00858351\n",
      "[3000]\ttraining's l1: 0.00068445\tvalid_1's l1: 0.00856639\n",
      "[4000]\ttraining's l1: 0.000606683\tvalid_1's l1: 0.00855968\n",
      "[5000]\ttraining's l1: 0.000561993\tvalid_1's l1: 0.0085556\n",
      "Early stopping, best iteration is:\n",
      "[5553]\ttraining's l1: 0.000543842\tvalid_1's l1: 0.0085541\n",
      "8 for pso done!\n"
     ]
    },
    {
     "name": "stderr",
     "output_type": "stream",
     "text": [
      "C:\\Users\\kohei\\Anaconda3\\lib\\site-packages\\lightgbm\\basic.py:1205: UserWarning: Using categorical_feature in Dataset.\n",
      "  warnings.warn('Using categorical_feature in Dataset.')\n",
      "C:\\Users\\kohei\\Anaconda3\\lib\\site-packages\\lightgbm\\basic.py:762: UserWarning: categorical_feature in param dict is overridden.\n",
      "  warnings.warn('categorical_feature in param dict is overridden.')\n"
     ]
    },
    {
     "name": "stdout",
     "output_type": "stream",
     "text": [
      "Training until validation scores don't improve for 100 rounds.\n",
      "[1000]\ttraining's l1: 0.00297928\tvalid_1's l1: 0.00512502\n",
      "[2000]\ttraining's l1: 0.00196866\tvalid_1's l1: 0.00485963\n",
      "[3000]\ttraining's l1: 0.00144549\tvalid_1's l1: 0.00476733\n",
      "[4000]\ttraining's l1: 0.00112607\tvalid_1's l1: 0.00472698\n",
      "[5000]\ttraining's l1: 0.000913163\tvalid_1's l1: 0.00470664\n",
      "[6000]\ttraining's l1: 0.000764574\tvalid_1's l1: 0.00469433\n",
      "[7000]\ttraining's l1: 0.000657103\tvalid_1's l1: 0.00468643\n",
      "[8000]\ttraining's l1: 0.000579289\tvalid_1's l1: 0.00468127\n",
      "[9000]\ttraining's l1: 0.000523318\tvalid_1's l1: 0.00467793\n",
      "[10000]\ttraining's l1: 0.000483387\tvalid_1's l1: 0.00467571\n",
      "Did not meet early stopping. Best iteration is:\n",
      "[10000]\ttraining's l1: 0.000483387\tvalid_1's l1: 0.00467571\n",
      "Training until validation scores don't improve for 100 rounds.\n",
      "[1000]\ttraining's l1: 0.00296642\tvalid_1's l1: 0.00513956\n",
      "[2000]\ttraining's l1: 0.00195374\tvalid_1's l1: 0.0048678\n",
      "[3000]\ttraining's l1: 0.001434\tvalid_1's l1: 0.00477696\n",
      "[4000]\ttraining's l1: 0.00111573\tvalid_1's l1: 0.0047354\n",
      "[5000]\ttraining's l1: 0.00090499\tvalid_1's l1: 0.00471468\n",
      "[6000]\ttraining's l1: 0.000757202\tvalid_1's l1: 0.00470158\n",
      "[7000]\ttraining's l1: 0.000651342\tvalid_1's l1: 0.00469405\n",
      "[8000]\ttraining's l1: 0.000574791\tvalid_1's l1: 0.00468865\n",
      "[9000]\ttraining's l1: 0.000519834\tvalid_1's l1: 0.00468513\n",
      "[10000]\ttraining's l1: 0.000481017\tvalid_1's l1: 0.00468267\n",
      "Did not meet early stopping. Best iteration is:\n",
      "[10000]\ttraining's l1: 0.000481017\tvalid_1's l1: 0.00468267\n",
      "1 for dso done!\n"
     ]
    },
    {
     "name": "stderr",
     "output_type": "stream",
     "text": [
      "C:\\Users\\kohei\\Anaconda3\\lib\\site-packages\\lightgbm\\basic.py:1205: UserWarning: Using categorical_feature in Dataset.\n",
      "  warnings.warn('Using categorical_feature in Dataset.')\n",
      "C:\\Users\\kohei\\Anaconda3\\lib\\site-packages\\lightgbm\\basic.py:762: UserWarning: categorical_feature in param dict is overridden.\n",
      "  warnings.warn('categorical_feature in param dict is overridden.')\n"
     ]
    },
    {
     "name": "stdout",
     "output_type": "stream",
     "text": [
      "Training until validation scores don't improve for 100 rounds.\n",
      "[1000]\ttraining's l1: 0.0060445\tvalid_1's l1: 0.0153287\n",
      "[2000]\ttraining's l1: 0.00314531\tvalid_1's l1: 0.0149426\n",
      "[3000]\ttraining's l1: 0.00193055\tvalid_1's l1: 0.0148477\n",
      "[4000]\ttraining's l1: 0.00131734\tvalid_1's l1: 0.0148108\n",
      "[5000]\ttraining's l1: 0.000974809\tvalid_1's l1: 0.0147935\n",
      "[6000]\ttraining's l1: 0.000774763\tvalid_1's l1: 0.0147844\n",
      "[7000]\ttraining's l1: 0.000661425\tvalid_1's l1: 0.0147798\n",
      "[8000]\ttraining's l1: 0.000596056\tvalid_1's l1: 0.0147769\n",
      "[9000]\ttraining's l1: 0.000551703\tvalid_1's l1: 0.0147754\n",
      "[10000]\ttraining's l1: 0.000519306\tvalid_1's l1: 0.0147741\n",
      "Did not meet early stopping. Best iteration is:\n",
      "[10000]\ttraining's l1: 0.000519306\tvalid_1's l1: 0.0147741\n",
      "Training until validation scores don't improve for 100 rounds.\n",
      "[1000]\ttraining's l1: 0.00592234\tvalid_1's l1: 0.0151942\n",
      "[2000]\ttraining's l1: 0.00309428\tvalid_1's l1: 0.0148239\n",
      "[3000]\ttraining's l1: 0.00190062\tvalid_1's l1: 0.0147253\n",
      "[4000]\ttraining's l1: 0.0013001\tvalid_1's l1: 0.0146871\n",
      "[5000]\ttraining's l1: 0.000966018\tvalid_1's l1: 0.01467\n",
      "[6000]\ttraining's l1: 0.000769517\tvalid_1's l1: 0.0146613\n",
      "[7000]\ttraining's l1: 0.000658829\tvalid_1's l1: 0.0146566\n",
      "[8000]\ttraining's l1: 0.000594008\tvalid_1's l1: 0.014654\n",
      "[9000]\ttraining's l1: 0.000549838\tvalid_1's l1: 0.014652\n",
      "[10000]\ttraining's l1: 0.000517933\tvalid_1's l1: 0.0146508\n",
      "Did not meet early stopping. Best iteration is:\n",
      "[10000]\ttraining's l1: 0.000517933\tvalid_1's l1: 0.0146508\n",
      "2 for dso done!\n"
     ]
    },
    {
     "name": "stderr",
     "output_type": "stream",
     "text": [
      "C:\\Users\\kohei\\Anaconda3\\lib\\site-packages\\lightgbm\\basic.py:1205: UserWarning: Using categorical_feature in Dataset.\n",
      "  warnings.warn('Using categorical_feature in Dataset.')\n",
      "C:\\Users\\kohei\\Anaconda3\\lib\\site-packages\\lightgbm\\basic.py:762: UserWarning: categorical_feature in param dict is overridden.\n",
      "  warnings.warn('categorical_feature in param dict is overridden.')\n"
     ]
    },
    {
     "name": "stdout",
     "output_type": "stream",
     "text": [
      "Training until validation scores don't improve for 100 rounds.\n",
      "[1000]\ttraining's l1: 0.000706988\tvalid_1's l1: 0.00205735\n",
      "Early stopping, best iteration is:\n",
      "[934]\ttraining's l1: 0.000706988\tvalid_1's l1: 0.00205735\n",
      "Training until validation scores don't improve for 100 rounds.\n",
      "Early stopping, best iteration is:\n",
      "[803]\ttraining's l1: 0.000743869\tvalid_1's l1: 0.0021405\n",
      "3 for dso done!\n"
     ]
    },
    {
     "name": "stderr",
     "output_type": "stream",
     "text": [
      "C:\\Users\\kohei\\Anaconda3\\lib\\site-packages\\lightgbm\\basic.py:1205: UserWarning: Using categorical_feature in Dataset.\n",
      "  warnings.warn('Using categorical_feature in Dataset.')\n",
      "C:\\Users\\kohei\\Anaconda3\\lib\\site-packages\\lightgbm\\basic.py:762: UserWarning: categorical_feature in param dict is overridden.\n",
      "  warnings.warn('categorical_feature in param dict is overridden.')\n"
     ]
    },
    {
     "name": "stdout",
     "output_type": "stream",
     "text": [
      "Training until validation scores don't improve for 100 rounds.\n",
      "[1000]\ttraining's l1: 0.000678854\tvalid_1's l1: 0.00200392\n",
      "[2000]\ttraining's l1: 0.000566856\tvalid_1's l1: 0.00198559\n",
      "Early stopping, best iteration is:\n",
      "[2632]\ttraining's l1: 0.000537334\tvalid_1's l1: 0.00198085\n",
      "Training until validation scores don't improve for 100 rounds.\n",
      "[1000]\ttraining's l1: 0.000700633\tvalid_1's l1: 0.00203916\n",
      "[2000]\ttraining's l1: 0.000545189\tvalid_1's l1: 0.00201394\n",
      "Early stopping, best iteration is:\n",
      "[2487]\ttraining's l1: 0.000511897\tvalid_1's l1: 0.00200891\n",
      "4 for dso done!\n"
     ]
    },
    {
     "name": "stderr",
     "output_type": "stream",
     "text": [
      "C:\\Users\\kohei\\Anaconda3\\lib\\site-packages\\lightgbm\\basic.py:1205: UserWarning: Using categorical_feature in Dataset.\n",
      "  warnings.warn('Using categorical_feature in Dataset.')\n",
      "C:\\Users\\kohei\\Anaconda3\\lib\\site-packages\\lightgbm\\basic.py:762: UserWarning: categorical_feature in param dict is overridden.\n",
      "  warnings.warn('categorical_feature in param dict is overridden.')\n"
     ]
    },
    {
     "name": "stdout",
     "output_type": "stream",
     "text": [
      "Training until validation scores don't improve for 100 rounds.\n",
      "[1000]\ttraining's l1: 0.00450814\tvalid_1's l1: 0.00665528\n",
      "[2000]\ttraining's l1: 0.00314729\tvalid_1's l1: 0.00621652\n",
      "[3000]\ttraining's l1: 0.00241047\tvalid_1's l1: 0.00606089\n",
      "[4000]\ttraining's l1: 0.00192681\tvalid_1's l1: 0.00598038\n",
      "[5000]\ttraining's l1: 0.00158672\tvalid_1's l1: 0.00593652\n",
      "[6000]\ttraining's l1: 0.00133512\tvalid_1's l1: 0.00590881\n",
      "[7000]\ttraining's l1: 0.00114336\tvalid_1's l1: 0.00589215\n",
      "[8000]\ttraining's l1: 0.000994663\tvalid_1's l1: 0.00587997\n",
      "[9000]\ttraining's l1: 0.000875558\tvalid_1's l1: 0.00587133\n",
      "[10000]\ttraining's l1: 0.000780221\tvalid_1's l1: 0.0058654\n",
      "Did not meet early stopping. Best iteration is:\n",
      "[10000]\ttraining's l1: 0.000780221\tvalid_1's l1: 0.0058654\n",
      "Training until validation scores don't improve for 100 rounds.\n",
      "[1000]\ttraining's l1: 0.00448932\tvalid_1's l1: 0.00667045\n",
      "[2000]\ttraining's l1: 0.00315298\tvalid_1's l1: 0.00624736\n",
      "[3000]\ttraining's l1: 0.00241721\tvalid_1's l1: 0.00609447\n",
      "[4000]\ttraining's l1: 0.00193584\tvalid_1's l1: 0.00601796\n",
      "[5000]\ttraining's l1: 0.00159465\tvalid_1's l1: 0.00597244\n",
      "[6000]\ttraining's l1: 0.00134271\tvalid_1's l1: 0.00594512\n",
      "[7000]\ttraining's l1: 0.00114949\tvalid_1's l1: 0.00592644\n",
      "[8000]\ttraining's l1: 0.000999895\tvalid_1's l1: 0.00591419\n",
      "[9000]\ttraining's l1: 0.000881\tvalid_1's l1: 0.00590576\n",
      "[10000]\ttraining's l1: 0.000784741\tvalid_1's l1: 0.00589968\n",
      "Did not meet early stopping. Best iteration is:\n",
      "[10000]\ttraining's l1: 0.000784741\tvalid_1's l1: 0.00589968\n",
      "5 for dso done!\n"
     ]
    },
    {
     "name": "stderr",
     "output_type": "stream",
     "text": [
      "C:\\Users\\kohei\\Anaconda3\\lib\\site-packages\\lightgbm\\basic.py:1205: UserWarning: Using categorical_feature in Dataset.\n",
      "  warnings.warn('Using categorical_feature in Dataset.')\n",
      "C:\\Users\\kohei\\Anaconda3\\lib\\site-packages\\lightgbm\\basic.py:762: UserWarning: categorical_feature in param dict is overridden.\n",
      "  warnings.warn('categorical_feature in param dict is overridden.')\n"
     ]
    },
    {
     "name": "stdout",
     "output_type": "stream",
     "text": [
      "Training until validation scores don't improve for 100 rounds.\n",
      "[1000]\ttraining's l1: 0.0102217\tvalid_1's l1: 0.0201531\n",
      "[2000]\ttraining's l1: 0.00595021\tvalid_1's l1: 0.0193563\n",
      "[3000]\ttraining's l1: 0.00388608\tvalid_1's l1: 0.0191275\n",
      "[4000]\ttraining's l1: 0.00271574\tvalid_1's l1: 0.0190256\n",
      "[5000]\ttraining's l1: 0.0020024\tvalid_1's l1: 0.0189796\n",
      "[6000]\ttraining's l1: 0.00153899\tvalid_1's l1: 0.0189498\n",
      "[7000]\ttraining's l1: 0.00122491\tvalid_1's l1: 0.0189328\n",
      "[8000]\ttraining's l1: 0.00100493\tvalid_1's l1: 0.0189226\n",
      "[9000]\ttraining's l1: 0.000847369\tvalid_1's l1: 0.0189166\n",
      "[10000]\ttraining's l1: 0.000731836\tvalid_1's l1: 0.0189121\n",
      "Did not meet early stopping. Best iteration is:\n",
      "[10000]\ttraining's l1: 0.000731836\tvalid_1's l1: 0.0189121\n",
      "Training until validation scores don't improve for 100 rounds.\n",
      "[1000]\ttraining's l1: 0.0103203\tvalid_1's l1: 0.0205117\n",
      "[2000]\ttraining's l1: 0.00603846\tvalid_1's l1: 0.0197324\n",
      "[3000]\ttraining's l1: 0.00395364\tvalid_1's l1: 0.019498\n",
      "[4000]\ttraining's l1: 0.00276349\tvalid_1's l1: 0.0194\n",
      "[5000]\ttraining's l1: 0.00203619\tvalid_1's l1: 0.0193476\n",
      "[6000]\ttraining's l1: 0.00156325\tvalid_1's l1: 0.0193196\n",
      "[7000]\ttraining's l1: 0.00124294\tvalid_1's l1: 0.0193038\n",
      "[8000]\ttraining's l1: 0.00102006\tvalid_1's l1: 0.0192925\n",
      "[9000]\ttraining's l1: 0.000858984\tvalid_1's l1: 0.0192847\n",
      "[10000]\ttraining's l1: 0.00074079\tvalid_1's l1: 0.0192803\n",
      "Did not meet early stopping. Best iteration is:\n",
      "[10000]\ttraining's l1: 0.00074079\tvalid_1's l1: 0.0192803\n",
      "6 for dso done!\n"
     ]
    },
    {
     "name": "stderr",
     "output_type": "stream",
     "text": [
      "C:\\Users\\kohei\\Anaconda3\\lib\\site-packages\\lightgbm\\basic.py:1205: UserWarning: Using categorical_feature in Dataset.\n",
      "  warnings.warn('Using categorical_feature in Dataset.')\n",
      "C:\\Users\\kohei\\Anaconda3\\lib\\site-packages\\lightgbm\\basic.py:762: UserWarning: categorical_feature in param dict is overridden.\n",
      "  warnings.warn('categorical_feature in param dict is overridden.')\n"
     ]
    },
    {
     "name": "stdout",
     "output_type": "stream",
     "text": [
      "Training until validation scores don't improve for 100 rounds.\n",
      "[1000]\ttraining's l1: 0.00665684\tvalid_1's l1: 0.0091347\n",
      "[2000]\ttraining's l1: 0.00480556\tvalid_1's l1: 0.00846906\n",
      "[3000]\ttraining's l1: 0.00375936\tvalid_1's l1: 0.0082092\n",
      "[4000]\ttraining's l1: 0.00304901\tvalid_1's l1: 0.00807168\n",
      "[5000]\ttraining's l1: 0.00253739\tvalid_1's l1: 0.00799111\n",
      "[6000]\ttraining's l1: 0.0021511\tvalid_1's l1: 0.00793983\n",
      "[7000]\ttraining's l1: 0.00184797\tvalid_1's l1: 0.00790162\n",
      "[8000]\ttraining's l1: 0.00160625\tvalid_1's l1: 0.00787361\n",
      "[9000]\ttraining's l1: 0.00141117\tvalid_1's l1: 0.00785395\n",
      "[10000]\ttraining's l1: 0.00125157\tvalid_1's l1: 0.0078383\n",
      "Did not meet early stopping. Best iteration is:\n",
      "[10000]\ttraining's l1: 0.00125157\tvalid_1's l1: 0.0078383\n",
      "Training until validation scores don't improve for 100 rounds.\n",
      "[1000]\ttraining's l1: 0.00669284\tvalid_1's l1: 0.00914933\n",
      "[2000]\ttraining's l1: 0.00483312\tvalid_1's l1: 0.00848649\n",
      "[3000]\ttraining's l1: 0.00377055\tvalid_1's l1: 0.00821832\n",
      "[4000]\ttraining's l1: 0.00306167\tvalid_1's l1: 0.00808286\n",
      "[5000]\ttraining's l1: 0.00254567\tvalid_1's l1: 0.00799498\n",
      "[6000]\ttraining's l1: 0.00215887\tvalid_1's l1: 0.0079456\n",
      "[7000]\ttraining's l1: 0.00185435\tvalid_1's l1: 0.00790877\n",
      "[8000]\ttraining's l1: 0.00161261\tvalid_1's l1: 0.00788203\n",
      "[9000]\ttraining's l1: 0.00141719\tvalid_1's l1: 0.00786275\n",
      "[10000]\ttraining's l1: 0.00125627\tvalid_1's l1: 0.00784732\n",
      "Did not meet early stopping. Best iteration is:\n",
      "[10000]\ttraining's l1: 0.00125627\tvalid_1's l1: 0.00784732\n",
      "7 for dso done!\n"
     ]
    },
    {
     "name": "stderr",
     "output_type": "stream",
     "text": [
      "C:\\Users\\kohei\\Anaconda3\\lib\\site-packages\\lightgbm\\basic.py:1205: UserWarning: Using categorical_feature in Dataset.\n",
      "  warnings.warn('Using categorical_feature in Dataset.')\n",
      "C:\\Users\\kohei\\Anaconda3\\lib\\site-packages\\lightgbm\\basic.py:762: UserWarning: categorical_feature in param dict is overridden.\n",
      "  warnings.warn('categorical_feature in param dict is overridden.')\n"
     ]
    },
    {
     "name": "stdout",
     "output_type": "stream",
     "text": [
      "Training until validation scores don't improve for 100 rounds.\n",
      "[1000]\ttraining's l1: 0.000803039\tvalid_1's l1: 0.00273867\n",
      "[2000]\ttraining's l1: 0.000596695\tvalid_1's l1: 0.00270824\n",
      "[3000]\ttraining's l1: 0.000531308\tvalid_1's l1: 0.00269894\n",
      "Early stopping, best iteration is:\n",
      "[3396]\ttraining's l1: 0.000515138\tvalid_1's l1: 0.00269684\n",
      "Training until validation scores don't improve for 100 rounds.\n",
      "[1000]\ttraining's l1: 0.00080638\tvalid_1's l1: 0.00274264\n",
      "[2000]\ttraining's l1: 0.00059772\tvalid_1's l1: 0.00271268\n",
      "[3000]\ttraining's l1: 0.000530615\tvalid_1's l1: 0.0027041\n",
      "[4000]\ttraining's l1: 0.000497357\tvalid_1's l1: 0.00269968\n",
      "Early stopping, best iteration is:\n",
      "[3970]\ttraining's l1: 0.000497563\tvalid_1's l1: 0.00269966\n",
      "8 for dso done!\n"
     ]
    }
   ],
   "source": [
    "oof_train = pd.DataFrame()\n",
    "oof_test = pd.DataFrame()\n",
    "\n",
    "\n",
    "for col in ['fc', 'sd', 'pso', 'dso']:\n",
    "    \n",
    "    target = contri[col]\n",
    "    \n",
    "    oof_type = np.zeros(len(X_train))\n",
    "    pred_type = np.zeros(len(X_test))\n",
    "    \n",
    "    for cur_type in np.unique(train_types):\n",
    "        cur_type_idx_train = (train_types == cur_type)\n",
    "        cur_type_idx_test = (test_types == cur_type)\n",
    "\n",
    "        cur_type_train = X_train.iloc[cur_type_idx_train]\n",
    "        cur_type_test = X_test.iloc[cur_type_idx_test]\n",
    "        cur_type_target = target.iloc[cur_type_idx_train]\n",
    "        cur_type_mols = contri['molecule_name'].iloc[cur_type_idx_train]\n",
    "        \n",
    "    \n",
    "        kf = GroupKFold(n_splits=2)\n",
    "    \n",
    "        oof = np.zeros(len(cur_type_train))\n",
    "        pred = np.zeros(len(cur_type_test))\n",
    "        \n",
    "        \n",
    "        SEED = 42\n",
    "        NUM_ROUNDS = 10000\n",
    "        \n",
    "        params = {\n",
    "                    \"num_leaves\": 100,\n",
    "                    \"min_data_in_leaf\": 100,\n",
    "                    \"objective\": \"regression\",\n",
    "                    \"max_depth\": 10,\n",
    "                    \"learning_rate\": 0.2,\n",
    "                    \"boosting_type\": \"gbdt\",\n",
    "                    \"subsample_freq\": 1,\n",
    "                    \"subsample\": 0.9,\n",
    "                    \"metric\": \"mae\",\n",
    "                    \"reg_alpha\": 0.1,\n",
    "                    \"reg_lambda\": 0.3, \n",
    "                    \"colsample_bytree\": 0.9\n",
    "                    }\n",
    "\n",
    "        for train_idx, val_idx in kf.split(cur_type_train, groups=cur_type_mols):\n",
    "            train_data = lgb.Dataset(cur_type_train.iloc[train_idx], label=cur_type_target.iloc[train_idx], categorical_feature=categorical_cols)\n",
    "            val_data = lgb.Dataset(cur_type_train.iloc[val_idx], label=cur_type_target.iloc[val_idx], categorical_feature=categorical_cols)\n",
    "            clf = lgb.train(params, train_data, NUM_ROUNDS, valid_sets=[train_data, val_data],\n",
    "                            verbose_eval=1000, early_stopping_rounds=100)\n",
    "            oof[val_idx] = clf.predict(cur_type_train.iloc[val_idx], num_iteration=clf.best_iteration)\n",
    "            pred += clf.predict(cur_type_test, num_iteration=clf.best_iteration) / kf.n_splits\n",
    "\n",
    "        oof_type[cur_type_idx_train] = oof\n",
    "        pred_type[cur_type_idx_test] = pred\n",
    "        \n",
    "        print(f'{cur_type} for {col} done!')\n",
    "        \n",
    "    oof_train[col] = oof_type\n",
    "    oof_test[col] = pred_type"
   ]
  },
  {
   "cell_type": "code",
   "execution_count": null,
   "metadata": {},
   "outputs": [],
   "source": []
  },
  {
   "cell_type": "code",
   "execution_count": null,
   "metadata": {},
   "outputs": [],
   "source": []
  },
  {
   "cell_type": "code",
   "execution_count": null,
   "metadata": {},
   "outputs": [],
   "source": []
  },
  {
   "cell_type": "code",
   "execution_count": null,
   "metadata": {},
   "outputs": [],
   "source": []
  },
  {
   "cell_type": "code",
   "execution_count": 44,
   "metadata": {},
   "outputs": [
    {
     "data": {
      "text/plain": [
       "((4658147, 4), (2505542, 4))"
      ]
     },
     "execution_count": 44,
     "metadata": {},
     "output_type": "execute_result"
    }
   ],
   "source": [
    "oof_train.shape, oof_test.shape"
   ]
  },
  {
   "cell_type": "code",
   "execution_count": 45,
   "metadata": {},
   "outputs": [
    {
     "data": {
      "text/plain": [
       "fc     0\n",
       "sd     0\n",
       "pso    0\n",
       "dso    0\n",
       "dtype: int64"
      ]
     },
     "execution_count": 45,
     "metadata": {},
     "output_type": "execute_result"
    }
   ],
   "source": [
    "oof_train.isnull().sum()"
   ]
  },
  {
   "cell_type": "code",
   "execution_count": null,
   "metadata": {},
   "outputs": [],
   "source": []
  },
  {
   "cell_type": "code",
   "execution_count": 46,
   "metadata": {},
   "outputs": [],
   "source": [
    "oof_train.to_feather('../features/ScalarCouplingContributionsOof3_train.feather')\n",
    "oof_test.to_feather('../features/ScalarCouplingContributionsOof3_test.feather')"
   ]
  },
  {
   "cell_type": "code",
   "execution_count": null,
   "metadata": {},
   "outputs": [],
   "source": []
  }
 ],
 "metadata": {
  "kernelspec": {
   "display_name": "Python 3",
   "language": "python",
   "name": "python3"
  },
  "language_info": {
   "codemirror_mode": {
    "name": "ipython",
    "version": 3
   },
   "file_extension": ".py",
   "mimetype": "text/x-python",
   "name": "python",
   "nbconvert_exporter": "python",
   "pygments_lexer": "ipython3",
   "version": "3.6.6"
  }
 },
 "nbformat": 4,
 "nbformat_minor": 2
}
