{
 "cells": [
  {
   "cell_type": "markdown",
   "metadata": {},
   "source": [
    "### Just change the code to predict oof feature individually for each type "
   ]
  },
  {
   "cell_type": "code",
   "execution_count": 1,
   "metadata": {},
   "outputs": [],
   "source": [
    "import numpy as np\n",
    "import pandas as pd\n",
    "import feather\n",
    "from sklearn.model_selection import GroupKFold\n",
    "import lightgbm as lgb\n",
    "import gc\n",
    "\n",
    "import sys\n",
    "sys.path.append(\"./../\")\n",
    "from utils import reduce_mem_usage"
   ]
  },
  {
   "cell_type": "code",
   "execution_count": 2,
   "metadata": {},
   "outputs": [],
   "source": [
    "#実際予測時にはその化合物のデータは使えないので、厳密にはGroupKfoldで化合物ごとに分けるべき"
   ]
  },
  {
   "cell_type": "code",
   "execution_count": 3,
   "metadata": {},
   "outputs": [],
   "source": [
    "features = [\n",
    "        \"Atom\",\n",
    "        \"AtomPosition\",\n",
    "        \"AtomDistance\",\n",
    "        \"CouplingType\",\n",
    "        \"AtomEnvironment\",\n",
    "        \"AtomNeighbors\",\n",
    "        \"BruteForce\",\n",
    "        \"DistanceFromClosest\",\n",
    "        \"ElectroNegFromClosest\",\n",
    "        \"ACSF\",\n",
    "        \"MullikenChargePred\",\n",
    "        \"OpenBabelBasic\",\n",
    "        \"CosineDistance\",\n",
    "        \"PotentialPred\", \n",
    "        \"DisIsAllYouNeed\"]"
   ]
  },
  {
   "cell_type": "code",
   "execution_count": 4,
   "metadata": {},
   "outputs": [],
   "source": [
    "X_train = pd.concat([feather.read_dataframe(\"../features/\" + feature + \"_train.feather\") for feature in features], axis=1)\n",
    "X_test = pd.concat([feather.read_dataframe(\"../features/\" + feature + \"_test.feather\") for feature in features], axis=1)"
   ]
  },
  {
   "cell_type": "code",
   "execution_count": 5,
   "metadata": {},
   "outputs": [
    {
     "data": {
      "text/plain": [
       "((4658147, 524), (2505542, 524))"
      ]
     },
     "execution_count": 5,
     "metadata": {},
     "output_type": "execute_result"
    }
   ],
   "source": [
    "X_train.shape, X_test.shape"
   ]
  },
  {
   "cell_type": "code",
   "execution_count": 6,
   "metadata": {},
   "outputs": [
    {
     "data": {
      "text/html": [
       "<div>\n",
       "<style scoped>\n",
       "    .dataframe tbody tr th:only-of-type {\n",
       "        vertical-align: middle;\n",
       "    }\n",
       "\n",
       "    .dataframe tbody tr th {\n",
       "        vertical-align: top;\n",
       "    }\n",
       "\n",
       "    .dataframe thead th {\n",
       "        text-align: right;\n",
       "    }\n",
       "</style>\n",
       "<table border=\"1\" class=\"dataframe\">\n",
       "  <thead>\n",
       "    <tr style=\"text-align: right;\">\n",
       "      <th></th>\n",
       "      <th>atom_0</th>\n",
       "      <th>atom_1</th>\n",
       "      <th>x_0</th>\n",
       "      <th>x_1</th>\n",
       "      <th>y_0</th>\n",
       "      <th>y_1</th>\n",
       "      <th>z_0</th>\n",
       "      <th>z_1</th>\n",
       "      <th>atom_distance</th>\n",
       "      <th>dist_inv_0_sum</th>\n",
       "      <th>...</th>\n",
       "      <th>d_7_2</th>\n",
       "      <th>d_7_3</th>\n",
       "      <th>d_8_0</th>\n",
       "      <th>d_8_1</th>\n",
       "      <th>d_8_2</th>\n",
       "      <th>d_8_3</th>\n",
       "      <th>d_9_0</th>\n",
       "      <th>d_9_1</th>\n",
       "      <th>d_9_2</th>\n",
       "      <th>d_9_3</th>\n",
       "    </tr>\n",
       "  </thead>\n",
       "  <tbody>\n",
       "    <tr>\n",
       "      <th>0</th>\n",
       "      <td>H</td>\n",
       "      <td>C</td>\n",
       "      <td>0.002150</td>\n",
       "      <td>-0.012698</td>\n",
       "      <td>-0.006031</td>\n",
       "      <td>1.085804</td>\n",
       "      <td>0.001976</td>\n",
       "      <td>0.008001</td>\n",
       "      <td>1.091953</td>\n",
       "      <td>1.297179</td>\n",
       "      <td>...</td>\n",
       "      <td>NaN</td>\n",
       "      <td>NaN</td>\n",
       "      <td>NaN</td>\n",
       "      <td>NaN</td>\n",
       "      <td>NaN</td>\n",
       "      <td>NaN</td>\n",
       "      <td>NaN</td>\n",
       "      <td>NaN</td>\n",
       "      <td>NaN</td>\n",
       "      <td>NaN</td>\n",
       "    </tr>\n",
       "    <tr>\n",
       "      <th>1</th>\n",
       "      <td>H</td>\n",
       "      <td>H</td>\n",
       "      <td>0.002150</td>\n",
       "      <td>1.011731</td>\n",
       "      <td>-0.006031</td>\n",
       "      <td>1.463751</td>\n",
       "      <td>0.001976</td>\n",
       "      <td>0.000277</td>\n",
       "      <td>1.783120</td>\n",
       "      <td>1.297179</td>\n",
       "      <td>...</td>\n",
       "      <td>NaN</td>\n",
       "      <td>NaN</td>\n",
       "      <td>NaN</td>\n",
       "      <td>NaN</td>\n",
       "      <td>NaN</td>\n",
       "      <td>NaN</td>\n",
       "      <td>NaN</td>\n",
       "      <td>NaN</td>\n",
       "      <td>NaN</td>\n",
       "      <td>NaN</td>\n",
       "    </tr>\n",
       "    <tr>\n",
       "      <th>2</th>\n",
       "      <td>H</td>\n",
       "      <td>H</td>\n",
       "      <td>0.002150</td>\n",
       "      <td>-0.540815</td>\n",
       "      <td>-0.006031</td>\n",
       "      <td>1.447527</td>\n",
       "      <td>0.001976</td>\n",
       "      <td>-0.876644</td>\n",
       "      <td>1.783147</td>\n",
       "      <td>1.297179</td>\n",
       "      <td>...</td>\n",
       "      <td>NaN</td>\n",
       "      <td>NaN</td>\n",
       "      <td>NaN</td>\n",
       "      <td>NaN</td>\n",
       "      <td>NaN</td>\n",
       "      <td>NaN</td>\n",
       "      <td>NaN</td>\n",
       "      <td>NaN</td>\n",
       "      <td>NaN</td>\n",
       "      <td>NaN</td>\n",
       "    </tr>\n",
       "    <tr>\n",
       "      <th>3</th>\n",
       "      <td>H</td>\n",
       "      <td>H</td>\n",
       "      <td>0.002150</td>\n",
       "      <td>-0.523814</td>\n",
       "      <td>-0.006031</td>\n",
       "      <td>1.437933</td>\n",
       "      <td>0.001976</td>\n",
       "      <td>0.906397</td>\n",
       "      <td>1.783157</td>\n",
       "      <td>1.297179</td>\n",
       "      <td>...</td>\n",
       "      <td>NaN</td>\n",
       "      <td>NaN</td>\n",
       "      <td>NaN</td>\n",
       "      <td>NaN</td>\n",
       "      <td>NaN</td>\n",
       "      <td>NaN</td>\n",
       "      <td>NaN</td>\n",
       "      <td>NaN</td>\n",
       "      <td>NaN</td>\n",
       "      <td>NaN</td>\n",
       "    </tr>\n",
       "    <tr>\n",
       "      <th>4</th>\n",
       "      <td>H</td>\n",
       "      <td>C</td>\n",
       "      <td>1.011731</td>\n",
       "      <td>-0.012698</td>\n",
       "      <td>1.463751</td>\n",
       "      <td>1.085804</td>\n",
       "      <td>0.000277</td>\n",
       "      <td>0.008001</td>\n",
       "      <td>1.091952</td>\n",
       "      <td>1.120798</td>\n",
       "      <td>...</td>\n",
       "      <td>NaN</td>\n",
       "      <td>NaN</td>\n",
       "      <td>NaN</td>\n",
       "      <td>NaN</td>\n",
       "      <td>NaN</td>\n",
       "      <td>NaN</td>\n",
       "      <td>NaN</td>\n",
       "      <td>NaN</td>\n",
       "      <td>NaN</td>\n",
       "      <td>NaN</td>\n",
       "    </tr>\n",
       "  </tbody>\n",
       "</table>\n",
       "<p>5 rows × 524 columns</p>\n",
       "</div>"
      ],
      "text/plain": [
       "  atom_0 atom_1       x_0       x_1       y_0       y_1       z_0       z_1  \\\n",
       "0      H      C  0.002150 -0.012698 -0.006031  1.085804  0.001976  0.008001   \n",
       "1      H      H  0.002150  1.011731 -0.006031  1.463751  0.001976  0.000277   \n",
       "2      H      H  0.002150 -0.540815 -0.006031  1.447527  0.001976 -0.876644   \n",
       "3      H      H  0.002150 -0.523814 -0.006031  1.437933  0.001976  0.906397   \n",
       "4      H      C  1.011731 -0.012698  1.463751  1.085804  0.000277  0.008001   \n",
       "\n",
       "   atom_distance  dist_inv_0_sum  ...  d_7_2  d_7_3  d_8_0  d_8_1  d_8_2  \\\n",
       "0       1.091953        1.297179  ...    NaN    NaN    NaN    NaN    NaN   \n",
       "1       1.783120        1.297179  ...    NaN    NaN    NaN    NaN    NaN   \n",
       "2       1.783147        1.297179  ...    NaN    NaN    NaN    NaN    NaN   \n",
       "3       1.783157        1.297179  ...    NaN    NaN    NaN    NaN    NaN   \n",
       "4       1.091952        1.120798  ...    NaN    NaN    NaN    NaN    NaN   \n",
       "\n",
       "   d_8_3  d_9_0  d_9_1  d_9_2  d_9_3  \n",
       "0    NaN    NaN    NaN    NaN    NaN  \n",
       "1    NaN    NaN    NaN    NaN    NaN  \n",
       "2    NaN    NaN    NaN    NaN    NaN  \n",
       "3    NaN    NaN    NaN    NaN    NaN  \n",
       "4    NaN    NaN    NaN    NaN    NaN  \n",
       "\n",
       "[5 rows x 524 columns]"
      ]
     },
     "execution_count": 6,
     "metadata": {},
     "output_type": "execute_result"
    }
   ],
   "source": [
    "X_train.head()"
   ]
  },
  {
   "cell_type": "code",
   "execution_count": 7,
   "metadata": {},
   "outputs": [],
   "source": [
    "contri = feather.read_dataframe(\"../data/input/scalar_coupling_contributions.feather\")"
   ]
  },
  {
   "cell_type": "code",
   "execution_count": 8,
   "metadata": {},
   "outputs": [
    {
     "data": {
      "text/html": [
       "<div>\n",
       "<style scoped>\n",
       "    .dataframe tbody tr th:only-of-type {\n",
       "        vertical-align: middle;\n",
       "    }\n",
       "\n",
       "    .dataframe tbody tr th {\n",
       "        vertical-align: top;\n",
       "    }\n",
       "\n",
       "    .dataframe thead th {\n",
       "        text-align: right;\n",
       "    }\n",
       "</style>\n",
       "<table border=\"1\" class=\"dataframe\">\n",
       "  <thead>\n",
       "    <tr style=\"text-align: right;\">\n",
       "      <th></th>\n",
       "      <th>molecule_name</th>\n",
       "      <th>atom_index_0</th>\n",
       "      <th>atom_index_1</th>\n",
       "      <th>type</th>\n",
       "      <th>fc</th>\n",
       "      <th>sd</th>\n",
       "      <th>pso</th>\n",
       "      <th>dso</th>\n",
       "    </tr>\n",
       "  </thead>\n",
       "  <tbody>\n",
       "    <tr>\n",
       "      <th>0</th>\n",
       "      <td>dsgdb9nsd_000001</td>\n",
       "      <td>1</td>\n",
       "      <td>0</td>\n",
       "      <td>1JHC</td>\n",
       "      <td>83.0224</td>\n",
       "      <td>0.254579</td>\n",
       "      <td>1.25862</td>\n",
       "      <td>0.272010</td>\n",
       "    </tr>\n",
       "    <tr>\n",
       "      <th>1</th>\n",
       "      <td>dsgdb9nsd_000001</td>\n",
       "      <td>1</td>\n",
       "      <td>2</td>\n",
       "      <td>2JHH</td>\n",
       "      <td>-11.0347</td>\n",
       "      <td>0.352978</td>\n",
       "      <td>2.85839</td>\n",
       "      <td>-3.433600</td>\n",
       "    </tr>\n",
       "    <tr>\n",
       "      <th>2</th>\n",
       "      <td>dsgdb9nsd_000001</td>\n",
       "      <td>1</td>\n",
       "      <td>3</td>\n",
       "      <td>2JHH</td>\n",
       "      <td>-11.0325</td>\n",
       "      <td>0.352944</td>\n",
       "      <td>2.85852</td>\n",
       "      <td>-3.433870</td>\n",
       "    </tr>\n",
       "    <tr>\n",
       "      <th>3</th>\n",
       "      <td>dsgdb9nsd_000001</td>\n",
       "      <td>1</td>\n",
       "      <td>4</td>\n",
       "      <td>2JHH</td>\n",
       "      <td>-11.0319</td>\n",
       "      <td>0.352934</td>\n",
       "      <td>2.85855</td>\n",
       "      <td>-3.433930</td>\n",
       "    </tr>\n",
       "    <tr>\n",
       "      <th>4</th>\n",
       "      <td>dsgdb9nsd_000001</td>\n",
       "      <td>2</td>\n",
       "      <td>0</td>\n",
       "      <td>1JHC</td>\n",
       "      <td>83.0222</td>\n",
       "      <td>0.254585</td>\n",
       "      <td>1.25861</td>\n",
       "      <td>0.272013</td>\n",
       "    </tr>\n",
       "  </tbody>\n",
       "</table>\n",
       "</div>"
      ],
      "text/plain": [
       "      molecule_name  atom_index_0  atom_index_1  type       fc        sd  \\\n",
       "0  dsgdb9nsd_000001             1             0  1JHC  83.0224  0.254579   \n",
       "1  dsgdb9nsd_000001             1             2  2JHH -11.0347  0.352978   \n",
       "2  dsgdb9nsd_000001             1             3  2JHH -11.0325  0.352944   \n",
       "3  dsgdb9nsd_000001             1             4  2JHH -11.0319  0.352934   \n",
       "4  dsgdb9nsd_000001             2             0  1JHC  83.0222  0.254585   \n",
       "\n",
       "       pso       dso  \n",
       "0  1.25862  0.272010  \n",
       "1  2.85839 -3.433600  \n",
       "2  2.85852 -3.433870  \n",
       "3  2.85855 -3.433930  \n",
       "4  1.25861  0.272013  "
      ]
     },
     "execution_count": 8,
     "metadata": {},
     "output_type": "execute_result"
    }
   ],
   "source": [
    "contri.head()"
   ]
  },
  {
   "cell_type": "code",
   "execution_count": 9,
   "metadata": {},
   "outputs": [
    {
     "name": "stdout",
     "output_type": "stream",
     "text": [
      "Starting atom_0\n",
      "Starting atom_1\n",
      "Starting type\n",
      "Starting a1_is_aromatic\n",
      "Starting a1_in_ring\n",
      "Starting a1_in_ring3\n",
      "Starting a1_in_ring4\n",
      "Starting a1_in_ring5\n",
      "Starting a1_in_ring6\n",
      "Starting a1_in_ring7\n",
      "Starting a1_in_ring8\n",
      "Starting bond_atom\n",
      "Starting tertiary_atom_0\n",
      "Starting tertiary_atom_1\n",
      "Starting tertiary_atom_2\n",
      "Starting tertiary_atom_3\n",
      "Starting tertiary_atom_4\n",
      "Starting tertiary_atom_5\n",
      "Starting tertiary_atom_6\n",
      "Starting tertiary_atom_7\n",
      "Starting tertiary_atom_8\n",
      "Starting tertiary_atom_9\n"
     ]
    }
   ],
   "source": [
    "# keep nan as is\n",
    "#coupling_types = X_train['type']\n",
    "categorical_cols = list(X_train.columns[X_train.dtypes == object])\n",
    "\n",
    "\n",
    "for col in categorical_cols:    \n",
    "    print(f'Starting {col}')\n",
    "    uniques = list(X_train[col].unique())\n",
    "    if None in uniques:\n",
    "        uniques.remove(None)\n",
    "    mapping = dict(zip(uniques, range(1, len(uniques)+1)))\n",
    "    X_train[col] = X_train[col].map(mapping)\n",
    "    X_test[col] = X_test[col].map(mapping)"
   ]
  },
  {
   "cell_type": "code",
   "execution_count": 10,
   "metadata": {},
   "outputs": [
    {
     "name": "stdout",
     "output_type": "stream",
     "text": [
      "Memory usage of dataframe is 16880.95 MB\n",
      "Memory usage after optimization is: 9106.83 MB\n",
      "Decreased by 46.1%\n",
      "Memory usage of dataframe is 9070.43 MB\n",
      "Memory usage after optimization is: 4881.69 MB\n",
      "Decreased by 46.2%\n"
     ]
    }
   ],
   "source": [
    "X_train = reduce_mem_usage(X_train)\n",
    "X_test = reduce_mem_usage(X_test)"
   ]
  },
  {
   "cell_type": "code",
   "execution_count": 11,
   "metadata": {},
   "outputs": [
    {
     "data": {
      "text/plain": [
       "0"
      ]
     },
     "execution_count": 11,
     "metadata": {},
     "output_type": "execute_result"
    }
   ],
   "source": [
    "gc.collect()"
   ]
  },
  {
   "cell_type": "code",
   "execution_count": 12,
   "metadata": {},
   "outputs": [],
   "source": [
    "train_types = X_train['type'].values\n",
    "test_types = X_test['type'].values"
   ]
  },
  {
   "cell_type": "code",
   "execution_count": 13,
   "metadata": {
    "scrolled": true
   },
   "outputs": [
    {
     "name": "stderr",
     "output_type": "stream",
     "text": [
      "C:\\Users\\kohei\\Anaconda3\\lib\\site-packages\\lightgbm\\basic.py:1205: UserWarning: Using categorical_feature in Dataset.\n",
      "  warnings.warn('Using categorical_feature in Dataset.')\n",
      "C:\\Users\\kohei\\Anaconda3\\lib\\site-packages\\lightgbm\\basic.py:762: UserWarning: categorical_feature in param dict is overridden.\n",
      "  warnings.warn('categorical_feature in param dict is overridden.')\n"
     ]
    },
    {
     "name": "stdout",
     "output_type": "stream",
     "text": [
      "Training until validation scores don't improve for 100 rounds.\n",
      "[1000]\ttraining's l1: 0.392355\tvalid_1's l1: 0.759727\n",
      "[2000]\ttraining's l1: 0.224528\tvalid_1's l1: 0.725297\n",
      "[3000]\ttraining's l1: 0.140058\tvalid_1's l1: 0.714075\n",
      "[4000]\ttraining's l1: 0.0915718\tvalid_1's l1: 0.709096\n",
      "[5000]\ttraining's l1: 0.0613607\tvalid_1's l1: 0.706725\n",
      "[6000]\ttraining's l1: 0.041934\tvalid_1's l1: 0.705457\n",
      "[7000]\ttraining's l1: 0.0291264\tvalid_1's l1: 0.704716\n",
      "[8000]\ttraining's l1: 0.0205549\tvalid_1's l1: 0.704286\n",
      "[9000]\ttraining's l1: 0.0147301\tvalid_1's l1: 0.704021\n",
      "[10000]\ttraining's l1: 0.0106838\tvalid_1's l1: 0.703871\n",
      "Did not meet early stopping. Best iteration is:\n",
      "[10000]\ttraining's l1: 0.0106838\tvalid_1's l1: 0.703871\n",
      "Training until validation scores don't improve for 100 rounds.\n",
      "[1000]\ttraining's l1: 0.392988\tvalid_1's l1: 0.760302\n",
      "[2000]\ttraining's l1: 0.224601\tvalid_1's l1: 0.725826\n",
      "[3000]\ttraining's l1: 0.140311\tvalid_1's l1: 0.714317\n",
      "[4000]\ttraining's l1: 0.0914749\tvalid_1's l1: 0.709313\n",
      "[5000]\ttraining's l1: 0.0613869\tvalid_1's l1: 0.706847\n",
      "[6000]\ttraining's l1: 0.0419666\tvalid_1's l1: 0.705574\n",
      "[7000]\ttraining's l1: 0.0292113\tvalid_1's l1: 0.704915\n",
      "[8000]\ttraining's l1: 0.0206197\tvalid_1's l1: 0.70448\n",
      "[9000]\ttraining's l1: 0.0147367\tvalid_1's l1: 0.70424\n",
      "[10000]\ttraining's l1: 0.0106965\tvalid_1's l1: 0.704073\n",
      "Did not meet early stopping. Best iteration is:\n",
      "[10000]\ttraining's l1: 0.0106965\tvalid_1's l1: 0.704073\n",
      "1 for fc done!\n"
     ]
    },
    {
     "name": "stderr",
     "output_type": "stream",
     "text": [
      "C:\\Users\\kohei\\Anaconda3\\lib\\site-packages\\lightgbm\\basic.py:1205: UserWarning: Using categorical_feature in Dataset.\n",
      "  warnings.warn('Using categorical_feature in Dataset.')\n",
      "C:\\Users\\kohei\\Anaconda3\\lib\\site-packages\\lightgbm\\basic.py:762: UserWarning: categorical_feature in param dict is overridden.\n",
      "  warnings.warn('categorical_feature in param dict is overridden.')\n"
     ]
    },
    {
     "name": "stdout",
     "output_type": "stream",
     "text": [
      "Training until validation scores don't improve for 100 rounds.\n",
      "[1000]\ttraining's l1: 0.058905\tvalid_1's l1: 0.179152\n",
      "[2000]\ttraining's l1: 0.0254415\tvalid_1's l1: 0.175082\n",
      "[3000]\ttraining's l1: 0.0124945\tvalid_1's l1: 0.174233\n",
      "[4000]\ttraining's l1: 0.00666873\tvalid_1's l1: 0.173943\n",
      "[5000]\ttraining's l1: 0.00385824\tvalid_1's l1: 0.173832\n",
      "[6000]\ttraining's l1: 0.00241745\tvalid_1's l1: 0.173781\n",
      "[7000]\ttraining's l1: 0.00163\tvalid_1's l1: 0.173753\n",
      "[8000]\ttraining's l1: 0.0011739\tvalid_1's l1: 0.17374\n",
      "[9000]\ttraining's l1: 0.00089551\tvalid_1's l1: 0.173732\n",
      "[10000]\ttraining's l1: 0.000722482\tvalid_1's l1: 0.173727\n",
      "Did not meet early stopping. Best iteration is:\n",
      "[10000]\ttraining's l1: 0.000722482\tvalid_1's l1: 0.173727\n",
      "Training until validation scores don't improve for 100 rounds.\n",
      "[1000]\ttraining's l1: 0.0590071\tvalid_1's l1: 0.176245\n",
      "[2000]\ttraining's l1: 0.0257638\tvalid_1's l1: 0.172324\n",
      "[3000]\ttraining's l1: 0.0127042\tvalid_1's l1: 0.171463\n",
      "[4000]\ttraining's l1: 0.00677611\tvalid_1's l1: 0.171159\n",
      "[5000]\ttraining's l1: 0.00392533\tvalid_1's l1: 0.171041\n",
      "[6000]\ttraining's l1: 0.00244968\tvalid_1's l1: 0.170992\n",
      "[7000]\ttraining's l1: 0.00164926\tvalid_1's l1: 0.170968\n",
      "[8000]\ttraining's l1: 0.00118378\tvalid_1's l1: 0.170955\n",
      "[9000]\ttraining's l1: 0.000901338\tvalid_1's l1: 0.170947\n",
      "[10000]\ttraining's l1: 0.000725253\tvalid_1's l1: 0.170942\n",
      "Did not meet early stopping. Best iteration is:\n",
      "[10000]\ttraining's l1: 0.000725253\tvalid_1's l1: 0.170942\n",
      "2 for fc done!\n"
     ]
    },
    {
     "name": "stderr",
     "output_type": "stream",
     "text": [
      "C:\\Users\\kohei\\Anaconda3\\lib\\site-packages\\lightgbm\\basic.py:1205: UserWarning: Using categorical_feature in Dataset.\n",
      "  warnings.warn('Using categorical_feature in Dataset.')\n",
      "C:\\Users\\kohei\\Anaconda3\\lib\\site-packages\\lightgbm\\basic.py:762: UserWarning: categorical_feature in param dict is overridden.\n",
      "  warnings.warn('categorical_feature in param dict is overridden.')\n"
     ]
    },
    {
     "name": "stdout",
     "output_type": "stream",
     "text": [
      "Training until validation scores don't improve for 100 rounds.\n",
      "[1000]\ttraining's l1: 0.0161259\tvalid_1's l1: 0.421883\n",
      "[2000]\ttraining's l1: 0.00154361\tvalid_1's l1: 0.421522\n",
      "Early stopping, best iteration is:\n",
      "[2068]\ttraining's l1: 0.00145606\tvalid_1's l1: 0.421517\n",
      "Training until validation scores don't improve for 100 rounds.\n",
      "[1000]\ttraining's l1: 0.0321819\tvalid_1's l1: 0.418966\n",
      "[2000]\ttraining's l1: 0.00538851\tvalid_1's l1: 0.417935\n",
      "Early stopping, best iteration is:\n",
      "[2583]\ttraining's l1: 0.00254357\tvalid_1's l1: 0.41786\n",
      "3 for fc done!\n"
     ]
    },
    {
     "name": "stderr",
     "output_type": "stream",
     "text": [
      "C:\\Users\\kohei\\Anaconda3\\lib\\site-packages\\lightgbm\\basic.py:1205: UserWarning: Using categorical_feature in Dataset.\n",
      "  warnings.warn('Using categorical_feature in Dataset.')\n",
      "C:\\Users\\kohei\\Anaconda3\\lib\\site-packages\\lightgbm\\basic.py:762: UserWarning: categorical_feature in param dict is overridden.\n",
      "  warnings.warn('categorical_feature in param dict is overridden.')\n"
     ]
    },
    {
     "name": "stdout",
     "output_type": "stream",
     "text": [
      "Training until validation scores don't improve for 100 rounds.\n",
      "[1000]\ttraining's l1: 0.0199572\tvalid_1's l1: 0.195849\n",
      "[2000]\ttraining's l1: 0.00361312\tvalid_1's l1: 0.195033\n",
      "[3000]\ttraining's l1: 0.00128038\tvalid_1's l1: 0.194956\n",
      "[4000]\ttraining's l1: 0.000837448\tvalid_1's l1: 0.194943\n",
      "Early stopping, best iteration is:\n",
      "[4622]\ttraining's l1: 0.000734674\tvalid_1's l1: 0.194938\n",
      "Training until validation scores don't improve for 100 rounds.\n",
      "[1000]\ttraining's l1: 0.0211887\tvalid_1's l1: 0.195723\n",
      "[2000]\ttraining's l1: 0.0038223\tvalid_1's l1: 0.194839\n",
      "[3000]\ttraining's l1: 0.00133004\tvalid_1's l1: 0.194758\n",
      "[4000]\ttraining's l1: 0.000851082\tvalid_1's l1: 0.194744\n",
      "Early stopping, best iteration is:\n",
      "[4472]\ttraining's l1: 0.000764552\tvalid_1's l1: 0.194741\n",
      "4 for fc done!\n"
     ]
    },
    {
     "name": "stderr",
     "output_type": "stream",
     "text": [
      "C:\\Users\\kohei\\Anaconda3\\lib\\site-packages\\lightgbm\\basic.py:1205: UserWarning: Using categorical_feature in Dataset.\n",
      "  warnings.warn('Using categorical_feature in Dataset.')\n",
      "C:\\Users\\kohei\\Anaconda3\\lib\\site-packages\\lightgbm\\basic.py:762: UserWarning: categorical_feature in param dict is overridden.\n",
      "  warnings.warn('categorical_feature in param dict is overridden.')\n"
     ]
    },
    {
     "name": "stdout",
     "output_type": "stream",
     "text": [
      "Training until validation scores don't improve for 100 rounds.\n",
      "[1000]\ttraining's l1: 0.194597\tvalid_1's l1: 0.304176\n",
      "[2000]\ttraining's l1: 0.126332\tvalid_1's l1: 0.284832\n",
      "[3000]\ttraining's l1: 0.0891102\tvalid_1's l1: 0.278097\n",
      "[4000]\ttraining's l1: 0.0651577\tvalid_1's l1: 0.274757\n",
      "[5000]\ttraining's l1: 0.0489331\tvalid_1's l1: 0.272922\n",
      "[6000]\ttraining's l1: 0.0372458\tvalid_1's l1: 0.271882\n",
      "[7000]\ttraining's l1: 0.0287665\tvalid_1's l1: 0.27122\n",
      "[8000]\ttraining's l1: 0.0224174\tvalid_1's l1: 0.270784\n",
      "[9000]\ttraining's l1: 0.017675\tvalid_1's l1: 0.270495\n",
      "[10000]\ttraining's l1: 0.014031\tvalid_1's l1: 0.27029\n",
      "Did not meet early stopping. Best iteration is:\n",
      "[10000]\ttraining's l1: 0.014031\tvalid_1's l1: 0.27029\n",
      "Training until validation scores don't improve for 100 rounds.\n",
      "[1000]\ttraining's l1: 0.194153\tvalid_1's l1: 0.305245\n",
      "[2000]\ttraining's l1: 0.126101\tvalid_1's l1: 0.286064\n",
      "[3000]\ttraining's l1: 0.0889165\tvalid_1's l1: 0.279193\n",
      "[4000]\ttraining's l1: 0.0651145\tvalid_1's l1: 0.275904\n",
      "[5000]\ttraining's l1: 0.0487912\tvalid_1's l1: 0.274044\n",
      "[6000]\ttraining's l1: 0.0372019\tvalid_1's l1: 0.273005\n",
      "[7000]\ttraining's l1: 0.0286976\tvalid_1's l1: 0.272327\n",
      "[8000]\ttraining's l1: 0.0223843\tvalid_1's l1: 0.271876\n",
      "[9000]\ttraining's l1: 0.0176305\tvalid_1's l1: 0.271594\n",
      "[10000]\ttraining's l1: 0.0140081\tvalid_1's l1: 0.271389\n",
      "Did not meet early stopping. Best iteration is:\n",
      "[10000]\ttraining's l1: 0.0140081\tvalid_1's l1: 0.271389\n",
      "5 for fc done!\n"
     ]
    },
    {
     "name": "stderr",
     "output_type": "stream",
     "text": [
      "C:\\Users\\kohei\\Anaconda3\\lib\\site-packages\\lightgbm\\basic.py:1205: UserWarning: Using categorical_feature in Dataset.\n",
      "  warnings.warn('Using categorical_feature in Dataset.')\n",
      "C:\\Users\\kohei\\Anaconda3\\lib\\site-packages\\lightgbm\\basic.py:762: UserWarning: categorical_feature in param dict is overridden.\n",
      "  warnings.warn('categorical_feature in param dict is overridden.')\n"
     ]
    },
    {
     "name": "stdout",
     "output_type": "stream",
     "text": [
      "Training until validation scores don't improve for 100 rounds.\n",
      "[1000]\ttraining's l1: 0.0859682\tvalid_1's l1: 0.18318\n",
      "[2000]\ttraining's l1: 0.0459499\tvalid_1's l1: 0.176332\n",
      "[3000]\ttraining's l1: 0.0269038\tvalid_1's l1: 0.174349\n",
      "[4000]\ttraining's l1: 0.0165868\tvalid_1's l1: 0.173595\n",
      "[5000]\ttraining's l1: 0.0106489\tvalid_1's l1: 0.173234\n",
      "[6000]\ttraining's l1: 0.00707053\tvalid_1's l1: 0.173053\n",
      "[7000]\ttraining's l1: 0.00486001\tvalid_1's l1: 0.172952\n",
      "[8000]\ttraining's l1: 0.00345578\tvalid_1's l1: 0.172896\n",
      "[9000]\ttraining's l1: 0.00253767\tvalid_1's l1: 0.172866\n",
      "[10000]\ttraining's l1: 0.00192411\tvalid_1's l1: 0.172843\n",
      "Did not meet early stopping. Best iteration is:\n",
      "[10000]\ttraining's l1: 0.00192411\tvalid_1's l1: 0.172843\n",
      "Training until validation scores don't improve for 100 rounds.\n",
      "[1000]\ttraining's l1: 0.0861583\tvalid_1's l1: 0.184304\n",
      "[2000]\ttraining's l1: 0.0459818\tvalid_1's l1: 0.177333\n",
      "[3000]\ttraining's l1: 0.026886\tvalid_1's l1: 0.175317\n",
      "[4000]\ttraining's l1: 0.0165836\tvalid_1's l1: 0.174476\n",
      "[5000]\ttraining's l1: 0.0106493\tvalid_1's l1: 0.17411\n",
      "[6000]\ttraining's l1: 0.00706524\tvalid_1's l1: 0.173915\n",
      "[7000]\ttraining's l1: 0.00484944\tvalid_1's l1: 0.173818\n",
      "[8000]\ttraining's l1: 0.00344874\tvalid_1's l1: 0.17376\n",
      "[9000]\ttraining's l1: 0.00253145\tvalid_1's l1: 0.173724\n",
      "[10000]\ttraining's l1: 0.00191767\tvalid_1's l1: 0.173701\n",
      "Did not meet early stopping. Best iteration is:\n",
      "[10000]\ttraining's l1: 0.00191767\tvalid_1's l1: 0.173701\n",
      "6 for fc done!\n"
     ]
    },
    {
     "name": "stderr",
     "output_type": "stream",
     "text": [
      "C:\\Users\\kohei\\Anaconda3\\lib\\site-packages\\lightgbm\\basic.py:1205: UserWarning: Using categorical_feature in Dataset.\n",
      "  warnings.warn('Using categorical_feature in Dataset.')\n",
      "C:\\Users\\kohei\\Anaconda3\\lib\\site-packages\\lightgbm\\basic.py:762: UserWarning: categorical_feature in param dict is overridden.\n",
      "  warnings.warn('categorical_feature in param dict is overridden.')\n"
     ]
    },
    {
     "name": "stdout",
     "output_type": "stream",
     "text": [
      "Training until validation scores don't improve for 100 rounds.\n",
      "[1000]\ttraining's l1: 0.232589\tvalid_1's l1: 0.328748\n",
      "[2000]\ttraining's l1: 0.162737\tvalid_1's l1: 0.306625\n",
      "[3000]\ttraining's l1: 0.121877\tvalid_1's l1: 0.298061\n",
      "[4000]\ttraining's l1: 0.0941808\tvalid_1's l1: 0.293764\n",
      "[5000]\ttraining's l1: 0.0741594\tvalid_1's l1: 0.291274\n",
      "[6000]\ttraining's l1: 0.0592265\tvalid_1's l1: 0.289716\n",
      "[7000]\ttraining's l1: 0.0477205\tvalid_1's l1: 0.288693\n",
      "[8000]\ttraining's l1: 0.0387739\tvalid_1's l1: 0.288001\n",
      "[9000]\ttraining's l1: 0.031697\tvalid_1's l1: 0.287498\n",
      "[10000]\ttraining's l1: 0.0261115\tvalid_1's l1: 0.287127\n",
      "Did not meet early stopping. Best iteration is:\n",
      "[10000]\ttraining's l1: 0.0261115\tvalid_1's l1: 0.287127\n",
      "Training until validation scores don't improve for 100 rounds.\n",
      "[1000]\ttraining's l1: 0.234039\tvalid_1's l1: 0.328944\n",
      "[2000]\ttraining's l1: 0.163836\tvalid_1's l1: 0.306698\n",
      "[3000]\ttraining's l1: 0.122707\tvalid_1's l1: 0.298357\n",
      "[4000]\ttraining's l1: 0.0948017\tvalid_1's l1: 0.294017\n",
      "[5000]\ttraining's l1: 0.0746561\tvalid_1's l1: 0.291537\n",
      "[6000]\ttraining's l1: 0.0595598\tvalid_1's l1: 0.289899\n",
      "[7000]\ttraining's l1: 0.048053\tvalid_1's l1: 0.288889\n",
      "[8000]\ttraining's l1: 0.0390251\tvalid_1's l1: 0.288168\n",
      "[9000]\ttraining's l1: 0.0319208\tvalid_1's l1: 0.287675\n",
      "[10000]\ttraining's l1: 0.0262925\tvalid_1's l1: 0.287311\n",
      "Did not meet early stopping. Best iteration is:\n",
      "[10000]\ttraining's l1: 0.0262925\tvalid_1's l1: 0.287311\n",
      "7 for fc done!\n"
     ]
    },
    {
     "name": "stderr",
     "output_type": "stream",
     "text": [
      "C:\\Users\\kohei\\Anaconda3\\lib\\site-packages\\lightgbm\\basic.py:1205: UserWarning: Using categorical_feature in Dataset.\n",
      "  warnings.warn('Using categorical_feature in Dataset.')\n",
      "C:\\Users\\kohei\\Anaconda3\\lib\\site-packages\\lightgbm\\basic.py:762: UserWarning: categorical_feature in param dict is overridden.\n",
      "  warnings.warn('categorical_feature in param dict is overridden.')\n"
     ]
    },
    {
     "name": "stdout",
     "output_type": "stream",
     "text": [
      "Training until validation scores don't improve for 100 rounds.\n",
      "[1000]\ttraining's l1: 0.0199217\tvalid_1's l1: 0.137764\n",
      "[2000]\ttraining's l1: 0.00481393\tvalid_1's l1: 0.136829\n",
      "[3000]\ttraining's l1: 0.00179803\tvalid_1's l1: 0.136713\n",
      "[4000]\ttraining's l1: 0.000974872\tvalid_1's l1: 0.136689\n",
      "[5000]\ttraining's l1: 0.000730478\tvalid_1's l1: 0.13668\n",
      "[6000]\ttraining's l1: 0.000628587\tvalid_1's l1: 0.136675\n",
      "Early stopping, best iteration is:\n",
      "[5923]\ttraining's l1: 0.000634626\tvalid_1's l1: 0.136675\n",
      "Training until validation scores don't improve for 100 rounds.\n",
      "[1000]\ttraining's l1: 0.0200115\tvalid_1's l1: 0.139201\n",
      "[2000]\ttraining's l1: 0.00489963\tvalid_1's l1: 0.138199\n",
      "[3000]\ttraining's l1: 0.00183087\tvalid_1's l1: 0.138077\n",
      "[4000]\ttraining's l1: 0.000984605\tvalid_1's l1: 0.138051\n",
      "Early stopping, best iteration is:\n",
      "[4267]\ttraining's l1: 0.000887249\tvalid_1's l1: 0.138046\n",
      "8 for fc done!\n"
     ]
    },
    {
     "name": "stderr",
     "output_type": "stream",
     "text": [
      "C:\\Users\\kohei\\Anaconda3\\lib\\site-packages\\lightgbm\\basic.py:1205: UserWarning: Using categorical_feature in Dataset.\n",
      "  warnings.warn('Using categorical_feature in Dataset.')\n",
      "C:\\Users\\kohei\\Anaconda3\\lib\\site-packages\\lightgbm\\basic.py:762: UserWarning: categorical_feature in param dict is overridden.\n",
      "  warnings.warn('categorical_feature in param dict is overridden.')\n"
     ]
    },
    {
     "name": "stdout",
     "output_type": "stream",
     "text": [
      "Training until validation scores don't improve for 100 rounds.\n",
      "[1000]\ttraining's l1: 0.0023272\tvalid_1's l1: 0.00423101\n",
      "[2000]\ttraining's l1: 0.00149625\tvalid_1's l1: 0.00402217\n",
      "[3000]\ttraining's l1: 0.00108346\tvalid_1's l1: 0.00395425\n",
      "[4000]\ttraining's l1: 0.000837096\tvalid_1's l1: 0.00392184\n",
      "[5000]\ttraining's l1: 0.000676923\tvalid_1's l1: 0.00390544\n",
      "[6000]\ttraining's l1: 0.000568964\tvalid_1's l1: 0.00389586\n",
      "[7000]\ttraining's l1: 0.000494602\tvalid_1's l1: 0.00388978\n",
      "[8000]\ttraining's l1: 0.000445612\tvalid_1's l1: 0.00388596\n",
      "[9000]\ttraining's l1: 0.000412523\tvalid_1's l1: 0.00388341\n",
      "[10000]\ttraining's l1: 0.000388734\tvalid_1's l1: 0.0038814\n",
      "Did not meet early stopping. Best iteration is:\n",
      "[10000]\ttraining's l1: 0.000388734\tvalid_1's l1: 0.0038814\n",
      "Training until validation scores don't improve for 100 rounds.\n",
      "[1000]\ttraining's l1: 0.00239426\tvalid_1's l1: 0.00428862\n",
      "[2000]\ttraining's l1: 0.00153596\tvalid_1's l1: 0.00407973\n",
      "[3000]\ttraining's l1: 0.00110391\tvalid_1's l1: 0.00400808\n",
      "[4000]\ttraining's l1: 0.000849533\tvalid_1's l1: 0.0039748\n",
      "[5000]\ttraining's l1: 0.000685319\tvalid_1's l1: 0.00395823\n",
      "[6000]\ttraining's l1: 0.000574137\tvalid_1's l1: 0.0039487\n",
      "[7000]\ttraining's l1: 0.000498123\tvalid_1's l1: 0.0039426\n",
      "[8000]\ttraining's l1: 0.000447765\tvalid_1's l1: 0.00393867\n",
      "[9000]\ttraining's l1: 0.000413866\tvalid_1's l1: 0.00393631\n",
      "[10000]\ttraining's l1: 0.00038953\tvalid_1's l1: 0.00393441\n",
      "Did not meet early stopping. Best iteration is:\n",
      "[10000]\ttraining's l1: 0.00038953\tvalid_1's l1: 0.00393441\n",
      "1 for sd done!\n"
     ]
    },
    {
     "name": "stderr",
     "output_type": "stream",
     "text": [
      "C:\\Users\\kohei\\Anaconda3\\lib\\site-packages\\lightgbm\\basic.py:1205: UserWarning: Using categorical_feature in Dataset.\n",
      "  warnings.warn('Using categorical_feature in Dataset.')\n",
      "C:\\Users\\kohei\\Anaconda3\\lib\\site-packages\\lightgbm\\basic.py:762: UserWarning: categorical_feature in param dict is overridden.\n",
      "  warnings.warn('categorical_feature in param dict is overridden.')\n"
     ]
    },
    {
     "name": "stdout",
     "output_type": "stream",
     "text": [
      "Training until validation scores don't improve for 100 rounds.\n",
      "[1000]\ttraining's l1: 0.000856266\tvalid_1's l1: 0.00176095\n",
      "[2000]\ttraining's l1: 0.000551059\tvalid_1's l1: 0.00170589\n",
      "[3000]\ttraining's l1: 0.000447629\tvalid_1's l1: 0.00169161\n",
      "[4000]\ttraining's l1: 0.000401188\tvalid_1's l1: 0.00168535\n",
      "[5000]\ttraining's l1: 0.000373996\tvalid_1's l1: 0.00168219\n",
      "[6000]\ttraining's l1: 0.000355931\tvalid_1's l1: 0.00167991\n",
      "[7000]\ttraining's l1: 0.000342357\tvalid_1's l1: 0.00167821\n",
      "[8000]\ttraining's l1: 0.000332053\tvalid_1's l1: 0.00167697\n",
      "Early stopping, best iteration is:\n",
      "[7992]\ttraining's l1: 0.000332109\tvalid_1's l1: 0.00167696\n",
      "Training until validation scores don't improve for 100 rounds.\n",
      "[1000]\ttraining's l1: 0.00081637\tvalid_1's l1: 0.00174702\n",
      "[2000]\ttraining's l1: 0.000539888\tvalid_1's l1: 0.00169642\n",
      "[3000]\ttraining's l1: 0.000445407\tvalid_1's l1: 0.00168334\n",
      "[4000]\ttraining's l1: 0.000401252\tvalid_1's l1: 0.00167738\n",
      "[5000]\ttraining's l1: 0.000374616\tvalid_1's l1: 0.001674\n",
      "[6000]\ttraining's l1: 0.000357142\tvalid_1's l1: 0.00167172\n",
      "[7000]\ttraining's l1: 0.000343867\tvalid_1's l1: 0.00166995\n",
      "[8000]\ttraining's l1: 0.000333707\tvalid_1's l1: 0.00166876\n",
      "Early stopping, best iteration is:\n",
      "[8423]\ttraining's l1: 0.000329864\tvalid_1's l1: 0.00166822\n",
      "2 for sd done!\n"
     ]
    },
    {
     "name": "stderr",
     "output_type": "stream",
     "text": [
      "C:\\Users\\kohei\\Anaconda3\\lib\\site-packages\\lightgbm\\basic.py:1205: UserWarning: Using categorical_feature in Dataset.\n",
      "  warnings.warn('Using categorical_feature in Dataset.')\n",
      "C:\\Users\\kohei\\Anaconda3\\lib\\site-packages\\lightgbm\\basic.py:762: UserWarning: categorical_feature in param dict is overridden.\n",
      "  warnings.warn('categorical_feature in param dict is overridden.')\n"
     ]
    },
    {
     "name": "stdout",
     "output_type": "stream",
     "text": [
      "Training until validation scores don't improve for 100 rounds.\n",
      "[1000]\ttraining's l1: 0.000763261\tvalid_1's l1: 0.00385814\n",
      "Early stopping, best iteration is:\n",
      "[1017]\ttraining's l1: 0.000760204\tvalid_1's l1: 0.00385747\n",
      "Training until validation scores don't improve for 100 rounds.\n",
      "Early stopping, best iteration is:\n",
      "[854]\ttraining's l1: 0.000812004\tvalid_1's l1: 0.00375478\n",
      "3 for sd done!\n"
     ]
    },
    {
     "name": "stderr",
     "output_type": "stream",
     "text": [
      "C:\\Users\\kohei\\Anaconda3\\lib\\site-packages\\lightgbm\\basic.py:1205: UserWarning: Using categorical_feature in Dataset.\n",
      "  warnings.warn('Using categorical_feature in Dataset.')\n",
      "C:\\Users\\kohei\\Anaconda3\\lib\\site-packages\\lightgbm\\basic.py:762: UserWarning: categorical_feature in param dict is overridden.\n",
      "  warnings.warn('categorical_feature in param dict is overridden.')\n"
     ]
    },
    {
     "name": "stdout",
     "output_type": "stream",
     "text": [
      "Training until validation scores don't improve for 100 rounds.\n",
      "[1000]\ttraining's l1: 0.000777193\tvalid_1's l1: 0.00293022\n",
      "[2000]\ttraining's l1: 0.000545428\tvalid_1's l1: 0.00290393\n",
      "[3000]\ttraining's l1: 0.000461396\tvalid_1's l1: 0.00289613\n",
      "Early stopping, best iteration is:\n",
      "[3592]\ttraining's l1: 0.000438762\tvalid_1's l1: 0.00289301\n",
      "Training until validation scores don't improve for 100 rounds.\n",
      "[1000]\ttraining's l1: 0.000729801\tvalid_1's l1: 0.00292818\n",
      "[2000]\ttraining's l1: 0.000533421\tvalid_1's l1: 0.00290022\n",
      "Early stopping, best iteration is:\n",
      "[2490]\ttraining's l1: 0.00049444\tvalid_1's l1: 0.00289587\n",
      "4 for sd done!\n"
     ]
    },
    {
     "name": "stderr",
     "output_type": "stream",
     "text": [
      "C:\\Users\\kohei\\Anaconda3\\lib\\site-packages\\lightgbm\\basic.py:1205: UserWarning: Using categorical_feature in Dataset.\n",
      "  warnings.warn('Using categorical_feature in Dataset.')\n",
      "C:\\Users\\kohei\\Anaconda3\\lib\\site-packages\\lightgbm\\basic.py:762: UserWarning: categorical_feature in param dict is overridden.\n",
      "  warnings.warn('categorical_feature in param dict is overridden.')\n"
     ]
    },
    {
     "name": "stdout",
     "output_type": "stream",
     "text": [
      "Training until validation scores don't improve for 100 rounds.\n",
      "[1000]\ttraining's l1: 0.00335463\tvalid_1's l1: 0.00524982\n",
      "[2000]\ttraining's l1: 0.00228636\tvalid_1's l1: 0.00492321\n",
      "[3000]\ttraining's l1: 0.00171937\tvalid_1's l1: 0.00480474\n",
      "[4000]\ttraining's l1: 0.00135869\tvalid_1's l1: 0.00474871\n",
      "[5000]\ttraining's l1: 0.00110987\tvalid_1's l1: 0.00471436\n",
      "[6000]\ttraining's l1: 0.000928357\tvalid_1's l1: 0.00469415\n",
      "[7000]\ttraining's l1: 0.000792343\tvalid_1's l1: 0.0046804\n",
      "[8000]\ttraining's l1: 0.000687782\tvalid_1's l1: 0.00467092\n",
      "[9000]\ttraining's l1: 0.000605424\tvalid_1's l1: 0.00466415\n",
      "[10000]\ttraining's l1: 0.000540207\tvalid_1's l1: 0.00465936\n",
      "Did not meet early stopping. Best iteration is:\n",
      "[10000]\ttraining's l1: 0.000540207\tvalid_1's l1: 0.00465936\n",
      "Training until validation scores don't improve for 100 rounds.\n",
      "[1000]\ttraining's l1: 0.00328025\tvalid_1's l1: 0.00521101\n",
      "[2000]\ttraining's l1: 0.00224683\tvalid_1's l1: 0.00488882\n",
      "[3000]\ttraining's l1: 0.00169216\tvalid_1's l1: 0.00477166\n",
      "[4000]\ttraining's l1: 0.00133824\tvalid_1's l1: 0.00471326\n",
      "[5000]\ttraining's l1: 0.00109296\tvalid_1's l1: 0.00467962\n",
      "[6000]\ttraining's l1: 0.000915483\tvalid_1's l1: 0.00465943\n",
      "[7000]\ttraining's l1: 0.000782608\tvalid_1's l1: 0.00464543\n",
      "[8000]\ttraining's l1: 0.000680164\tvalid_1's l1: 0.00463612\n",
      "[9000]\ttraining's l1: 0.000599291\tvalid_1's l1: 0.0046298\n",
      "[10000]\ttraining's l1: 0.000535029\tvalid_1's l1: 0.00462465\n",
      "Did not meet early stopping. Best iteration is:\n",
      "[10000]\ttraining's l1: 0.000535029\tvalid_1's l1: 0.00462465\n",
      "5 for sd done!\n"
     ]
    },
    {
     "name": "stderr",
     "output_type": "stream",
     "text": [
      "C:\\Users\\kohei\\Anaconda3\\lib\\site-packages\\lightgbm\\basic.py:1205: UserWarning: Using categorical_feature in Dataset.\n",
      "  warnings.warn('Using categorical_feature in Dataset.')\n",
      "C:\\Users\\kohei\\Anaconda3\\lib\\site-packages\\lightgbm\\basic.py:762: UserWarning: categorical_feature in param dict is overridden.\n",
      "  warnings.warn('categorical_feature in param dict is overridden.')\n"
     ]
    },
    {
     "name": "stdout",
     "output_type": "stream",
     "text": [
      "Training until validation scores don't improve for 100 rounds.\n",
      "[1000]\ttraining's l1: 0.00129383\tvalid_1's l1: 0.00210415\n",
      "[2000]\ttraining's l1: 0.000839789\tvalid_1's l1: 0.00198179\n",
      "[3000]\ttraining's l1: 0.000608019\tvalid_1's l1: 0.00194573\n",
      "[4000]\ttraining's l1: 0.000478371\tvalid_1's l1: 0.00193014\n",
      "[5000]\ttraining's l1: 0.000409858\tvalid_1's l1: 0.00192344\n",
      "[6000]\ttraining's l1: 0.000371447\tvalid_1's l1: 0.00191966\n",
      "[7000]\ttraining's l1: 0.00034658\tvalid_1's l1: 0.00191763\n",
      "[8000]\ttraining's l1: 0.000328664\tvalid_1's l1: 0.00191607\n",
      "[9000]\ttraining's l1: 0.00031534\tvalid_1's l1: 0.00191493\n",
      "[10000]\ttraining's l1: 0.000304646\tvalid_1's l1: 0.00191394\n",
      "Did not meet early stopping. Best iteration is:\n",
      "[10000]\ttraining's l1: 0.000304646\tvalid_1's l1: 0.00191394\n",
      "Training until validation scores don't improve for 100 rounds.\n",
      "[1000]\ttraining's l1: 0.00130188\tvalid_1's l1: 0.00212764\n",
      "[2000]\ttraining's l1: 0.000820676\tvalid_1's l1: 0.00199678\n",
      "[3000]\ttraining's l1: 0.000593507\tvalid_1's l1: 0.00196081\n",
      "[4000]\ttraining's l1: 0.000471703\tvalid_1's l1: 0.00194646\n",
      "[5000]\ttraining's l1: 0.00040737\tvalid_1's l1: 0.00193974\n",
      "[6000]\ttraining's l1: 0.00037054\tvalid_1's l1: 0.00193622\n",
      "[7000]\ttraining's l1: 0.000346285\tvalid_1's l1: 0.00193373\n",
      "[8000]\ttraining's l1: 0.000329093\tvalid_1's l1: 0.00193206\n",
      "[9000]\ttraining's l1: 0.000316016\tvalid_1's l1: 0.001931\n",
      "[10000]\ttraining's l1: 0.000305357\tvalid_1's l1: 0.00193009\n",
      "Did not meet early stopping. Best iteration is:\n",
      "[10000]\ttraining's l1: 0.000305357\tvalid_1's l1: 0.00193009\n",
      "6 for sd done!\n"
     ]
    },
    {
     "name": "stderr",
     "output_type": "stream",
     "text": [
      "C:\\Users\\kohei\\Anaconda3\\lib\\site-packages\\lightgbm\\basic.py:1205: UserWarning: Using categorical_feature in Dataset.\n",
      "  warnings.warn('Using categorical_feature in Dataset.')\n",
      "C:\\Users\\kohei\\Anaconda3\\lib\\site-packages\\lightgbm\\basic.py:762: UserWarning: categorical_feature in param dict is overridden.\n",
      "  warnings.warn('categorical_feature in param dict is overridden.')\n"
     ]
    },
    {
     "name": "stdout",
     "output_type": "stream",
     "text": [
      "Training until validation scores don't improve for 100 rounds.\n",
      "[1000]\ttraining's l1: 0.00267789\tvalid_1's l1: 0.00383474\n",
      "[2000]\ttraining's l1: 0.00193115\tvalid_1's l1: 0.00356843\n",
      "[3000]\ttraining's l1: 0.00151773\tvalid_1's l1: 0.0034667\n",
      "[4000]\ttraining's l1: 0.00124213\tvalid_1's l1: 0.00341408\n",
      "[5000]\ttraining's l1: 0.00104339\tvalid_1's l1: 0.00338301\n",
      "[6000]\ttraining's l1: 0.000893432\tvalid_1's l1: 0.00336313\n",
      "[7000]\ttraining's l1: 0.000777053\tvalid_1's l1: 0.0033487\n",
      "[8000]\ttraining's l1: 0.000684355\tvalid_1's l1: 0.00333834\n",
      "[9000]\ttraining's l1: 0.000609367\tvalid_1's l1: 0.00333055\n",
      "[10000]\ttraining's l1: 0.000548045\tvalid_1's l1: 0.00332513\n",
      "Did not meet early stopping. Best iteration is:\n",
      "[10000]\ttraining's l1: 0.000548045\tvalid_1's l1: 0.00332513\n",
      "Training until validation scores don't improve for 100 rounds.\n",
      "[1000]\ttraining's l1: 0.00269812\tvalid_1's l1: 0.00383856\n",
      "[2000]\ttraining's l1: 0.00195255\tvalid_1's l1: 0.00357901\n",
      "[3000]\ttraining's l1: 0.00153309\tvalid_1's l1: 0.00347335\n",
      "[4000]\ttraining's l1: 0.00125327\tvalid_1's l1: 0.00341758\n",
      "[5000]\ttraining's l1: 0.00105293\tvalid_1's l1: 0.00338642\n",
      "[6000]\ttraining's l1: 0.000901836\tvalid_1's l1: 0.00336522\n",
      "[7000]\ttraining's l1: 0.000784694\tvalid_1's l1: 0.00335145\n",
      "[8000]\ttraining's l1: 0.000691663\tvalid_1's l1: 0.00334179\n",
      "[9000]\ttraining's l1: 0.000616458\tvalid_1's l1: 0.00333464\n",
      "[10000]\ttraining's l1: 0.000554623\tvalid_1's l1: 0.0033293\n",
      "Did not meet early stopping. Best iteration is:\n",
      "[10000]\ttraining's l1: 0.000554623\tvalid_1's l1: 0.0033293\n",
      "7 for sd done!\n"
     ]
    },
    {
     "name": "stderr",
     "output_type": "stream",
     "text": [
      "C:\\Users\\kohei\\Anaconda3\\lib\\site-packages\\lightgbm\\basic.py:1205: UserWarning: Using categorical_feature in Dataset.\n",
      "  warnings.warn('Using categorical_feature in Dataset.')\n",
      "C:\\Users\\kohei\\Anaconda3\\lib\\site-packages\\lightgbm\\basic.py:762: UserWarning: categorical_feature in param dict is overridden.\n",
      "  warnings.warn('categorical_feature in param dict is overridden.')\n"
     ]
    },
    {
     "name": "stdout",
     "output_type": "stream",
     "text": [
      "Training until validation scores don't improve for 100 rounds.\n",
      "[1000]\ttraining's l1: 0.000798794\tvalid_1's l1: 0.00299774\n",
      "[2000]\ttraining's l1: 0.000526978\tvalid_1's l1: 0.0029708\n",
      "[3000]\ttraining's l1: 0.000448348\tvalid_1's l1: 0.00296297\n",
      "Early stopping, best iteration is:\n",
      "[3750]\ttraining's l1: 0.000419432\tvalid_1's l1: 0.00295978\n",
      "Training until validation scores don't improve for 100 rounds.\n",
      "[1000]\ttraining's l1: 0.000768671\tvalid_1's l1: 0.00297135\n",
      "[2000]\ttraining's l1: 0.000525508\tvalid_1's l1: 0.00294352\n",
      "[3000]\ttraining's l1: 0.000459115\tvalid_1's l1: 0.00293569\n",
      "Early stopping, best iteration is:\n",
      "[3798]\ttraining's l1: 0.000432195\tvalid_1's l1: 0.00293251\n",
      "8 for sd done!\n"
     ]
    },
    {
     "name": "stderr",
     "output_type": "stream",
     "text": [
      "C:\\Users\\kohei\\Anaconda3\\lib\\site-packages\\lightgbm\\basic.py:1205: UserWarning: Using categorical_feature in Dataset.\n",
      "  warnings.warn('Using categorical_feature in Dataset.')\n",
      "C:\\Users\\kohei\\Anaconda3\\lib\\site-packages\\lightgbm\\basic.py:762: UserWarning: categorical_feature in param dict is overridden.\n",
      "  warnings.warn('categorical_feature in param dict is overridden.')\n"
     ]
    },
    {
     "name": "stdout",
     "output_type": "stream",
     "text": [
      "Training until validation scores don't improve for 100 rounds.\n",
      "[1000]\ttraining's l1: 0.00818957\tvalid_1's l1: 0.015704\n",
      "[2000]\ttraining's l1: 0.00487894\tvalid_1's l1: 0.0150015\n",
      "[3000]\ttraining's l1: 0.00326052\tvalid_1's l1: 0.0147729\n",
      "[4000]\ttraining's l1: 0.0023241\tvalid_1's l1: 0.014669\n",
      "[5000]\ttraining's l1: 0.00173956\tvalid_1's l1: 0.0146109\n",
      "[6000]\ttraining's l1: 0.00135112\tvalid_1's l1: 0.0145789\n",
      "[7000]\ttraining's l1: 0.00108401\tvalid_1's l1: 0.0145602\n",
      "[8000]\ttraining's l1: 0.000893571\tvalid_1's l1: 0.0145472\n",
      "[9000]\ttraining's l1: 0.000754674\tvalid_1's l1: 0.0145387\n",
      "[10000]\ttraining's l1: 0.000651145\tvalid_1's l1: 0.0145328\n",
      "Did not meet early stopping. Best iteration is:\n",
      "[10000]\ttraining's l1: 0.000651145\tvalid_1's l1: 0.0145328\n",
      "Training until validation scores don't improve for 100 rounds.\n",
      "[1000]\ttraining's l1: 0.00826903\tvalid_1's l1: 0.015888\n",
      "[2000]\ttraining's l1: 0.00493003\tvalid_1's l1: 0.0151753\n",
      "[3000]\ttraining's l1: 0.00329837\tvalid_1's l1: 0.0149325\n",
      "[4000]\ttraining's l1: 0.00235067\tvalid_1's l1: 0.0148303\n",
      "[5000]\ttraining's l1: 0.00175493\tvalid_1's l1: 0.014773\n",
      "[6000]\ttraining's l1: 0.00136119\tvalid_1's l1: 0.0147401\n",
      "[7000]\ttraining's l1: 0.00109113\tvalid_1's l1: 0.0147204\n",
      "[8000]\ttraining's l1: 0.000898732\tvalid_1's l1: 0.0147083\n",
      "[9000]\ttraining's l1: 0.000758033\tvalid_1's l1: 0.0147009\n",
      "[10000]\ttraining's l1: 0.00065394\tvalid_1's l1: 0.0146953\n",
      "Did not meet early stopping. Best iteration is:\n",
      "[10000]\ttraining's l1: 0.00065394\tvalid_1's l1: 0.0146953\n",
      "1 for pso done!\n"
     ]
    },
    {
     "name": "stderr",
     "output_type": "stream",
     "text": [
      "C:\\Users\\kohei\\Anaconda3\\lib\\site-packages\\lightgbm\\basic.py:1205: UserWarning: Using categorical_feature in Dataset.\n",
      "  warnings.warn('Using categorical_feature in Dataset.')\n",
      "C:\\Users\\kohei\\Anaconda3\\lib\\site-packages\\lightgbm\\basic.py:762: UserWarning: categorical_feature in param dict is overridden.\n",
      "  warnings.warn('categorical_feature in param dict is overridden.')\n"
     ]
    },
    {
     "name": "stdout",
     "output_type": "stream",
     "text": [
      "Training until validation scores don't improve for 100 rounds.\n",
      "[1000]\ttraining's l1: 0.00473339\tvalid_1's l1: 0.0117708\n",
      "[2000]\ttraining's l1: 0.00249895\tvalid_1's l1: 0.0114631\n",
      "[3000]\ttraining's l1: 0.00151213\tvalid_1's l1: 0.0113877\n",
      "[4000]\ttraining's l1: 0.00101539\tvalid_1's l1: 0.0113617\n",
      "[5000]\ttraining's l1: 0.000753033\tvalid_1's l1: 0.0113513\n",
      "[6000]\ttraining's l1: 0.000616602\tvalid_1's l1: 0.0113457\n",
      "[7000]\ttraining's l1: 0.0005446\tvalid_1's l1: 0.0113423\n",
      "[8000]\ttraining's l1: 0.00049975\tvalid_1's l1: 0.0113404\n",
      "[9000]\ttraining's l1: 0.000468688\tvalid_1's l1: 0.0113393\n",
      "[10000]\ttraining's l1: 0.000445261\tvalid_1's l1: 0.0113384\n",
      "Did not meet early stopping. Best iteration is:\n",
      "[10000]\ttraining's l1: 0.000445261\tvalid_1's l1: 0.0113384\n",
      "Training until validation scores don't improve for 100 rounds.\n",
      "[1000]\ttraining's l1: 0.00449578\tvalid_1's l1: 0.0117364\n",
      "[2000]\ttraining's l1: 0.00230723\tvalid_1's l1: 0.0114704\n",
      "[3000]\ttraining's l1: 0.00141061\tvalid_1's l1: 0.0114007\n",
      "[4000]\ttraining's l1: 0.000967653\tvalid_1's l1: 0.0113751\n",
      "[5000]\ttraining's l1: 0.000729191\tvalid_1's l1: 0.0113653\n",
      "[6000]\ttraining's l1: 0.000606482\tvalid_1's l1: 0.0113601\n",
      "[7000]\ttraining's l1: 0.000540033\tvalid_1's l1: 0.0113571\n",
      "[8000]\ttraining's l1: 0.000497139\tvalid_1's l1: 0.0113553\n",
      "[9000]\ttraining's l1: 0.000467142\tvalid_1's l1: 0.011354\n",
      "[10000]\ttraining's l1: 0.000444478\tvalid_1's l1: 0.0113532\n",
      "Did not meet early stopping. Best iteration is:\n",
      "[10000]\ttraining's l1: 0.000444478\tvalid_1's l1: 0.0113532\n",
      "2 for pso done!\n"
     ]
    },
    {
     "name": "stderr",
     "output_type": "stream",
     "text": [
      "C:\\Users\\kohei\\Anaconda3\\lib\\site-packages\\lightgbm\\basic.py:1205: UserWarning: Using categorical_feature in Dataset.\n",
      "  warnings.warn('Using categorical_feature in Dataset.')\n",
      "C:\\Users\\kohei\\Anaconda3\\lib\\site-packages\\lightgbm\\basic.py:762: UserWarning: categorical_feature in param dict is overridden.\n",
      "  warnings.warn('categorical_feature in param dict is overridden.')\n"
     ]
    },
    {
     "name": "stdout",
     "output_type": "stream",
     "text": [
      "Training until validation scores don't improve for 100 rounds.\n",
      "[1000]\ttraining's l1: 0.00132782\tvalid_1's l1: 0.0249626\n",
      "[2000]\ttraining's l1: 0.000899759\tvalid_1's l1: 0.0249293\n",
      "Early stopping, best iteration is:\n",
      "[2120]\ttraining's l1: 0.000882243\tvalid_1's l1: 0.0249279\n",
      "Training until validation scores don't improve for 100 rounds.\n",
      "[1000]\ttraining's l1: 0.00131576\tvalid_1's l1: 0.0253317\n",
      "[2000]\ttraining's l1: 0.000909159\tvalid_1's l1: 0.0253045\n",
      "Early stopping, best iteration is:\n",
      "[1927]\ttraining's l1: 0.000909839\tvalid_1's l1: 0.0253043\n",
      "3 for pso done!\n"
     ]
    },
    {
     "name": "stderr",
     "output_type": "stream",
     "text": [
      "C:\\Users\\kohei\\Anaconda3\\lib\\site-packages\\lightgbm\\basic.py:1205: UserWarning: Using categorical_feature in Dataset.\n",
      "  warnings.warn('Using categorical_feature in Dataset.')\n",
      "C:\\Users\\kohei\\Anaconda3\\lib\\site-packages\\lightgbm\\basic.py:762: UserWarning: categorical_feature in param dict is overridden.\n",
      "  warnings.warn('categorical_feature in param dict is overridden.')\n"
     ]
    },
    {
     "name": "stdout",
     "output_type": "stream",
     "text": [
      "Training until validation scores don't improve for 100 rounds.\n",
      "[1000]\ttraining's l1: 0.00130068\tvalid_1's l1: 0.00952859\n",
      "[2000]\ttraining's l1: 0.000748871\tvalid_1's l1: 0.00948529\n",
      "[3000]\ttraining's l1: 0.000630088\tvalid_1's l1: 0.00947643\n",
      "[4000]\ttraining's l1: 0.000576147\tvalid_1's l1: 0.00947117\n",
      "Early stopping, best iteration is:\n",
      "[4293]\ttraining's l1: 0.000565264\tvalid_1's l1: 0.00947018\n",
      "Training until validation scores don't improve for 100 rounds.\n",
      "[1000]\ttraining's l1: 0.00231046\tvalid_1's l1: 0.00955437\n",
      "[2000]\ttraining's l1: 0.000983771\tvalid_1's l1: 0.00943438\n",
      "[3000]\ttraining's l1: 0.000693811\tvalid_1's l1: 0.00941236\n",
      "[4000]\ttraining's l1: 0.000578847\tvalid_1's l1: 0.009403\n",
      "[5000]\ttraining's l1: 0.000523723\tvalid_1's l1: 0.00939884\n",
      "Early stopping, best iteration is:\n",
      "[5788]\ttraining's l1: 0.000497569\tvalid_1's l1: 0.00939592\n",
      "4 for pso done!\n"
     ]
    },
    {
     "name": "stderr",
     "output_type": "stream",
     "text": [
      "C:\\Users\\kohei\\Anaconda3\\lib\\site-packages\\lightgbm\\basic.py:1205: UserWarning: Using categorical_feature in Dataset.\n",
      "  warnings.warn('Using categorical_feature in Dataset.')\n",
      "C:\\Users\\kohei\\Anaconda3\\lib\\site-packages\\lightgbm\\basic.py:762: UserWarning: categorical_feature in param dict is overridden.\n",
      "  warnings.warn('categorical_feature in param dict is overridden.')\n"
     ]
    },
    {
     "name": "stdout",
     "output_type": "stream",
     "text": [
      "Training until validation scores don't improve for 100 rounds.\n",
      "[1000]\ttraining's l1: 0.0091777\tvalid_1's l1: 0.0142506\n",
      "[2000]\ttraining's l1: 0.00609473\tvalid_1's l1: 0.0133552\n",
      "[3000]\ttraining's l1: 0.00443473\tvalid_1's l1: 0.0130363\n",
      "[4000]\ttraining's l1: 0.0033826\tvalid_1's l1: 0.0128737\n",
      "[5000]\ttraining's l1: 0.00266091\tvalid_1's l1: 0.0127846\n",
      "[6000]\ttraining's l1: 0.00214641\tvalid_1's l1: 0.012729\n",
      "[7000]\ttraining's l1: 0.0017648\tvalid_1's l1: 0.0126947\n",
      "[8000]\ttraining's l1: 0.00147669\tvalid_1's l1: 0.0126691\n",
      "[9000]\ttraining's l1: 0.00125353\tvalid_1's l1: 0.0126521\n",
      "[10000]\ttraining's l1: 0.00107896\tvalid_1's l1: 0.0126396\n",
      "Did not meet early stopping. Best iteration is:\n",
      "[10000]\ttraining's l1: 0.00107896\tvalid_1's l1: 0.0126396\n",
      "Training until validation scores don't improve for 100 rounds.\n",
      "[1000]\ttraining's l1: 0.00902625\tvalid_1's l1: 0.0141296\n",
      "[2000]\ttraining's l1: 0.00601593\tvalid_1's l1: 0.0132792\n",
      "[3000]\ttraining's l1: 0.00437239\tvalid_1's l1: 0.0129565\n",
      "[4000]\ttraining's l1: 0.00333529\tvalid_1's l1: 0.0127996\n",
      "[5000]\ttraining's l1: 0.00262913\tvalid_1's l1: 0.0127109\n",
      "[6000]\ttraining's l1: 0.00212308\tvalid_1's l1: 0.0126549\n",
      "[7000]\ttraining's l1: 0.00174842\tvalid_1's l1: 0.0126189\n",
      "[8000]\ttraining's l1: 0.00146372\tvalid_1's l1: 0.0125928\n",
      "[9000]\ttraining's l1: 0.00124414\tvalid_1's l1: 0.0125751\n",
      "[10000]\ttraining's l1: 0.00107094\tvalid_1's l1: 0.0125624\n",
      "Did not meet early stopping. Best iteration is:\n",
      "[10000]\ttraining's l1: 0.00107094\tvalid_1's l1: 0.0125624\n",
      "5 for pso done!\n"
     ]
    },
    {
     "name": "stderr",
     "output_type": "stream",
     "text": [
      "C:\\Users\\kohei\\Anaconda3\\lib\\site-packages\\lightgbm\\basic.py:1205: UserWarning: Using categorical_feature in Dataset.\n",
      "  warnings.warn('Using categorical_feature in Dataset.')\n",
      "C:\\Users\\kohei\\Anaconda3\\lib\\site-packages\\lightgbm\\basic.py:762: UserWarning: categorical_feature in param dict is overridden.\n",
      "  warnings.warn('categorical_feature in param dict is overridden.')\n"
     ]
    },
    {
     "name": "stdout",
     "output_type": "stream",
     "text": [
      "Training until validation scores don't improve for 100 rounds.\n",
      "[1000]\ttraining's l1: 0.00684305\tvalid_1's l1: 0.0137526\n",
      "[2000]\ttraining's l1: 0.00400339\tvalid_1's l1: 0.0133036\n",
      "[3000]\ttraining's l1: 0.00262429\tvalid_1's l1: 0.0131636\n",
      "[4000]\ttraining's l1: 0.0018447\tvalid_1's l1: 0.0131052\n",
      "[5000]\ttraining's l1: 0.00136821\tvalid_1's l1: 0.013079\n",
      "[6000]\ttraining's l1: 0.0010601\tvalid_1's l1: 0.0130619\n",
      "[7000]\ttraining's l1: 0.000851182\tvalid_1's l1: 0.0130526\n",
      "[8000]\ttraining's l1: 0.000707462\tvalid_1's l1: 0.0130474\n",
      "[9000]\ttraining's l1: 0.000607216\tvalid_1's l1: 0.0130434\n",
      "[10000]\ttraining's l1: 0.000539258\tvalid_1's l1: 0.013041\n",
      "Did not meet early stopping. Best iteration is:\n",
      "[10000]\ttraining's l1: 0.000539258\tvalid_1's l1: 0.013041\n",
      "Training until validation scores don't improve for 100 rounds.\n",
      "[1000]\ttraining's l1: 0.00682523\tvalid_1's l1: 0.0137091\n",
      "[2000]\ttraining's l1: 0.00398317\tvalid_1's l1: 0.0132381\n",
      "[3000]\ttraining's l1: 0.00261478\tvalid_1's l1: 0.0131133\n",
      "[4000]\ttraining's l1: 0.00183721\tvalid_1's l1: 0.0130517\n",
      "[5000]\ttraining's l1: 0.00136182\tvalid_1's l1: 0.0130236\n",
      "[6000]\ttraining's l1: 0.00105523\tvalid_1's l1: 0.0130091\n",
      "[7000]\ttraining's l1: 0.000848428\tvalid_1's l1: 0.0130006\n",
      "[8000]\ttraining's l1: 0.000704897\tvalid_1's l1: 0.0129956\n",
      "[9000]\ttraining's l1: 0.000605168\tvalid_1's l1: 0.0129922\n",
      "[10000]\ttraining's l1: 0.000537803\tvalid_1's l1: 0.0129902\n",
      "Did not meet early stopping. Best iteration is:\n",
      "[10000]\ttraining's l1: 0.000537803\tvalid_1's l1: 0.0129902\n",
      "6 for pso done!\n"
     ]
    },
    {
     "name": "stderr",
     "output_type": "stream",
     "text": [
      "C:\\Users\\kohei\\Anaconda3\\lib\\site-packages\\lightgbm\\basic.py:1205: UserWarning: Using categorical_feature in Dataset.\n",
      "  warnings.warn('Using categorical_feature in Dataset.')\n",
      "C:\\Users\\kohei\\Anaconda3\\lib\\site-packages\\lightgbm\\basic.py:762: UserWarning: categorical_feature in param dict is overridden.\n",
      "  warnings.warn('categorical_feature in param dict is overridden.')\n"
     ]
    },
    {
     "name": "stdout",
     "output_type": "stream",
     "text": [
      "Training until validation scores don't improve for 100 rounds.\n",
      "[1000]\ttraining's l1: 0.00681569\tvalid_1's l1: 0.00954496\n",
      "[2000]\ttraining's l1: 0.00485129\tvalid_1's l1: 0.00889393\n",
      "[3000]\ttraining's l1: 0.00372865\tvalid_1's l1: 0.00863635\n",
      "[4000]\ttraining's l1: 0.00297911\tvalid_1's l1: 0.00849863\n",
      "[5000]\ttraining's l1: 0.00244327\tvalid_1's l1: 0.00841819\n",
      "[6000]\ttraining's l1: 0.00204056\tvalid_1's l1: 0.00836701\n",
      "[7000]\ttraining's l1: 0.0017297\tvalid_1's l1: 0.0083306\n",
      "[8000]\ttraining's l1: 0.00148453\tvalid_1's l1: 0.00830549\n",
      "[9000]\ttraining's l1: 0.00128865\tvalid_1's l1: 0.00828544\n",
      "[10000]\ttraining's l1: 0.0011289\tvalid_1's l1: 0.00827115\n",
      "Did not meet early stopping. Best iteration is:\n",
      "[10000]\ttraining's l1: 0.0011289\tvalid_1's l1: 0.00827115\n",
      "Training until validation scores don't improve for 100 rounds.\n",
      "[1000]\ttraining's l1: 0.00683435\tvalid_1's l1: 0.00957108\n",
      "[2000]\ttraining's l1: 0.00485758\tvalid_1's l1: 0.00890927\n",
      "[3000]\ttraining's l1: 0.00372792\tvalid_1's l1: 0.00864248\n",
      "[4000]\ttraining's l1: 0.00297501\tvalid_1's l1: 0.00850077\n",
      "[5000]\ttraining's l1: 0.00243585\tvalid_1's l1: 0.00841567\n",
      "[6000]\ttraining's l1: 0.00203555\tvalid_1's l1: 0.00836223\n",
      "[7000]\ttraining's l1: 0.0017255\tvalid_1's l1: 0.00832638\n",
      "[8000]\ttraining's l1: 0.00148201\tvalid_1's l1: 0.00830232\n",
      "[9000]\ttraining's l1: 0.00128585\tvalid_1's l1: 0.00828359\n",
      "[10000]\ttraining's l1: 0.00112753\tvalid_1's l1: 0.00826912\n",
      "Did not meet early stopping. Best iteration is:\n",
      "[10000]\ttraining's l1: 0.00112753\tvalid_1's l1: 0.00826912\n",
      "7 for pso done!\n"
     ]
    },
    {
     "name": "stderr",
     "output_type": "stream",
     "text": [
      "C:\\Users\\kohei\\Anaconda3\\lib\\site-packages\\lightgbm\\basic.py:1205: UserWarning: Using categorical_feature in Dataset.\n",
      "  warnings.warn('Using categorical_feature in Dataset.')\n",
      "C:\\Users\\kohei\\Anaconda3\\lib\\site-packages\\lightgbm\\basic.py:762: UserWarning: categorical_feature in param dict is overridden.\n",
      "  warnings.warn('categorical_feature in param dict is overridden.')\n"
     ]
    },
    {
     "name": "stdout",
     "output_type": "stream",
     "text": [
      "Training until validation scores don't improve for 100 rounds.\n",
      "[1000]\ttraining's l1: 0.00139301\tvalid_1's l1: 0.00741937\n",
      "[2000]\ttraining's l1: 0.000732245\tvalid_1's l1: 0.00735709\n",
      "[3000]\ttraining's l1: 0.000594949\tvalid_1's l1: 0.00734584\n",
      "[4000]\ttraining's l1: 0.000536159\tvalid_1's l1: 0.00734071\n",
      "[5000]\ttraining's l1: 0.000501464\tvalid_1's l1: 0.00733721\n",
      "Early stopping, best iteration is:\n",
      "[5114]\ttraining's l1: 0.000498219\tvalid_1's l1: 0.007337\n",
      "Training until validation scores don't improve for 100 rounds.\n",
      "[1000]\ttraining's l1: 0.00139137\tvalid_1's l1: 0.00739371\n",
      "[2000]\ttraining's l1: 0.000728704\tvalid_1's l1: 0.00733103\n",
      "[3000]\ttraining's l1: 0.00059216\tvalid_1's l1: 0.00731835\n",
      "[4000]\ttraining's l1: 0.000533355\tvalid_1's l1: 0.00731328\n",
      "[5000]\ttraining's l1: 0.000497831\tvalid_1's l1: 0.00731044\n",
      "Early stopping, best iteration is:\n",
      "[5381]\ttraining's l1: 0.000487521\tvalid_1's l1: 0.00730906\n",
      "8 for pso done!\n"
     ]
    },
    {
     "name": "stderr",
     "output_type": "stream",
     "text": [
      "C:\\Users\\kohei\\Anaconda3\\lib\\site-packages\\lightgbm\\basic.py:1205: UserWarning: Using categorical_feature in Dataset.\n",
      "  warnings.warn('Using categorical_feature in Dataset.')\n",
      "C:\\Users\\kohei\\Anaconda3\\lib\\site-packages\\lightgbm\\basic.py:762: UserWarning: categorical_feature in param dict is overridden.\n",
      "  warnings.warn('categorical_feature in param dict is overridden.')\n"
     ]
    },
    {
     "name": "stdout",
     "output_type": "stream",
     "text": [
      "Training until validation scores don't improve for 100 rounds.\n",
      "[1000]\ttraining's l1: 0.00300747\tvalid_1's l1: 0.00532781\n",
      "[2000]\ttraining's l1: 0.00194066\tvalid_1's l1: 0.0050827\n",
      "[3000]\ttraining's l1: 0.00139254\tvalid_1's l1: 0.00500549\n",
      "[4000]\ttraining's l1: 0.00106186\tvalid_1's l1: 0.00497257\n",
      "[5000]\ttraining's l1: 0.000844741\tvalid_1's l1: 0.00495549\n",
      "[6000]\ttraining's l1: 0.000696627\tvalid_1's l1: 0.00494568\n",
      "[7000]\ttraining's l1: 0.000591792\tvalid_1's l1: 0.00493979\n",
      "[8000]\ttraining's l1: 0.000518149\tvalid_1's l1: 0.00493588\n",
      "[9000]\ttraining's l1: 0.000467681\tvalid_1's l1: 0.00493329\n",
      "[10000]\ttraining's l1: 0.000433106\tvalid_1's l1: 0.0049312\n",
      "Did not meet early stopping. Best iteration is:\n",
      "[10000]\ttraining's l1: 0.000433106\tvalid_1's l1: 0.0049312\n",
      "Training until validation scores don't improve for 100 rounds.\n",
      "[1000]\ttraining's l1: 0.00300014\tvalid_1's l1: 0.00534349\n",
      "[2000]\ttraining's l1: 0.00193879\tvalid_1's l1: 0.00510423\n",
      "[3000]\ttraining's l1: 0.00138997\tvalid_1's l1: 0.00502177\n",
      "[4000]\ttraining's l1: 0.00105995\tvalid_1's l1: 0.00498784\n",
      "[5000]\ttraining's l1: 0.000843243\tvalid_1's l1: 0.00496993\n",
      "[6000]\ttraining's l1: 0.000694393\tvalid_1's l1: 0.00495873\n",
      "[7000]\ttraining's l1: 0.000590062\tvalid_1's l1: 0.00495294\n",
      "[8000]\ttraining's l1: 0.000516767\tvalid_1's l1: 0.00494913\n",
      "[9000]\ttraining's l1: 0.000466824\tvalid_1's l1: 0.00494616\n",
      "[10000]\ttraining's l1: 0.000432402\tvalid_1's l1: 0.00494462\n",
      "Did not meet early stopping. Best iteration is:\n",
      "[10000]\ttraining's l1: 0.000432402\tvalid_1's l1: 0.00494462\n",
      "1 for dso done!\n"
     ]
    },
    {
     "name": "stderr",
     "output_type": "stream",
     "text": [
      "C:\\Users\\kohei\\Anaconda3\\lib\\site-packages\\lightgbm\\basic.py:1205: UserWarning: Using categorical_feature in Dataset.\n",
      "  warnings.warn('Using categorical_feature in Dataset.')\n",
      "C:\\Users\\kohei\\Anaconda3\\lib\\site-packages\\lightgbm\\basic.py:762: UserWarning: categorical_feature in param dict is overridden.\n",
      "  warnings.warn('categorical_feature in param dict is overridden.')\n"
     ]
    },
    {
     "name": "stdout",
     "output_type": "stream",
     "text": [
      "Training until validation scores don't improve for 100 rounds.\n",
      "[1000]\ttraining's l1: 0.00573902\tvalid_1's l1: 0.0154176\n",
      "[2000]\ttraining's l1: 0.00288901\tvalid_1's l1: 0.0150968\n",
      "[3000]\ttraining's l1: 0.00171884\tvalid_1's l1: 0.01502\n",
      "[4000]\ttraining's l1: 0.00114634\tvalid_1's l1: 0.0149926\n",
      "[5000]\ttraining's l1: 0.000837439\tvalid_1's l1: 0.0149801\n",
      "[6000]\ttraining's l1: 0.000668356\tvalid_1's l1: 0.0149741\n",
      "[7000]\ttraining's l1: 0.000578985\tvalid_1's l1: 0.0149707\n",
      "[8000]\ttraining's l1: 0.00052581\tvalid_1's l1: 0.0149688\n",
      "Early stopping, best iteration is:\n",
      "[8560]\ttraining's l1: 0.000503922\tvalid_1's l1: 0.014968\n",
      "Training until validation scores don't improve for 100 rounds.\n",
      "[1000]\ttraining's l1: 0.00566172\tvalid_1's l1: 0.0152677\n",
      "[2000]\ttraining's l1: 0.00285118\tvalid_1's l1: 0.0149593\n",
      "[3000]\ttraining's l1: 0.00170014\tvalid_1's l1: 0.0148843\n",
      "[4000]\ttraining's l1: 0.0011353\tvalid_1's l1: 0.0148559\n",
      "[5000]\ttraining's l1: 0.000830479\tvalid_1's l1: 0.014843\n",
      "[6000]\ttraining's l1: 0.000664331\tvalid_1's l1: 0.0148366\n",
      "[7000]\ttraining's l1: 0.000576697\tvalid_1's l1: 0.0148331\n",
      "[8000]\ttraining's l1: 0.00052365\tvalid_1's l1: 0.0148311\n",
      "Early stopping, best iteration is:\n",
      "[8891]\ttraining's l1: 0.000491238\tvalid_1's l1: 0.0148294\n",
      "2 for dso done!\n"
     ]
    },
    {
     "name": "stderr",
     "output_type": "stream",
     "text": [
      "C:\\Users\\kohei\\Anaconda3\\lib\\site-packages\\lightgbm\\basic.py:1205: UserWarning: Using categorical_feature in Dataset.\n",
      "  warnings.warn('Using categorical_feature in Dataset.')\n",
      "C:\\Users\\kohei\\Anaconda3\\lib\\site-packages\\lightgbm\\basic.py:762: UserWarning: categorical_feature in param dict is overridden.\n",
      "  warnings.warn('categorical_feature in param dict is overridden.')\n"
     ]
    },
    {
     "name": "stdout",
     "output_type": "stream",
     "text": [
      "Training until validation scores don't improve for 100 rounds.\n",
      "Early stopping, best iteration is:\n",
      "[836]\ttraining's l1: 0.00067244\tvalid_1's l1: 0.00203126\n",
      "Training until validation scores don't improve for 100 rounds.\n",
      "Early stopping, best iteration is:\n",
      "[763]\ttraining's l1: 0.000710185\tvalid_1's l1: 0.00209043\n",
      "3 for dso done!\n"
     ]
    },
    {
     "name": "stderr",
     "output_type": "stream",
     "text": [
      "C:\\Users\\kohei\\Anaconda3\\lib\\site-packages\\lightgbm\\basic.py:1205: UserWarning: Using categorical_feature in Dataset.\n",
      "  warnings.warn('Using categorical_feature in Dataset.')\n",
      "C:\\Users\\kohei\\Anaconda3\\lib\\site-packages\\lightgbm\\basic.py:762: UserWarning: categorical_feature in param dict is overridden.\n",
      "  warnings.warn('categorical_feature in param dict is overridden.')\n"
     ]
    },
    {
     "name": "stdout",
     "output_type": "stream",
     "text": [
      "Training until validation scores don't improve for 100 rounds.\n",
      "[1000]\ttraining's l1: 0.000616644\tvalid_1's l1: 0.0018443\n",
      "[2000]\ttraining's l1: 0.000518266\tvalid_1's l1: 0.00182912\n",
      "Early stopping, best iteration is:\n",
      "[2465]\ttraining's l1: 0.000497606\tvalid_1's l1: 0.00182537\n",
      "Training until validation scores don't improve for 100 rounds.\n",
      "[1000]\ttraining's l1: 0.000636391\tvalid_1's l1: 0.00187519\n",
      "[2000]\ttraining's l1: 0.000492572\tvalid_1's l1: 0.00185668\n",
      "Early stopping, best iteration is:\n",
      "[2465]\ttraining's l1: 0.000464161\tvalid_1's l1: 0.00185311\n",
      "4 for dso done!\n"
     ]
    },
    {
     "name": "stderr",
     "output_type": "stream",
     "text": [
      "C:\\Users\\kohei\\Anaconda3\\lib\\site-packages\\lightgbm\\basic.py:1205: UserWarning: Using categorical_feature in Dataset.\n",
      "  warnings.warn('Using categorical_feature in Dataset.')\n",
      "C:\\Users\\kohei\\Anaconda3\\lib\\site-packages\\lightgbm\\basic.py:762: UserWarning: categorical_feature in param dict is overridden.\n",
      "  warnings.warn('categorical_feature in param dict is overridden.')\n"
     ]
    },
    {
     "name": "stdout",
     "output_type": "stream",
     "text": [
      "Training until validation scores don't improve for 100 rounds.\n",
      "[1000]\ttraining's l1: 0.00413566\tvalid_1's l1: 0.00614135\n",
      "[2000]\ttraining's l1: 0.00289225\tvalid_1's l1: 0.00578993\n",
      "[3000]\ttraining's l1: 0.00220101\tvalid_1's l1: 0.00566651\n",
      "[4000]\ttraining's l1: 0.00174372\tvalid_1's l1: 0.00560202\n",
      "[5000]\ttraining's l1: 0.00142259\tvalid_1's l1: 0.00556764\n",
      "[6000]\ttraining's l1: 0.00118616\tvalid_1's l1: 0.00554574\n",
      "[7000]\ttraining's l1: 0.00100727\tvalid_1's l1: 0.00553264\n",
      "[8000]\ttraining's l1: 0.000869099\tvalid_1's l1: 0.0055233\n",
      "[9000]\ttraining's l1: 0.000760447\tvalid_1's l1: 0.00551743\n",
      "[10000]\ttraining's l1: 0.000672976\tvalid_1's l1: 0.00551287\n",
      "Did not meet early stopping. Best iteration is:\n",
      "[10000]\ttraining's l1: 0.000672976\tvalid_1's l1: 0.00551287\n",
      "Training until validation scores don't improve for 100 rounds.\n",
      "[1000]\ttraining's l1: 0.00410459\tvalid_1's l1: 0.00611575\n",
      "[2000]\ttraining's l1: 0.00287265\tvalid_1's l1: 0.00577474\n",
      "[3000]\ttraining's l1: 0.00218487\tvalid_1's l1: 0.00565009\n",
      "[4000]\ttraining's l1: 0.0017332\tvalid_1's l1: 0.00559102\n",
      "[5000]\ttraining's l1: 0.00141538\tvalid_1's l1: 0.0055594\n",
      "[6000]\ttraining's l1: 0.00118048\tvalid_1's l1: 0.00553996\n",
      "[7000]\ttraining's l1: 0.00100281\tvalid_1's l1: 0.00552718\n",
      "[8000]\ttraining's l1: 0.000865674\tvalid_1's l1: 0.00551857\n",
      "[9000]\ttraining's l1: 0.000756746\tvalid_1's l1: 0.00551208\n",
      "[10000]\ttraining's l1: 0.000670035\tvalid_1's l1: 0.00550803\n",
      "Did not meet early stopping. Best iteration is:\n",
      "[10000]\ttraining's l1: 0.000670035\tvalid_1's l1: 0.00550803\n",
      "5 for dso done!\n"
     ]
    },
    {
     "name": "stderr",
     "output_type": "stream",
     "text": [
      "C:\\Users\\kohei\\Anaconda3\\lib\\site-packages\\lightgbm\\basic.py:1205: UserWarning: Using categorical_feature in Dataset.\n",
      "  warnings.warn('Using categorical_feature in Dataset.')\n",
      "C:\\Users\\kohei\\Anaconda3\\lib\\site-packages\\lightgbm\\basic.py:762: UserWarning: categorical_feature in param dict is overridden.\n",
      "  warnings.warn('categorical_feature in param dict is overridden.')\n"
     ]
    },
    {
     "name": "stdout",
     "output_type": "stream",
     "text": [
      "Training until validation scores don't improve for 100 rounds.\n",
      "[1000]\ttraining's l1: 0.00873696\tvalid_1's l1: 0.0175194\n",
      "[2000]\ttraining's l1: 0.00505537\tvalid_1's l1: 0.0169767\n",
      "[3000]\ttraining's l1: 0.00327045\tvalid_1's l1: 0.0168253\n",
      "[4000]\ttraining's l1: 0.00226282\tvalid_1's l1: 0.0167667\n",
      "[5000]\ttraining's l1: 0.00164986\tvalid_1's l1: 0.0167353\n",
      "[6000]\ttraining's l1: 0.00125591\tvalid_1's l1: 0.0167195\n",
      "[7000]\ttraining's l1: 0.000992151\tvalid_1's l1: 0.0167111\n",
      "[8000]\ttraining's l1: 0.000810777\tvalid_1's l1: 0.016706\n",
      "[9000]\ttraining's l1: 0.000682379\tvalid_1's l1: 0.0167031\n",
      "[10000]\ttraining's l1: 0.000592892\tvalid_1's l1: 0.0167007\n",
      "Did not meet early stopping. Best iteration is:\n",
      "[10000]\ttraining's l1: 0.000592892\tvalid_1's l1: 0.0167007\n",
      "Training until validation scores don't improve for 100 rounds.\n",
      "[1000]\ttraining's l1: 0.00886493\tvalid_1's l1: 0.0178989\n",
      "[2000]\ttraining's l1: 0.00511511\tvalid_1's l1: 0.017332\n",
      "[3000]\ttraining's l1: 0.00329345\tvalid_1's l1: 0.0171804\n",
      "[4000]\ttraining's l1: 0.0022789\tvalid_1's l1: 0.0171189\n",
      "[5000]\ttraining's l1: 0.00165854\tvalid_1's l1: 0.0170854\n",
      "[6000]\ttraining's l1: 0.00126141\tvalid_1's l1: 0.0170713\n",
      "[7000]\ttraining's l1: 0.000996688\tvalid_1's l1: 0.0170614\n",
      "[8000]\ttraining's l1: 0.000813364\tvalid_1's l1: 0.0170559\n",
      "[9000]\ttraining's l1: 0.000685028\tvalid_1's l1: 0.017052\n",
      "[10000]\ttraining's l1: 0.000594101\tvalid_1's l1: 0.0170497\n",
      "Did not meet early stopping. Best iteration is:\n",
      "[10000]\ttraining's l1: 0.000594101\tvalid_1's l1: 0.0170497\n",
      "6 for dso done!\n"
     ]
    },
    {
     "name": "stderr",
     "output_type": "stream",
     "text": [
      "C:\\Users\\kohei\\Anaconda3\\lib\\site-packages\\lightgbm\\basic.py:1205: UserWarning: Using categorical_feature in Dataset.\n",
      "  warnings.warn('Using categorical_feature in Dataset.')\n",
      "C:\\Users\\kohei\\Anaconda3\\lib\\site-packages\\lightgbm\\basic.py:762: UserWarning: categorical_feature in param dict is overridden.\n",
      "  warnings.warn('categorical_feature in param dict is overridden.')\n"
     ]
    },
    {
     "name": "stdout",
     "output_type": "stream",
     "text": [
      "Training until validation scores don't improve for 100 rounds.\n",
      "[1000]\ttraining's l1: 0.00465732\tvalid_1's l1: 0.0063532\n",
      "[2000]\ttraining's l1: 0.00339256\tvalid_1's l1: 0.00592575\n",
      "[3000]\ttraining's l1: 0.00266304\tvalid_1's l1: 0.00576371\n",
      "[4000]\ttraining's l1: 0.00216638\tvalid_1's l1: 0.00567583\n",
      "[5000]\ttraining's l1: 0.00180807\tvalid_1's l1: 0.00563248\n",
      "[6000]\ttraining's l1: 0.00153341\tvalid_1's l1: 0.00560154\n",
      "[7000]\ttraining's l1: 0.00131824\tvalid_1's l1: 0.00558118\n",
      "[8000]\ttraining's l1: 0.00114691\tvalid_1's l1: 0.00556675\n",
      "[9000]\ttraining's l1: 0.00100828\tvalid_1's l1: 0.00555638\n",
      "[10000]\ttraining's l1: 0.000894348\tvalid_1's l1: 0.00554806\n",
      "Did not meet early stopping. Best iteration is:\n",
      "[10000]\ttraining's l1: 0.000894348\tvalid_1's l1: 0.00554806\n",
      "Training until validation scores don't improve for 100 rounds.\n",
      "[1000]\ttraining's l1: 0.00468534\tvalid_1's l1: 0.00637373\n",
      "[2000]\ttraining's l1: 0.00341213\tvalid_1's l1: 0.00595095\n",
      "[3000]\ttraining's l1: 0.0026763\tvalid_1's l1: 0.005781\n",
      "[4000]\ttraining's l1: 0.00217659\tvalid_1's l1: 0.00569484\n",
      "[5000]\ttraining's l1: 0.00181455\tvalid_1's l1: 0.0056467\n",
      "[6000]\ttraining's l1: 0.00153682\tvalid_1's l1: 0.00561413\n",
      "[7000]\ttraining's l1: 0.00132146\tvalid_1's l1: 0.00559423\n",
      "[8000]\ttraining's l1: 0.0011501\tvalid_1's l1: 0.00557957\n",
      "[9000]\ttraining's l1: 0.00101066\tvalid_1's l1: 0.00556984\n",
      "[10000]\ttraining's l1: 0.00089668\tvalid_1's l1: 0.00556189\n",
      "Did not meet early stopping. Best iteration is:\n",
      "[10000]\ttraining's l1: 0.00089668\tvalid_1's l1: 0.00556189\n",
      "7 for dso done!\n"
     ]
    },
    {
     "name": "stderr",
     "output_type": "stream",
     "text": [
      "C:\\Users\\kohei\\Anaconda3\\lib\\site-packages\\lightgbm\\basic.py:1205: UserWarning: Using categorical_feature in Dataset.\n",
      "  warnings.warn('Using categorical_feature in Dataset.')\n",
      "C:\\Users\\kohei\\Anaconda3\\lib\\site-packages\\lightgbm\\basic.py:762: UserWarning: categorical_feature in param dict is overridden.\n",
      "  warnings.warn('categorical_feature in param dict is overridden.')\n"
     ]
    },
    {
     "name": "stdout",
     "output_type": "stream",
     "text": [
      "Training until validation scores don't improve for 100 rounds.\n",
      "[1000]\ttraining's l1: 0.00069678\tvalid_1's l1: 0.00226568\n",
      "[2000]\ttraining's l1: 0.000534306\tvalid_1's l1: 0.00224381\n",
      "[3000]\ttraining's l1: 0.000479873\tvalid_1's l1: 0.00223711\n",
      "Early stopping, best iteration is:\n",
      "[3479]\ttraining's l1: 0.000464216\tvalid_1's l1: 0.00223516\n",
      "Training until validation scores don't improve for 100 rounds.\n",
      "[1000]\ttraining's l1: 0.000693286\tvalid_1's l1: 0.00227561\n",
      "[2000]\ttraining's l1: 0.000532638\tvalid_1's l1: 0.0022542\n",
      "[3000]\ttraining's l1: 0.000479084\tvalid_1's l1: 0.00224751\n",
      "Early stopping, best iteration is:\n",
      "[3061]\ttraining's l1: 0.000476841\tvalid_1's l1: 0.00224702\n",
      "8 for dso done!\n"
     ]
    }
   ],
   "source": [
    "oof_train = pd.DataFrame()\n",
    "oof_test = pd.DataFrame()\n",
    "\n",
    "\n",
    "for col in ['fc', 'sd', 'pso', 'dso']:\n",
    "    \n",
    "    target = contri[col]\n",
    "    \n",
    "    oof_type = np.zeros(len(X_train))\n",
    "    pred_type = np.zeros(len(X_test))\n",
    "    \n",
    "    for cur_type in np.unique(train_types):\n",
    "        cur_type_idx_train = (train_types == cur_type)\n",
    "        cur_type_idx_test = (test_types == cur_type)\n",
    "\n",
    "        cur_type_train = X_train.iloc[cur_type_idx_train]\n",
    "        cur_type_test = X_test.iloc[cur_type_idx_test]\n",
    "        cur_type_target = target.iloc[cur_type_idx_train]\n",
    "        cur_type_mols = contri['molecule_name'].iloc[cur_type_idx_train]\n",
    "        \n",
    "    \n",
    "        kf = GroupKFold(n_splits=2)\n",
    "    \n",
    "        oof = np.zeros(len(cur_type_train))\n",
    "        pred = np.zeros(len(cur_type_test))\n",
    "        \n",
    "        \n",
    "        SEED = 42\n",
    "        NUM_ROUNDS = 10000\n",
    "        \n",
    "        params = {\n",
    "                    \"num_leaves\": 100,\n",
    "                    \"min_data_in_leaf\": 100,\n",
    "                    \"objective\": \"regression\",\n",
    "                    \"max_depth\": 10,\n",
    "                    \"learning_rate\": 0.2,\n",
    "                    \"boosting_type\": \"gbdt\",\n",
    "                    \"subsample_freq\": 1,\n",
    "                    \"subsample\": 0.9,\n",
    "                    \"metric\": \"mae\",\n",
    "                    \"reg_alpha\": 0.1,\n",
    "                    \"reg_lambda\": 0.3, \n",
    "                    \"colsample_bytree\": 0.9\n",
    "                    }\n",
    "\n",
    "        for train_idx, val_idx in kf.split(cur_type_train, groups=cur_type_mols):\n",
    "            train_data = lgb.Dataset(cur_type_train.iloc[train_idx], label=cur_type_target.iloc[train_idx], categorical_feature=categorical_cols)\n",
    "            val_data = lgb.Dataset(cur_type_train.iloc[val_idx], label=cur_type_target.iloc[val_idx], categorical_feature=categorical_cols)\n",
    "            clf = lgb.train(params, train_data, NUM_ROUNDS, valid_sets=[train_data, val_data],\n",
    "                            verbose_eval=1000, early_stopping_rounds=100)\n",
    "            oof[val_idx] = clf.predict(cur_type_train.iloc[val_idx], num_iteration=clf.best_iteration)\n",
    "            pred += clf.predict(cur_type_test, num_iteration=clf.best_iteration) / kf.n_splits\n",
    "\n",
    "        oof_type[cur_type_idx_train] = oof\n",
    "        pred_type[cur_type_idx_test] = pred\n",
    "        \n",
    "        print(f'{cur_type} for {col} done!')\n",
    "        \n",
    "    oof_train[col] = oof_type\n",
    "    oof_test[col] = pred_type"
   ]
  },
  {
   "cell_type": "code",
   "execution_count": null,
   "metadata": {},
   "outputs": [],
   "source": []
  },
  {
   "cell_type": "code",
   "execution_count": null,
   "metadata": {},
   "outputs": [],
   "source": []
  },
  {
   "cell_type": "code",
   "execution_count": null,
   "metadata": {},
   "outputs": [],
   "source": []
  },
  {
   "cell_type": "code",
   "execution_count": null,
   "metadata": {},
   "outputs": [],
   "source": []
  },
  {
   "cell_type": "code",
   "execution_count": 14,
   "metadata": {},
   "outputs": [
    {
     "data": {
      "text/plain": [
       "((4658147, 4), (2505542, 4))"
      ]
     },
     "execution_count": 14,
     "metadata": {},
     "output_type": "execute_result"
    }
   ],
   "source": [
    "oof_train.shape, oof_test.shape"
   ]
  },
  {
   "cell_type": "code",
   "execution_count": 15,
   "metadata": {},
   "outputs": [
    {
     "data": {
      "text/plain": [
       "fc     0\n",
       "sd     0\n",
       "pso    0\n",
       "dso    0\n",
       "dtype: int64"
      ]
     },
     "execution_count": 15,
     "metadata": {},
     "output_type": "execute_result"
    }
   ],
   "source": [
    "oof_train.isnull().sum()"
   ]
  },
  {
   "cell_type": "code",
   "execution_count": null,
   "metadata": {},
   "outputs": [],
   "source": []
  },
  {
   "cell_type": "code",
   "execution_count": 16,
   "metadata": {},
   "outputs": [],
   "source": [
    "oof_train.to_feather('../features/ScalarCouplingContributionsOof5_train.feather')\n",
    "oof_test.to_feather('../features/ScalarCouplingContributionsOof5_test.feather')"
   ]
  },
  {
   "cell_type": "code",
   "execution_count": null,
   "metadata": {},
   "outputs": [],
   "source": []
  }
 ],
 "metadata": {
  "kernelspec": {
   "display_name": "Python 3",
   "language": "python",
   "name": "python3"
  },
  "language_info": {
   "codemirror_mode": {
    "name": "ipython",
    "version": 3
   },
   "file_extension": ".py",
   "mimetype": "text/x-python",
   "name": "python",
   "nbconvert_exporter": "python",
   "pygments_lexer": "ipython3",
   "version": "3.6.6"
  }
 },
 "nbformat": 4,
 "nbformat_minor": 2
}
